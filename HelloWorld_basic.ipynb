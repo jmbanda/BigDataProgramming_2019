{
  "nbformat": 4,
  "nbformat_minor": 0,
  "metadata": {
    "colab": {
      "name": "HelloWorld_basic.ipynb",
      "version": "0.3.2",
      "provenance": [],
      "include_colab_link": true
    },
    "kernelspec": {
      "name": "python3",
      "display_name": "Python 3"
    }
  },
  "cells": [
    {
      "cell_type": "markdown",
      "metadata": {
        "id": "view-in-github",
        "colab_type": "text"
      },
      "source": [
        "<a href=\"https://colab.research.google.com/github/jmbanda/BigDataProgramming_2019/blob/master/HelloWorld_basic.ipynb\" target=\"_parent\"><img src=\"https://colab.research.google.com/assets/colab-badge.svg\" alt=\"Open In Colab\"/></a>"
      ]
    },
    {
      "cell_type": "markdown",
      "metadata": {
        "id": "WiDAteatal-g",
        "colab_type": "text"
      },
      "source": [
        "This first code block is for Spark to work in Google Colab, skip if you are running on your own VM."
      ]
    },
    {
      "cell_type": "code",
      "metadata": {
        "id": "76kKnw1faDsP",
        "colab_type": "code",
        "colab": {}
      },
      "source": [
        "!apt-get install openjdk-8-jdk-headless -qq > /dev/null\n",
        "!wget -q https://www-us.apache.org/dist/spark/spark-2.4.4/spark-2.4.4-bin-hadoop2.7.tgz\n",
        "!tar xf spark-2.4.4-bin-hadoop2.7.tgz\n",
        "!pip install -q findspark\n",
        "import os\n",
        "os.environ[\"JAVA_HOME\"] = \"/usr/lib/jvm/java-8-openjdk-amd64\"\n",
        "os.environ[\"SPARK_HOME\"] = \"/content/spark-2.4.4-bin-hadoop2.7\"\n",
        "import findspark\n",
        "findspark.init()"
      ],
      "execution_count": 0,
      "outputs": []
    },
    {
      "cell_type": "markdown",
      "metadata": {
        "id": "ut2wmJLaasrd",
        "colab_type": "text"
      },
      "source": [
        "Start from here if you are working on your own VM"
      ]
    },
    {
      "cell_type": "code",
      "metadata": {
        "id": "7SMp4w2KaRkE",
        "colab_type": "code",
        "colab": {
          "base_uri": "https://localhost:8080/",
          "height": 153
        },
        "outputId": "c2d1e7b2-c707-43ed-fab9-c55d5fad4956"
      },
      "source": [
        "from pyspark import SparkContext\n",
        "from operator import add\n",
        " \n",
        "sc = SparkContext.getOrCreate()\n",
        "data = sc.parallelize(list(\"Hello World\"))\n",
        "counts = data.map(lambda x: (x, 1)).reduceByKey(add).sortBy(lambda x: x[1], ascending=False).collect()\n",
        "for (word, count) in counts:\n",
        "    print(\"{}: {}\".format(word, count))\n",
        "sc.stop()"
      ],
      "execution_count": 2,
      "outputs": [
        {
          "output_type": "stream",
          "text": [
            "l: 3\n",
            "o: 2\n",
            "W: 1\n",
            "r: 1\n",
            "d: 1\n",
            "H: 1\n",
            "e: 1\n",
            " : 1\n"
          ],
          "name": "stdout"
        }
      ]
    }
  ]
}