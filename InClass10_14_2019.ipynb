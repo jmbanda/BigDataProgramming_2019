{
  "nbformat": 4,
  "nbformat_minor": 0,
  "metadata": {
    "colab": {
      "name": "InClass10-14/2019.ipynb",
      "provenance": [],
      "include_colab_link": true
    },
    "kernelspec": {
      "name": "python3",
      "display_name": "Python 3"
    }
  },
  "cells": [
    {
      "cell_type": "markdown",
      "metadata": {
        "id": "view-in-github",
        "colab_type": "text"
      },
      "source": [
        "<a href=\"https://colab.research.google.com/github/jmbanda/BigDataProgramming_2019/blob/master/InClass10_14_2019.ipynb\" target=\"_parent\"><img src=\"https://colab.research.google.com/assets/colab-badge.svg\" alt=\"Open In Colab\"/></a>"
      ]
    },
    {
      "cell_type": "markdown",
      "metadata": {
        "id": "8ShHqayq1YGw",
        "colab_type": "text"
      },
      "source": [
        "# In Class Assignment Notebook\n",
        "\n",
        "Please submit the ipynb file at the end of the day for credit"
      ]
    },
    {
      "cell_type": "markdown",
      "metadata": {
        "id": "QafJ0kuo24SP",
        "colab_type": "text"
      },
      "source": [
        "# Excercise #1"
      ]
    },
    {
      "cell_type": "code",
      "metadata": {
        "colab_type": "code",
        "id": "puF_bd-X14_n",
        "colab": {}
      },
      "source": [
        "# Create a series of your choice and explore it\n",
        "# <your code goes here>"
      ],
      "execution_count": 0,
      "outputs": []
    },
    {
      "cell_type": "markdown",
      "metadata": {
        "id": "KjqN6twf2ywn",
        "colab_type": "text"
      },
      "source": [
        "# Excercise #2"
      ]
    },
    {
      "cell_type": "code",
      "metadata": {
        "id": "b9GB4lx0xbT9",
        "colab_type": "code",
        "colab": {}
      },
      "source": [
        "#Display first 10 records\n",
        "# <your code goes here>"
      ],
      "execution_count": 0,
      "outputs": []
    },
    {
      "cell_type": "code",
      "metadata": {
        "id": "f_K7Wd0JxbT-",
        "colab_type": "code",
        "colab": {}
      },
      "source": [
        "#Display first 20 records\n",
        "# <your code goes here>"
      ],
      "execution_count": 0,
      "outputs": []
    },
    {
      "cell_type": "code",
      "metadata": {
        "id": "IOWTAkXuxbUA",
        "colab_type": "code",
        "colab": {}
      },
      "source": [
        "#Display the last 5 records\n",
        "# <your code goes here>"
      ],
      "execution_count": 0,
      "outputs": []
    },
    {
      "cell_type": "markdown",
      "metadata": {
        "id": "QpvAOh1rxbUP",
        "colab_type": "text"
      },
      "source": [
        "# Exercise #3"
      ]
    },
    {
      "cell_type": "code",
      "metadata": {
        "id": "B_HufIufxbUR",
        "colab_type": "code",
        "colab": {}
      },
      "source": [
        "#Calculate the standard deviation (std() method) for all numeric columns\n",
        "# <your code goes here>"
      ],
      "execution_count": 0,
      "outputs": []
    },
    {
      "cell_type": "code",
      "metadata": {
        "id": "c5G7pDnhxbUS",
        "colab_type": "code",
        "colab": {}
      },
      "source": [
        "#Calculate average of the columns in the first 50 rows\n",
        "# <your code goes here>"
      ],
      "execution_count": 0,
      "outputs": []
    },
    {
      "cell_type": "markdown",
      "metadata": {
        "id": "me4Dg7YQG2Qd",
        "colab_type": "text"
      },
      "source": [
        "# Excercise #4"
      ]
    },
    {
      "cell_type": "code",
      "metadata": {
        "id": "b--lOsFLxbUY",
        "colab_type": "code",
        "colab": {}
      },
      "source": [
        "#Calculate the basic statistics for the salary column (used describe() method)\n",
        "# <your code goes here>"
      ],
      "execution_count": 0,
      "outputs": []
    },
    {
      "cell_type": "code",
      "metadata": {
        "id": "PIjeXB4exbUZ",
        "colab_type": "code",
        "colab": {}
      },
      "source": [
        "#Calculate how many values in the salary column (use count() method)\n",
        "# <your code goes here>"
      ],
      "execution_count": 0,
      "outputs": []
    },
    {
      "cell_type": "code",
      "metadata": {
        "id": "aE6f8H_cxbUa",
        "colab_type": "code",
        "colab": {}
      },
      "source": [
        "#Calculate the average salary\n",
        "# <your code goes here>"
      ],
      "execution_count": 0,
      "outputs": []
    },
    {
      "cell_type": "code",
      "metadata": {
        "id": "yaW1_ssbHl-M",
        "colab_type": "code",
        "colab": {}
      },
      "source": [
        "# Group data by the discipline and find the average salary for each group\n",
        "# <your code goes here>"
      ],
      "execution_count": 0,
      "outputs": []
    },
    {
      "cell_type": "markdown",
      "metadata": {
        "id": "JuSql5R_HGyf",
        "colab_type": "text"
      },
      "source": [
        "# Excercise #5"
      ]
    },
    {
      "cell_type": "code",
      "metadata": {
        "id": "dMbeNv1hxbUq",
        "colab_type": "code",
        "colab": {}
      },
      "source": [
        "# Extract (filter) only observations with high salary ( > 100K) and find how many female and male professors in each group\n",
        "# <your code goes here>"
      ],
      "execution_count": 0,
      "outputs": []
    },
    {
      "cell_type": "code",
      "metadata": {
        "id": "mp6N3UQixbU9",
        "colab_type": "code",
        "colab": {}
      },
      "source": [
        "# Sort data frame by the salary (in descending order) and display the first few records of the output (head)\n",
        "# <your code goes here>"
      ],
      "execution_count": 0,
      "outputs": []
    },
    {
      "cell_type": "code",
      "metadata": {
        "id": "HTxR_IcWxbVE",
        "colab_type": "code",
        "colab": {}
      },
      "source": [
        "# Count how many missing data are in dep_delay and arr_delay columns\n",
        "# <your code goes here>\n"
      ],
      "execution_count": 0,
      "outputs": []
    }
  ]
}