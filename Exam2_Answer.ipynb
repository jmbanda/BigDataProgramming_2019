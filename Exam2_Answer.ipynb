{
  "nbformat": 4,
  "nbformat_minor": 0,
  "metadata": {
    "colab": {
      "name": "Exam2-Answer.ipynb",
      "provenance": [],
      "include_colab_link": true
    },
    "kernelspec": {
      "name": "python3",
      "display_name": "Python 3"
    }
  },
  "cells": [
    {
      "cell_type": "markdown",
      "metadata": {
        "id": "view-in-github",
        "colab_type": "text"
      },
      "source": [
        "<a href=\"https://colab.research.google.com/github/jmbanda/BigDataProgramming_2019/blob/master/Exam2_Answer.ipynb\" target=\"_parent\"><img src=\"https://colab.research.google.com/assets/colab-badge.svg\" alt=\"Open In Colab\"/></a>"
      ]
    },
    {
      "cell_type": "markdown",
      "metadata": {
        "id": "8y4oFC_FQxLZ",
        "colab_type": "text"
      },
      "source": [
        "# Exam 2 - 11/6/2019\n",
        "\n",
        "**What can you use:**\n",
        "\n",
        "1) Anything...... that can be stored locally on your computer. No internet usage will be allowed, you will have to disable it during the exam. \n",
        "\n",
        "2) All slides, notebooks, examples you can find, etc. is fair game. But they have to be found offline (locally in your computer).\n",
        "\n",
        "3) Printouts .... if you want. \n",
        "\n",
        "**What is not allowed:**\n",
        "\n",
        "1) Cellphones, radios, any device that can be used to communicate. \n",
        "\n",
        "2) Headphones, by any means unless  they are required for medical reasons (need to present formal justification)\n",
        "\n",
        "3) Browsing the internet at all or using any messaging apps. I will be walking around to make sure this is not happening.\n",
        "\n",
        "3) Any talking or verbal/non-verbal communication between students. You should only communicate with the professor. \n",
        "\n",
        "IMPORTANT: Cheating will not be tolerated and will be punished with an academic dishonesty report, transcript annotation, and immediate failing of the course.  Do not risk your grade and course standing for getting a few extra points.\n",
        "\n",
        "**What to submit:**\n",
        "\n",
        "One single ZIP file named StudentName-Exam2.zip with the following contents:\n",
        "\n",
        "- PDF file with all answers displayed\n",
        "- Notebook ipnyb file with non-executed code blocks (clean them before submitting)\n",
        "\n",
        "Failure to follow directions will result in a loss of points. If we can't read your ipnyb file, you will get a zero for the exam.\n",
        "\n",
        "Submission will be done via iCollege, in front of the instructor."
      ]
    },
    {
      "cell_type": "markdown",
      "metadata": {
        "id": "G1X7h2W7SqXs",
        "colab_type": "text"
      },
      "source": [
        "# Student Name:\n",
        "\n",
        "Please write your full name and student id in the following text block:"
      ]
    },
    {
      "cell_type": "markdown",
      "metadata": {
        "id": "jXcs5c_oSjSu",
        "colab_type": "text"
      },
      "source": [
        "*Answer goes here*"
      ]
    },
    {
      "cell_type": "markdown",
      "metadata": {
        "id": "8z5j5QADS4f0",
        "colab_type": "text"
      },
      "source": [
        "# Theory Section\n",
        "\n",
        "*Please type your answer on the assigned text block underneath each question.*\n",
        "\n",
        "**Question 1 (5 points): What does CRUD stand for?**"
      ]
    },
    {
      "cell_type": "markdown",
      "metadata": {
        "id": "QLYf0UmWTrhz",
        "colab_type": "text"
      },
      "source": [
        "*   Create \n",
        "*   Read \n",
        "*   Update \n",
        "*   Delete"
      ]
    },
    {
      "cell_type": "markdown",
      "metadata": {
        "id": "0QuDewrXTt35",
        "colab_type": "text"
      },
      "source": [
        "**Question 2 (5 points): What does it mean for a database transaction to be isolated? (explain)**"
      ]
    },
    {
      "cell_type": "markdown",
      "metadata": {
        "colab_type": "text",
        "id": "1jcexwokUAL2"
      },
      "source": [
        "*A set of TXNs is isolated if their eﬀect is as if all were executed serially*"
      ]
    },
    {
      "cell_type": "markdown",
      "metadata": {
        "id": "VLZQFSHqVKmx",
        "colab_type": "text"
      },
      "source": [
        "**Question 3 (5 points): What is the purpose of foreign keys in a database?**"
      ]
    },
    {
      "cell_type": "markdown",
      "metadata": {
        "colab_type": "text",
        "id": "dw1yTOukWdv2"
      },
      "source": [
        "*An identiﬁer for a column on a table that links it to another table in a database*"
      ]
    },
    {
      "cell_type": "markdown",
      "metadata": {
        "id": "Z3S9XL6JWlxZ",
        "colab_type": "text"
      },
      "source": [
        "**Question 4 (5 points): Can you have a database with no primary keys? Explain your answer.**"
      ]
    },
    {
      "cell_type": "markdown",
      "metadata": {
        "colab_type": "text",
        "id": "0Dsfs0xOWeaB"
      },
      "source": [
        "*Yes, but you should not do this as there won't be any relational advantages*"
      ]
    },
    {
      "cell_type": "markdown",
      "metadata": {
        "id": "h54Bg-tl-Gv0",
        "colab_type": "text"
      },
      "source": [
        "# Practical Section\n",
        "\n",
        "**Be sure to READ the entire set of instuctions before you start answering so you plan your code accordingly**"
      ]
    },
    {
      "cell_type": "markdown",
      "metadata": {
        "id": "NkQ81OXo29lp",
        "colab_type": "text"
      },
      "source": [
        "With the dataset found with the exam notebook. Build the following models. Please use the provided code sections for all your code.\n",
        "\n",
        "*Using 80% of the dataset for training and 20% for testing* - with a RandomState = 0. (Pay close attention to this or all your numbers might not match the solution key).\n",
        "\n",
        "**Model 1**) Use a pipeline to use the appropiate feature extraction module and train a **multi-nomial Naive Bayes** model. Parameters needed: None.\n",
        "\n",
        "**Model 2**) Use a pipeline to use the appropiate feature extraction module and train a **Random Forest** model. Parameters needed: `n_estimators = 100, random_state = 0`.\n",
        "\n",
        "**Model 3**) Use a pipeline to use the appropiate feature extraction module and train a **Linear SVM** model. Parameters needed: `C=1E10, random_state = 0`\n",
        "\n",
        "**Model 4**) Use a pipeline to use the appropiate feature extraction module and train an **Non-linear SVM** model with an rbf kernel. Parameters needed: `C=1E6, random_state = 0, gamma='auto'`\n",
        "\n",
        "\n",
        "For each model you need to provide the following evaluations.\n",
        "\n",
        "a) **Confusion Matrix plot** (heatmap) with text labels (not numeric)\n",
        "\n",
        "b) **Classification report** with text labels (not numeric)\n",
        "\n",
        "c) **Additional required metrics**: *Accuracy, Mean Absolute Error, Mean Squared Error, Root Mean Squared Error.*\n",
        "\n",
        "At the end you need to provide a properly labeled table with the additional metric results for each model and sort it by the highest accuracy to the lowest."
      ]
    },
    {
      "cell_type": "markdown",
      "metadata": {
        "id": "OmXIVKQK-ZQ9",
        "colab_type": "text"
      },
      "source": [
        "**Place all the imports you might need in the following code block (5 points)**"
      ]
    },
    {
      "cell_type": "code",
      "metadata": {
        "id": "E4fb9_-S-ilX",
        "colab_type": "code",
        "colab": {}
      },
      "source": [
        "import numpy as np\n",
        "import pandas as pd\n",
        "import matplotlib.pyplot as plt\n",
        "import seaborn as sns\n",
        "sns.set()\n",
        "# sklearn imports\n",
        "from sklearn.model_selection import train_test_split\n",
        "from sklearn.feature_extraction.text import TfidfVectorizer\n",
        "# Model Imports\n",
        "from sklearn.naive_bayes import MultinomialNB\n",
        "from sklearn.ensemble import RandomForestClassifier\n",
        "from sklearn.svm import SVC\n",
        "from sklearn.pipeline import make_pipeline\n",
        "#Metrics Imports\n",
        "from sklearn import metrics\n",
        "from sklearn.metrics import confusion_matrix\n",
        "from sklearn.metrics import classification_report\n"
      ],
      "execution_count": 0,
      "outputs": []
    },
    {
      "cell_type": "markdown",
      "metadata": {
        "id": "JuKHPu8C-pi3",
        "colab_type": "text"
      },
      "source": [
        "**Load and investigate the dataset in the following code block (5 points)**"
      ]
    },
    {
      "cell_type": "code",
      "metadata": {
        "id": "7jABI6_0QUxN",
        "colab_type": "code",
        "outputId": "00270e8c-9fba-4073-f01b-e2b00c1e14fe",
        "colab": {
          "base_uri": "https://localhost:8080/",
          "height": 359
        }
      },
      "source": [
        "df = pd.read_csv (r'examDataset.csv')\n",
        "df_labels = df.drop(['document'],axis=1)\n",
        "df_labels = df_labels.drop_duplicates()\n",
        "df_labels.head(12)"
      ],
      "execution_count": 0,
      "outputs": [
        {
          "output_type": "execute_result",
          "data": {
            "text/html": [
              "<div>\n",
              "<style scoped>\n",
              "    .dataframe tbody tr th:only-of-type {\n",
              "        vertical-align: middle;\n",
              "    }\n",
              "\n",
              "    .dataframe tbody tr th {\n",
              "        vertical-align: top;\n",
              "    }\n",
              "\n",
              "    .dataframe thead th {\n",
              "        text-align: right;\n",
              "    }\n",
              "</style>\n",
              "<table border=\"1\" class=\"dataframe\">\n",
              "  <thead>\n",
              "    <tr style=\"text-align: right;\">\n",
              "      <th></th>\n",
              "      <th>targetNum</th>\n",
              "      <th>target</th>\n",
              "    </tr>\n",
              "  </thead>\n",
              "  <tbody>\n",
              "    <tr>\n",
              "      <th>0</th>\n",
              "      <td>1</td>\n",
              "      <td>comp.windows.x</td>\n",
              "    </tr>\n",
              "    <tr>\n",
              "      <th>1</th>\n",
              "      <td>3</td>\n",
              "      <td>rec.autos</td>\n",
              "    </tr>\n",
              "    <tr>\n",
              "      <th>2</th>\n",
              "      <td>4</td>\n",
              "      <td>rec.motorcycles</td>\n",
              "    </tr>\n",
              "    <tr>\n",
              "      <th>3</th>\n",
              "      <td>6</td>\n",
              "      <td>sci.med</td>\n",
              "    </tr>\n",
              "    <tr>\n",
              "      <th>4</th>\n",
              "      <td>7</td>\n",
              "      <td>soc.religion.christian</td>\n",
              "    </tr>\n",
              "    <tr>\n",
              "      <th>5</th>\n",
              "      <td>2</td>\n",
              "      <td>misc.forsale</td>\n",
              "    </tr>\n",
              "    <tr>\n",
              "      <th>7</th>\n",
              "      <td>0</td>\n",
              "      <td>comp.sys.ibm.pc.hardware</td>\n",
              "    </tr>\n",
              "    <tr>\n",
              "      <th>11</th>\n",
              "      <td>9</td>\n",
              "      <td>talk.politics.misc</td>\n",
              "    </tr>\n",
              "    <tr>\n",
              "      <th>28</th>\n",
              "      <td>5</td>\n",
              "      <td>sci.electronics</td>\n",
              "    </tr>\n",
              "    <tr>\n",
              "      <th>41</th>\n",
              "      <td>8</td>\n",
              "      <td>talk.politics.guns</td>\n",
              "    </tr>\n",
              "  </tbody>\n",
              "</table>\n",
              "</div>"
            ],
            "text/plain": [
              "    targetNum                    target\n",
              "0           1            comp.windows.x\n",
              "1           3                 rec.autos\n",
              "2           4           rec.motorcycles\n",
              "3           6                   sci.med\n",
              "4           7    soc.religion.christian\n",
              "5           2              misc.forsale\n",
              "7           0  comp.sys.ibm.pc.hardware\n",
              "11          9        talk.politics.misc\n",
              "28          5           sci.electronics\n",
              "41          8        talk.politics.guns"
            ]
          },
          "metadata": {
            "tags": []
          },
          "execution_count": 3
        }
      ]
    },
    {
      "cell_type": "markdown",
      "metadata": {
        "id": "fhscVeB8-1sX",
        "colab_type": "text"
      },
      "source": [
        "**Create your training and testing sets in the following code block (5 points)**"
      ]
    },
    {
      "cell_type": "code",
      "metadata": {
        "id": "X-8MgjwWdzzo",
        "colab_type": "code",
        "colab": {}
      },
      "source": [
        "X = df['document']\n",
        "y = df['target']\n",
        "yNum = df['targetNum']\n",
        "unique_labels = y.unique()\n",
        "X_train, X_test, y_train, y_test = train_test_split(X, yNum, test_size=0.2, random_state=0)"
      ],
      "execution_count": 0,
      "outputs": []
    },
    {
      "cell_type": "markdown",
      "metadata": {
        "id": "OnHw_UtXA-Ev",
        "colab_type": "text"
      },
      "source": [
        "## Model 1 - Naive Bayes Model Code Section"
      ]
    },
    {
      "cell_type": "markdown",
      "metadata": {
        "deletable": true,
        "editable": true,
        "id": "Y09f-32IViB0",
        "colab_type": "text"
      },
      "source": [
        "**Build the pipeline for Multi Nomial Naive Bayes Classifier, fit the model and predict on the test set in the following code block (15 points)**"
      ]
    },
    {
      "cell_type": "code",
      "metadata": {
        "deletable": true,
        "editable": true,
        "id": "R6b72OAxViB1",
        "colab_type": "code",
        "colab": {}
      },
      "source": [
        "model = make_pipeline(TfidfVectorizer(), MultinomialNB())\n",
        "model.fit(X_train, y_train)\n",
        "labels = model.predict(X_test)"
      ],
      "execution_count": 0,
      "outputs": []
    },
    {
      "cell_type": "markdown",
      "metadata": {
        "id": "uZTgxVLy_YzW",
        "colab_type": "text"
      },
      "source": [
        "**Confusion Matrix plot (heatmap) for Naive Bayes model code and result goes in the following code block. Note: The class names should show in the plot, not the class numbers (10 points)**"
      ]
    },
    {
      "cell_type": "code",
      "metadata": {
        "id": "cACD0eWi_aQ_",
        "colab_type": "code",
        "outputId": "96ca5248-9dae-427c-8f75-ae7b82a78c0b",
        "colab": {
          "base_uri": "https://localhost:8080/",
          "height": 430
        }
      },
      "source": [
        "mat = confusion_matrix(y_test, labels)\n",
        "sns.heatmap(mat.T, square=True, annot=True, fmt='d', cbar=False, xticklabels=unique_labels, yticklabels=unique_labels)\n",
        "plt.xlabel('true label')\n",
        "plt.ylabel('predicted label');"
      ],
      "execution_count": 0,
      "outputs": [
        {
          "output_type": "display_data",
          "data": {
            "image/png": "[encoded data removed]",
            "text/plain": [
              "<Figure size 432x288 with 1 Axes>"
            ]
          },
          "metadata": {
            "tags": []
          }
        }
      ]
    },
    {
      "cell_type": "markdown",
      "metadata": {
        "id": "uPwpHm9N0yPv",
        "colab_type": "text"
      },
      "source": [
        "**Clasiffication Report for Naive Bayes Model goes in the following code block. Note: The class names should show in the report, not the class numbers. (10 points)**"
      ]
    },
    {
      "cell_type": "code",
      "metadata": {
        "id": "HgjpibWdiQWh",
        "colab_type": "code",
        "outputId": "c6eef05b-baa1-477a-9d71-280dc65b4fc9",
        "colab": {
          "base_uri": "https://localhost:8080/",
          "height": 306
        }
      },
      "source": [
        "print(classification_report(y_test, labels, target_names=unique_labels))"
      ],
      "execution_count": 0,
      "outputs": [
        {
          "output_type": "stream",
          "text": [
            "                          precision    recall  f1-score   support\n",
            "\n",
            "          comp.windows.x       0.87      0.92      0.90       119\n",
            "               rec.autos       0.97      0.94      0.96       119\n",
            "         rec.motorcycles       0.95      0.62      0.75       133\n",
            "                 sci.med       0.82      0.88      0.85       126\n",
            "  soc.religion.christian       0.93      0.94      0.93       125\n",
            "            misc.forsale       0.82      0.86      0.84       104\n",
            "comp.sys.ibm.pc.hardware       0.96      0.90      0.93       119\n",
            "      talk.politics.misc       0.81      0.99      0.89       122\n",
            "         sci.electronics       0.73      1.00      0.84        95\n",
            "      talk.politics.guns       0.98      0.70      0.82        89\n",
            "\n",
            "                accuracy                           0.87      1151\n",
            "               macro avg       0.89      0.87      0.87      1151\n",
            "            weighted avg       0.89      0.87      0.87      1151\n",
            "\n"
          ],
          "name": "stdout"
        }
      ]
    },
    {
      "cell_type": "markdown",
      "metadata": {
        "id": "2nT2Ob7a0tCo",
        "colab_type": "text"
      },
      "source": [
        "**Code and result to print required metrics for Naive Bayes Model goes in the following code block. Note: Label every metric properly (10 points)**"
      ]
    },
    {
      "cell_type": "code",
      "metadata": {
        "id": "IerxeZ0tz2En",
        "colab_type": "code",
        "outputId": "10cd4f2a-695b-4c8f-ca8c-1031f46ede14",
        "colab": {
          "base_uri": "https://localhost:8080/",
          "height": 85
        }
      },
      "source": [
        "print('Accuracy:', metrics.accuracy_score(y_test,labels))\n",
        "print('Mean Absolute Error:', metrics.mean_absolute_error(y_test,labels))\n",
        "print('Mean Squared Error:', metrics.mean_squared_error(y_test, labels))  \n",
        "print('Root Mean Squared Error:', np.sqrt(metrics.mean_squared_error(y_test, labels)))\n",
        "results_1= {'Experiment': 'Naive Bayes', 'Accuracy' : metrics.accuracy_score(y_test,labels), 'MAE': metrics.mean_absolute_error(y_test,labels), 'MSE':metrics.mean_squared_error(y_test,labels)  , 'RMSE':np.sqrt(metrics.mean_squared_error(y_test,labels)), 'MS':metrics.accuracy_score(y_test,labels)}\n"
      ],
      "execution_count": 0,
      "outputs": [
        {
          "output_type": "stream",
          "text": [
            "Accuracy: 0.8748913987836664\n",
            "Mean Absolute Error: 0.3197219808861859\n",
            "Mean Squared Error: 1.1920069504778454\n",
            "Root Mean Squared Error: 1.0917907081844238\n"
          ],
          "name": "stdout"
        }
      ]
    },
    {
      "cell_type": "markdown",
      "metadata": {
        "id": "6BOfI3swBX59",
        "colab_type": "text"
      },
      "source": [
        "## Model 2 - Random Forest"
      ]
    },
    {
      "cell_type": "markdown",
      "metadata": {
        "id": "xII5wdbpk1Ng",
        "colab_type": "text"
      },
      "source": [
        "**Build the pipeline for Random Forest Classifier, fit the model and predict on the test set in the following code block (15 points)**"
      ]
    },
    {
      "cell_type": "code",
      "metadata": {
        "id": "KXS6YApDkp9K",
        "colab_type": "code",
        "colab": {}
      },
      "source": [
        "model = make_pipeline(TfidfVectorizer(), RandomForestClassifier(n_estimators = 100, random_state = 0))\n",
        "\n",
        "model.fit(X_train, y_train)\n",
        "labels = model.predict(X_test)"
      ],
      "execution_count": 0,
      "outputs": []
    },
    {
      "cell_type": "markdown",
      "metadata": {
        "id": "3qiQw3xl4tM0",
        "colab_type": "text"
      },
      "source": [
        "**Confusion Matrix plot (heatmap) for Random Forest model code and result goes in the following code block. Note: The class names should show in the plot, not the class numbers (10 points)**"
      ]
    },
    {
      "cell_type": "code",
      "metadata": {
        "id": "fQAliNQ74uBY",
        "colab_type": "code",
        "outputId": "0c9e1f78-6efd-4cd1-9bd6-b240f528ee82",
        "colab": {
          "base_uri": "https://localhost:8080/",
          "height": 430
        }
      },
      "source": [
        "mat = confusion_matrix(y_test, labels)\n",
        "sns.heatmap(mat.T, square=True, annot=True, fmt='d', cbar=False, xticklabels=unique_labels, yticklabels=unique_labels)\n",
        "plt.xlabel('true label')\n",
        "plt.ylabel('predicted label');"
      ],
      "execution_count": 0,
      "outputs": [
        {
          "output_type": "display_data",
          "data": {
            "image/png": "[encoded data removed]",
            "text/plain": [
              "<Figure size 432x288 with 1 Axes>"
            ]
          },
          "metadata": {
            "tags": []
          }
        }
      ]
    },
    {
      "cell_type": "markdown",
      "metadata": {
        "id": "kUuteKNOB9Hh",
        "colab_type": "text"
      },
      "source": [
        "**Clasiffication Report for Random Forest Model goes in the following code block. Note: The class names should show in the report, not the class numbers. (10 points)**"
      ]
    },
    {
      "cell_type": "code",
      "metadata": {
        "id": "g1xlRDeVlQ_e",
        "colab_type": "code",
        "outputId": "50637fd1-b5ef-42c6-d846-03c36a3bcd36",
        "colab": {
          "base_uri": "https://localhost:8080/",
          "height": 306
        }
      },
      "source": [
        "print(classification_report(y_test, labels, target_names=unique_labels))"
      ],
      "execution_count": 0,
      "outputs": [
        {
          "output_type": "stream",
          "text": [
            "                          precision    recall  f1-score   support\n",
            "\n",
            "          comp.windows.x       0.78      0.85      0.81       119\n",
            "               rec.autos       0.92      0.90      0.91       119\n",
            "         rec.motorcycles       0.80      0.92      0.85       133\n",
            "                 sci.med       0.89      0.80      0.84       126\n",
            "  soc.religion.christian       0.92      0.95      0.94       125\n",
            "            misc.forsale       0.72      0.70      0.71       104\n",
            "comp.sys.ibm.pc.hardware       0.91      0.79      0.85       119\n",
            "      talk.politics.misc       0.90      0.99      0.95       122\n",
            "         sci.electronics       0.92      0.94      0.93        95\n",
            "      talk.politics.guns       0.95      0.80      0.87        89\n",
            "\n",
            "                accuracy                           0.87      1151\n",
            "               macro avg       0.87      0.86      0.87      1151\n",
            "            weighted avg       0.87      0.87      0.87      1151\n",
            "\n"
          ],
          "name": "stdout"
        }
      ]
    },
    {
      "cell_type": "markdown",
      "metadata": {
        "id": "pdonIIwJCRLD",
        "colab_type": "text"
      },
      "source": [
        "**Code and result to print required metrics for Random Forest Model goes in the following code block. Note: Label every metric properly (10 points)**"
      ]
    },
    {
      "cell_type": "code",
      "metadata": {
        "id": "CRFvtthwpBOf",
        "colab_type": "code",
        "outputId": "8df66e81-36a5-4339-f4ba-c4ea88cbdde9",
        "colab": {
          "base_uri": "https://localhost:8080/",
          "height": 85
        }
      },
      "source": [
        "print('Accuracy:', metrics.accuracy_score(y_test,labels))\n",
        "print('Mean Absolute Error:', metrics.mean_absolute_error(y_test,labels))\n",
        "print('Mean Squared Error:', metrics.mean_squared_error(y_test, labels))  \n",
        "print('Root Mean Squared Error:', np.sqrt(metrics.mean_squared_error(y_test, labels)))\n",
        "results_2= {'Experiment': 'RandomForest', 'Accuracy': metrics.accuracy_score(y_test,labels), 'MAE': metrics.mean_absolute_error(y_test,labels), 'MSE':metrics.mean_squared_error(y_test,labels)  , 'RMSE':np.sqrt(metrics.mean_squared_error(y_test,labels)), 'MS':metrics.accuracy_score(y_test,labels)}"
      ],
      "execution_count": 0,
      "outputs": [
        {
          "output_type": "stream",
          "text": [
            "Accuracy: 0.8670721112076455\n",
            "Mean Absolute Error: 0.3788010425716768\n",
            "Mean Squared Error: 1.5499565595134666\n",
            "Root Mean Squared Error: 1.2449725135574146\n"
          ],
          "name": "stdout"
        }
      ]
    },
    {
      "cell_type": "markdown",
      "metadata": {
        "deletable": true,
        "editable": true,
        "id": "8GPYWaZWViB6",
        "colab_type": "text"
      },
      "source": [
        "## Model 3 - Linear SVM"
      ]
    },
    {
      "cell_type": "markdown",
      "metadata": {
        "id": "SPRjwlyOC3vI",
        "colab_type": "text"
      },
      "source": [
        "**Build the pipeline for Linear SVM Classifier, fit the model and predict on the test set in the following code block (15 points)**"
      ]
    },
    {
      "cell_type": "code",
      "metadata": {
        "id": "rFprmZ1fjDkz",
        "colab_type": "code",
        "colab": {}
      },
      "source": [
        "model = make_pipeline(TfidfVectorizer(), SVC(kernel='linear', C=1E10, random_state = 0))\n",
        "\n",
        "model.fit(X_train, y_train)\n",
        "labels = model.predict(X_test)"
      ],
      "execution_count": 0,
      "outputs": []
    },
    {
      "cell_type": "markdown",
      "metadata": {
        "id": "dpQA1CFXDGFH",
        "colab_type": "text"
      },
      "source": [
        "**Confusion Matrix plot (heatmap) for Linear SVM model code and result goes in the following code block. Note: The class names should show in the plot, not the class numbers (10 points)**"
      ]
    },
    {
      "cell_type": "code",
      "metadata": {
        "id": "ee-t9QyJDKIT",
        "colab_type": "code",
        "outputId": "84866240-9ac6-4bf7-b9ca-8f8b5c7cb820",
        "colab": {
          "base_uri": "https://localhost:8080/",
          "height": 430
        }
      },
      "source": [
        "mat = confusion_matrix(y_test, labels)\n",
        "\n",
        "sns.heatmap(mat.T, square=True, annot=True, fmt='d', cbar=False,\n",
        "            xticklabels=unique_labels, yticklabels=unique_labels)\n",
        "plt.xlabel('true label')\n",
        "plt.ylabel('predicted label');"
      ],
      "execution_count": 0,
      "outputs": [
        {
          "output_type": "display_data",
          "data": {
            "image/png": "[encoded data removed]",
            "text/plain": [
              "<Figure size 432x288 with 1 Axes>"
            ]
          },
          "metadata": {
            "tags": []
          }
        }
      ]
    },
    {
      "cell_type": "markdown",
      "metadata": {
        "colab_type": "text",
        "id": "JfAJSa7t09fV"
      },
      "source": [
        "**Clasiffication Report for Linear SVM Model goes in the following code block. Note: The class names should show in the report, not the class numbers. (10 points)**"
      ]
    },
    {
      "cell_type": "code",
      "metadata": {
        "id": "UXfETt4QkL9x",
        "colab_type": "code",
        "outputId": "59050408-4333-40b4-b491-ea354a5a761d",
        "colab": {
          "base_uri": "https://localhost:8080/",
          "height": 306
        }
      },
      "source": [
        "print(classification_report(y_test, labels, target_names=unique_labels))"
      ],
      "execution_count": 0,
      "outputs": [
        {
          "output_type": "stream",
          "text": [
            "                          precision    recall  f1-score   support\n",
            "\n",
            "          comp.windows.x       0.88      0.92      0.90       119\n",
            "               rec.autos       0.96      0.96      0.96       119\n",
            "         rec.motorcycles       0.92      0.90      0.91       133\n",
            "                 sci.med       0.93      0.90      0.92       126\n",
            "  soc.religion.christian       0.96      0.98      0.97       125\n",
            "            misc.forsale       0.82      0.87      0.84       104\n",
            "comp.sys.ibm.pc.hardware       0.99      0.93      0.96       119\n",
            "      talk.politics.misc       0.97      0.97      0.97       122\n",
            "         sci.electronics       0.97      1.00      0.98        95\n",
            "      talk.politics.guns       0.99      0.94      0.97        89\n",
            "\n",
            "                accuracy                           0.94      1151\n",
            "               macro avg       0.94      0.94      0.94      1151\n",
            "            weighted avg       0.94      0.94      0.94      1151\n",
            "\n"
          ],
          "name": "stdout"
        }
      ]
    },
    {
      "cell_type": "markdown",
      "metadata": {
        "colab_type": "text",
        "id": "4jsBYVLT1IA0"
      },
      "source": [
        "**Code and result to print required metrics for Linear SVM Model goes in the following code block. Note: Label every metric properly (10 points)**\n"
      ]
    },
    {
      "cell_type": "code",
      "metadata": {
        "colab_type": "code",
        "outputId": "86c17cbf-5d11-4f5b-bc27-ac7b8e4b4c32",
        "id": "ih9kC6rR1VVE",
        "colab": {
          "base_uri": "https://localhost:8080/",
          "height": 85
        }
      },
      "source": [
        "print('Accuracy:', metrics.accuracy_score(y_test,labels))\n",
        "print('Mean Absolute Error:', metrics.mean_absolute_error(y_test,labels))\n",
        "print('Mean Squared Error:', metrics.mean_squared_error(y_test, labels))  \n",
        "print('Root Mean Squared Error:', np.sqrt(metrics.mean_squared_error(y_test, labels)))\n",
        "results_3= {'Experiment': 'Linear SVM', 'Accuracy': metrics.accuracy_score(y_test,labels), 'MAE': metrics.mean_absolute_error(y_test,labels), 'MSE':metrics.mean_squared_error(y_test,labels)  , 'RMSE':np.sqrt(metrics.mean_squared_error(y_test,labels)), 'MS':metrics.accuracy_score(y_test,labels)}\n"
      ],
      "execution_count": 0,
      "outputs": [
        {
          "output_type": "stream",
          "text": [
            "Accuracy: 0.9357080799304952\n",
            "Mean Absolute Error: 0.18853171155516943\n",
            "Mean Squared Error: 0.7497827975673328\n",
            "Root Mean Squared Error: 0.8658999928209566\n"
          ],
          "name": "stdout"
        }
      ]
    },
    {
      "cell_type": "markdown",
      "metadata": {
        "deletable": true,
        "editable": true,
        "colab_type": "text",
        "id": "Cq442If-5gUY"
      },
      "source": [
        "## Model 4 - Non-Linear SVM\n",
        "\n"
      ]
    },
    {
      "cell_type": "markdown",
      "metadata": {
        "id": "kCq9PSiHDrHM",
        "colab_type": "text"
      },
      "source": [
        "**Build the pipeline for Non-Linear SVM Classifier, fit the model and predict on the test set in the following code block (15 points)**"
      ]
    },
    {
      "cell_type": "code",
      "metadata": {
        "colab_type": "code",
        "id": "JXV8voVd5gUc",
        "colab": {}
      },
      "source": [
        "model = make_pipeline(TfidfVectorizer(), SVC(kernel='rbf', C=1E6, random_state = 0, gamma='auto'))\n",
        "\n",
        "model.fit(X_train, y_train)\n",
        "labels = model.predict(X_test)"
      ],
      "execution_count": 0,
      "outputs": []
    },
    {
      "cell_type": "markdown",
      "metadata": {
        "id": "irEuCyhZDm2Y",
        "colab_type": "text"
      },
      "source": [
        "**Confusion Matrix plot (heatmap) for Non-Linear SVM model code and result goes in the following code block. Note: The class names should show in the plot, not the class numbers (10 points)**"
      ]
    },
    {
      "cell_type": "code",
      "metadata": {
        "id": "1AVhcsLaDng4",
        "colab_type": "code",
        "outputId": "c1e641f7-fb88-4fb8-ea0c-0dba18387e78",
        "colab": {
          "base_uri": "https://localhost:8080/",
          "height": 430
        }
      },
      "source": [
        "mat = confusion_matrix(y_test, labels)\n",
        "\n",
        "sns.heatmap(mat.T, square=True, annot=True, fmt='d', cbar=False,\n",
        "            xticklabels=unique_labels, yticklabels=unique_labels)\n",
        "plt.xlabel('true label')\n",
        "plt.ylabel('predicted label');"
      ],
      "execution_count": 0,
      "outputs": [
        {
          "output_type": "display_data",
          "data": {
            "image/png": "[encoded data removed]",
            "text/plain": [
              "<Figure size 432x288 with 1 Axes>"
            ]
          },
          "metadata": {
            "tags": []
          }
        }
      ]
    },
    {
      "cell_type": "markdown",
      "metadata": {
        "colab_type": "text",
        "id": "6jNrF7Lm5gUj"
      },
      "source": [
        "**Clasiffication Report for Non-Linear SVM Model goes in the following code block. Note: The class names should show in the report, not the class numbers. (10 points)**"
      ]
    },
    {
      "cell_type": "code",
      "metadata": {
        "colab_type": "code",
        "outputId": "58b55f57-50e9-4349-a1e7-8a244a7ce645",
        "id": "n55jpMA45gUl",
        "colab": {
          "base_uri": "https://localhost:8080/",
          "height": 306
        }
      },
      "source": [
        "print(classification_report(y_test, labels, target_names=unique_labels))"
      ],
      "execution_count": 0,
      "outputs": [
        {
          "output_type": "stream",
          "text": [
            "                          precision    recall  f1-score   support\n",
            "\n",
            "          comp.windows.x       0.89      0.93      0.91       119\n",
            "               rec.autos       0.96      0.96      0.96       119\n",
            "         rec.motorcycles       0.92      0.91      0.91       133\n",
            "                 sci.med       0.93      0.90      0.92       126\n",
            "  soc.religion.christian       0.96      0.98      0.97       125\n",
            "            misc.forsale       0.83      0.88      0.85       104\n",
            "comp.sys.ibm.pc.hardware       0.99      0.93      0.96       119\n",
            "      talk.politics.misc       0.98      0.97      0.97       122\n",
            "         sci.electronics       0.97      1.00      0.98        95\n",
            "      talk.politics.guns       0.99      0.94      0.97        89\n",
            "\n",
            "                accuracy                           0.94      1151\n",
            "               macro avg       0.94      0.94      0.94      1151\n",
            "            weighted avg       0.94      0.94      0.94      1151\n",
            "\n"
          ],
          "name": "stdout"
        }
      ]
    },
    {
      "cell_type": "markdown",
      "metadata": {
        "colab_type": "text",
        "id": "KRKO2EHW5gUo"
      },
      "source": [
        "**Code and result to print required metrics for Non-Linear SVM Model goes in the following code block. Note: Label every metric properly (10 points)**\n"
      ]
    },
    {
      "cell_type": "code",
      "metadata": {
        "colab_type": "code",
        "outputId": "43064950-80b2-4a27-fab7-40100893f980",
        "id": "fa26XPXS5gUp",
        "colab": {
          "base_uri": "https://localhost:8080/",
          "height": 85
        }
      },
      "source": [
        "from sklearn import metrics\n",
        "print('Accuracy:', metrics.accuracy_score(y_test,labels))\n",
        "print('Mean Absolute Error:', metrics.mean_absolute_error(y_test,labels))\n",
        "print('Mean Squared Error:', metrics.mean_squared_error(y_test, labels))  \n",
        "print('Root Mean Squared Error:', np.sqrt(metrics.mean_squared_error(y_test, labels)))\n",
        "results_4= {'Experiment': 'Non-Linear SVM', 'Accuracy': metrics.accuracy_score(y_test,labels), 'MAE': metrics.mean_absolute_error(y_test,labels), 'MSE':metrics.mean_squared_error(y_test,labels)  , 'RMSE':np.sqrt(metrics.mean_squared_error(y_test,labels)), 'MS':metrics.accuracy_score(y_test,labels)}\n"
      ],
      "execution_count": 0,
      "outputs": [
        {
          "output_type": "stream",
          "text": [
            "Accuracy: 0.9391833188531712\n",
            "Mean Absolute Error: 0.17810599478714162\n",
            "Mean Squared Error: 0.7115551694178974\n",
            "Root Mean Squared Error: 0.843537295807303\n"
          ],
          "name": "stdout"
        }
      ]
    },
    {
      "cell_type": "markdown",
      "metadata": {
        "id": "XaWuccR0D-U1",
        "colab_type": "text"
      },
      "source": [
        "## Final Model Comparison\n",
        "\n",
        "**All code to show the experiments result table and sort the model metrics by highest accuracy should go in the following code block. Note: Each experiment and metric should be labeled properly (15 points).**"
      ]
    },
    {
      "cell_type": "code",
      "metadata": {
        "id": "i86nfLpYby1b",
        "colab_type": "code",
        "outputId": "fd383e1a-bec4-439a-d0e8-227e7fd7b2aa",
        "colab": {
          "base_uri": "https://localhost:8080/",
          "height": 173
        }
      },
      "source": [
        "data = [results_1,results_2,results_3,results_4] \n",
        "Results_df = pd.DataFrame(data) \n",
        "Results_df = Results_df.sort_values(by=['Accuracy'], ascending=False)\n",
        "Results_df.head()"
      ],
      "execution_count": 0,
      "outputs": [
        {
          "output_type": "execute_result",
          "data": {
            "text/html": [
              "<div>\n",
              "<style scoped>\n",
              "    .dataframe tbody tr th:only-of-type {\n",
              "        vertical-align: middle;\n",
              "    }\n",
              "\n",
              "    .dataframe tbody tr th {\n",
              "        vertical-align: top;\n",
              "    }\n",
              "\n",
              "    .dataframe thead th {\n",
              "        text-align: right;\n",
              "    }\n",
              "</style>\n",
              "<table border=\"1\" class=\"dataframe\">\n",
              "  <thead>\n",
              "    <tr style=\"text-align: right;\">\n",
              "      <th></th>\n",
              "      <th>Experiment</th>\n",
              "      <th>Accuracy</th>\n",
              "      <th>MAE</th>\n",
              "      <th>MSE</th>\n",
              "      <th>RMSE</th>\n",
              "      <th>MS</th>\n",
              "    </tr>\n",
              "  </thead>\n",
              "  <tbody>\n",
              "    <tr>\n",
              "      <th>3</th>\n",
              "      <td>Non-Linear SVM</td>\n",
              "      <td>0.939183</td>\n",
              "      <td>0.178106</td>\n",
              "      <td>0.711555</td>\n",
              "      <td>0.843537</td>\n",
              "      <td>0.939183</td>\n",
              "    </tr>\n",
              "    <tr>\n",
              "      <th>2</th>\n",
              "      <td>Linear SVM</td>\n",
              "      <td>0.935708</td>\n",
              "      <td>0.188532</td>\n",
              "      <td>0.749783</td>\n",
              "      <td>0.865900</td>\n",
              "      <td>0.935708</td>\n",
              "    </tr>\n",
              "    <tr>\n",
              "      <th>0</th>\n",
              "      <td>Naive Bayes</td>\n",
              "      <td>0.874891</td>\n",
              "      <td>0.319722</td>\n",
              "      <td>1.192007</td>\n",
              "      <td>1.091791</td>\n",
              "      <td>0.874891</td>\n",
              "    </tr>\n",
              "    <tr>\n",
              "      <th>1</th>\n",
              "      <td>RandomForest</td>\n",
              "      <td>0.867072</td>\n",
              "      <td>0.378801</td>\n",
              "      <td>1.549957</td>\n",
              "      <td>1.244973</td>\n",
              "      <td>0.867072</td>\n",
              "    </tr>\n",
              "  </tbody>\n",
              "</table>\n",
              "</div>"
            ],
            "text/plain": [
              "       Experiment  Accuracy       MAE       MSE      RMSE        MS\n",
              "3  Non-Linear SVM  0.939183  0.178106  0.711555  0.843537  0.939183\n",
              "2      Linear SVM  0.935708  0.188532  0.749783  0.865900  0.935708\n",
              "0     Naive Bayes  0.874891  0.319722  1.192007  1.091791  0.874891\n",
              "1    RandomForest  0.867072  0.378801  1.549957  1.244973  0.867072"
            ]
          },
          "metadata": {
            "tags": []
          },
          "execution_count": 21
        }
      ]
    },
    {
      "cell_type": "markdown",
      "metadata": {
        "id": "W6_pKm1WJEFf",
        "colab_type": "text"
      },
      "source": [
        "## Based on the table you just displayed answer the following questions in the provided text fields.\n",
        "\n",
        "**a) What is the best performing model? (5 points)**"
      ]
    },
    {
      "cell_type": "markdown",
      "metadata": {
        "id": "guqBrYeTJTiB",
        "colab_type": "text"
      },
      "source": [
        "*Answer for a goes here*"
      ]
    },
    {
      "cell_type": "markdown",
      "metadata": {
        "id": "jWQVgIKEJX5O",
        "colab_type": "text"
      },
      "source": [
        "**b) What is the most interesting result you found here? Is there any model that performs unexpectedly? (5 points)**"
      ]
    },
    {
      "cell_type": "markdown",
      "metadata": {
        "colab_type": "text",
        "id": "zn1m0bkoJr2E"
      },
      "source": [
        "*Answer for a goes here*"
      ]
    },
    {
      "cell_type": "markdown",
      "metadata": {
        "id": "rm9Tx6sjJ4E0",
        "colab_type": "text"
      },
      "source": [
        "## **Graduate Student Question (undergraduates can answer for extra credit)**\n",
        "\n",
        "Improve the Random Forest model by using a Grid Search with the following parameters: random_state set to 0  and n_estimators set to 100, 150, 200\n",
        "cross-validation needs to be set to 3. **(50 points -  total)**\n",
        "\n",
        "Note: DO NOT time this execution."
      ]
    },
    {
      "cell_type": "markdown",
      "metadata": {
        "id": "VeW-wanpPTXl",
        "colab_type": "text"
      },
      "source": [
        "**Write the code to create the Grid Search, build the pipeline and train the model on the following code block. Display the best parameters as the result. (10 points)**"
      ]
    },
    {
      "cell_type": "code",
      "metadata": {
        "id": "tBQW9aY7K0vt",
        "colab_type": "code",
        "outputId": "525b5a65-f9c1-4070-95bd-5a48c75b778d",
        "colab": {
          "base_uri": "https://localhost:8080/",
          "height": 34
        }
      },
      "source": [
        "from sklearn.model_selection import GridSearchCV\n",
        "\n",
        "param_grid = { 'randomforestclassifier__n_estimators': [100, 150,200], 'randomforestclassifier__random_state': [0] }\n",
        "\n",
        "pipeline = make_pipeline(TfidfVectorizer(), RandomForestClassifier())\n",
        "\n",
        "grid = GridSearchCV(pipeline, param_grid, cv=3)\n",
        "grid.fit(X_train, y_train)\n",
        "print(grid.best_params_)"
      ],
      "execution_count": 0,
      "outputs": [
        {
          "output_type": "stream",
          "text": [
            "{'randomforestclassifier__n_estimators': 200, 'randomforestclassifier__random_state': 0}\n"
          ],
          "name": "stdout"
        }
      ]
    },
    {
      "cell_type": "markdown",
      "metadata": {
        "id": "XNttWteqPMKr",
        "colab_type": "text"
      },
      "source": [
        "**Now use the best model to make predictions on the test set in the following code block. (10 points)**"
      ]
    },
    {
      "cell_type": "code",
      "metadata": {
        "id": "yK2UWmb2PxrY",
        "colab_type": "code",
        "colab": {}
      },
      "source": [
        "model = grid.best_estimator_\n",
        "labels = model.predict(X_test)"
      ],
      "execution_count": 0,
      "outputs": []
    },
    {
      "cell_type": "markdown",
      "metadata": {
        "colab_type": "text",
        "id": "gP0W72WNP-yg"
      },
      "source": [
        "**Clasiffication Report for improved Random Forest model goes in the following code block. Note: The class names should show in the report, not the class numbers. (10 points)**"
      ]
    },
    {
      "cell_type": "code",
      "metadata": {
        "colab_type": "code",
        "outputId": "731f02c4-15b5-4d61-9a03-540a4dc28a51",
        "id": "35myjF2cP-yk",
        "colab": {
          "base_uri": "https://localhost:8080/",
          "height": 306
        }
      },
      "source": [
        "print(classification_report(y_test, labels, target_names=unique_labels))"
      ],
      "execution_count": 0,
      "outputs": [
        {
          "output_type": "stream",
          "text": [
            "                          precision    recall  f1-score   support\n",
            "\n",
            "          comp.windows.x       0.80      0.86      0.83       119\n",
            "               rec.autos       0.89      0.91      0.90       119\n",
            "         rec.motorcycles       0.79      0.91      0.85       133\n",
            "                 sci.med       0.89      0.79      0.84       126\n",
            "  soc.religion.christian       0.91      0.94      0.93       125\n",
            "            misc.forsale       0.76      0.73      0.75       104\n",
            "comp.sys.ibm.pc.hardware       0.92      0.82      0.87       119\n",
            "      talk.politics.misc       0.92      1.00      0.96       122\n",
            "         sci.electronics       0.95      0.95      0.95        95\n",
            "      talk.politics.guns       0.97      0.83      0.90        89\n",
            "\n",
            "                accuracy                           0.88      1151\n",
            "               macro avg       0.88      0.87      0.88      1151\n",
            "            weighted avg       0.88      0.88      0.88      1151\n",
            "\n"
          ],
          "name": "stdout"
        }
      ]
    },
    {
      "cell_type": "markdown",
      "metadata": {
        "colab_type": "text",
        "id": "_3q1eGnLP-yn"
      },
      "source": [
        "**Code and result to print required metrics for improved Random Forest model goes in the following code block. Note: Label every metric properly (10 points)**\n"
      ]
    },
    {
      "cell_type": "code",
      "metadata": {
        "colab_type": "code",
        "outputId": "0ba9cd3a-5c24-4369-bd1e-c182f7ea6d7a",
        "id": "pWioirwlP-yo",
        "colab": {
          "base_uri": "https://localhost:8080/",
          "height": 85
        }
      },
      "source": [
        "from sklearn import metrics\n",
        "print('Accuracy:', metrics.accuracy_score(y_test,labels))\n",
        "print('Mean Absolute Error:', metrics.mean_absolute_error(y_test,labels))\n",
        "print('Mean Squared Error:', metrics.mean_squared_error(y_test, labels))  \n",
        "print('Root Mean Squared Error:', np.sqrt(metrics.mean_squared_error(y_test, labels)))\n",
        "results_5= {'Experiment': 'Improved Random Forest', 'Accuracy': metrics.accuracy_score(y_test,labels), 'MAE': metrics.mean_absolute_error(y_test,labels), 'MSE':metrics.mean_squared_error(y_test,labels)  , 'RMSE':np.sqrt(metrics.mean_squared_error(y_test,labels)), 'MS':metrics.accuracy_score(y_test,labels)}\n"
      ],
      "execution_count": 0,
      "outputs": [
        {
          "output_type": "stream",
          "text": [
            "Accuracy: 0.8757602085143353\n",
            "Mean Absolute Error: 0.33883579496090355\n",
            "Mean Squared Error: 1.306689834926151\n",
            "Root Mean Squared Error: 1.1431053472563897\n"
          ],
          "name": "stdout"
        }
      ]
    },
    {
      "cell_type": "markdown",
      "metadata": {
        "id": "T2GZNmWgQaMQ",
        "colab_type": "text"
      },
      "source": [
        "**Add the improved model to your final model comparison table and sort by Accuracy. (5 points)**"
      ]
    },
    {
      "cell_type": "code",
      "metadata": {
        "colab_type": "code",
        "outputId": "66f4e883-15f5-4c9f-dfd2-bdabaf84aa61",
        "id": "ckDu-TVHQZvM",
        "colab": {
          "base_uri": "https://localhost:8080/",
          "height": 204
        }
      },
      "source": [
        "data = [results_1,results_2,results_3,results_4, results_5] \n",
        "Results_df = pd.DataFrame(data) \n",
        "Results_df = Results_df.sort_values(by=['Accuracy'], ascending=False)\n",
        "Results_df.head()"
      ],
      "execution_count": 0,
      "outputs": [
        {
          "output_type": "execute_result",
          "data": {
            "text/html": [
              "<div>\n",
              "<style scoped>\n",
              "    .dataframe tbody tr th:only-of-type {\n",
              "        vertical-align: middle;\n",
              "    }\n",
              "\n",
              "    .dataframe tbody tr th {\n",
              "        vertical-align: top;\n",
              "    }\n",
              "\n",
              "    .dataframe thead th {\n",
              "        text-align: right;\n",
              "    }\n",
              "</style>\n",
              "<table border=\"1\" class=\"dataframe\">\n",
              "  <thead>\n",
              "    <tr style=\"text-align: right;\">\n",
              "      <th></th>\n",
              "      <th>Experiment</th>\n",
              "      <th>Accuracy</th>\n",
              "      <th>MAE</th>\n",
              "      <th>MSE</th>\n",
              "      <th>RMSE</th>\n",
              "      <th>MS</th>\n",
              "    </tr>\n",
              "  </thead>\n",
              "  <tbody>\n",
              "    <tr>\n",
              "      <th>3</th>\n",
              "      <td>Non-Linear SVM</td>\n",
              "      <td>0.939183</td>\n",
              "      <td>0.178106</td>\n",
              "      <td>0.711555</td>\n",
              "      <td>0.843537</td>\n",
              "      <td>0.939183</td>\n",
              "    </tr>\n",
              "    <tr>\n",
              "      <th>2</th>\n",
              "      <td>Linear SVM</td>\n",
              "      <td>0.935708</td>\n",
              "      <td>0.188532</td>\n",
              "      <td>0.749783</td>\n",
              "      <td>0.865900</td>\n",
              "      <td>0.935708</td>\n",
              "    </tr>\n",
              "    <tr>\n",
              "      <th>4</th>\n",
              "      <td>Improved Random Forest</td>\n",
              "      <td>0.875760</td>\n",
              "      <td>0.338836</td>\n",
              "      <td>1.306690</td>\n",
              "      <td>1.143105</td>\n",
              "      <td>0.875760</td>\n",
              "    </tr>\n",
              "    <tr>\n",
              "      <th>0</th>\n",
              "      <td>Naive Bayes</td>\n",
              "      <td>0.874891</td>\n",
              "      <td>0.319722</td>\n",
              "      <td>1.192007</td>\n",
              "      <td>1.091791</td>\n",
              "      <td>0.874891</td>\n",
              "    </tr>\n",
              "    <tr>\n",
              "      <th>1</th>\n",
              "      <td>RandomForest</td>\n",
              "      <td>0.867072</td>\n",
              "      <td>0.378801</td>\n",
              "      <td>1.549957</td>\n",
              "      <td>1.244973</td>\n",
              "      <td>0.867072</td>\n",
              "    </tr>\n",
              "  </tbody>\n",
              "</table>\n",
              "</div>"
            ],
            "text/plain": [
              "               Experiment  Accuracy       MAE       MSE      RMSE        MS\n",
              "3          Non-Linear SVM  0.939183  0.178106  0.711555  0.843537  0.939183\n",
              "2              Linear SVM  0.935708  0.188532  0.749783  0.865900  0.935708\n",
              "4  Improved Random Forest  0.875760  0.338836  1.306690  1.143105  0.875760\n",
              "0             Naive Bayes  0.874891  0.319722  1.192007  1.091791  0.874891\n",
              "1            RandomForest  0.867072  0.378801  1.549957  1.244973  0.867072"
            ]
          },
          "metadata": {
            "tags": []
          },
          "execution_count": 26
        }
      ]
    },
    {
      "cell_type": "markdown",
      "metadata": {
        "id": "25XuhjWIR3VS",
        "colab_type": "text"
      },
      "source": [
        "**Lastly, what did you see happen? What is the take away from doing a grid search? Have we found the best model? (5 points)**"
      ]
    },
    {
      "cell_type": "markdown",
      "metadata": {
        "id": "cyPzxcXVSCE0",
        "colab_type": "text"
      },
      "source": [
        "*Answer goes here*"
      ]
    },
    {
      "cell_type": "markdown",
      "metadata": {
        "id": "15M4JRkfbFGe",
        "colab_type": "text"
      },
      "source": [
        "*You are done!!!!!!!!!!!!*\n",
        "\n",
        "**Prepare your submission:**\n",
        "\n",
        "One single ZIP file named StudentName-Exam2.zip with the following contents:\n",
        "\n",
        "- PDF file with all answers displayed\n",
        "- Notebook ipnyb file with non-executed code blocks (clean them before submitting)\n",
        "\n",
        "Failure to follow directions will result in a loss of points. If we can't read your ipnyb file, you will get a zero for the exam.\n",
        "\n",
        "Submission will be done via iCollege, in front of the instructor. If I catch you on the internet while others are still working on their exams you will get a zero. "
      ]
    }
  ]
}