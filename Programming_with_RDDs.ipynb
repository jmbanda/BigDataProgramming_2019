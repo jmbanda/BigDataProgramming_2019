{
  "nbformat": 4,
  "nbformat_minor": 0,
  "metadata": {
    "colab": {
      "name": "Programming with RDDs.ipynb",
      "provenance": [],
      "include_colab_link": true
    },
    "kernelspec": {
      "name": "python3",
      "display_name": "Python 3"
    }
  },
  "cells": [
    {
      "cell_type": "markdown",
      "metadata": {
        "id": "view-in-github",
        "colab_type": "text"
      },
      "source": [
        "<a href=\"https://colab.research.google.com/github/jmbanda/BigDataProgramming_2019/blob/master/Programming_with_RDDs.ipynb\" target=\"_parent\"><img src=\"https://colab.research.google.com/assets/colab-badge.svg\" alt=\"Open In Colab\"/></a>"
      ]
    },
    {
      "cell_type": "markdown",
      "metadata": {
        "id": "7bk69NKHI03I",
        "colab_type": "text"
      },
      "source": [
        "# Lambda Functions"
      ]
    },
    {
      "cell_type": "code",
      "metadata": {
        "id": "ry2WwllUIzzO",
        "colab_type": "code",
        "colab": {
          "base_uri": "https://localhost:8080/",
          "height": 34
        },
        "outputId": "eb603dba-282e-4509-a742-2fc719cdcd88"
      },
      "source": [
        "x = ['Python', 'programming', 'is', 'awesome!']\n",
        "print(sorted(x))"
      ],
      "execution_count": 1,
      "outputs": [
        {
          "output_type": "stream",
          "text": [
            "['Python', 'awesome!', 'is', 'programming']\n"
          ],
          "name": "stdout"
        }
      ]
    },
    {
      "cell_type": "markdown",
      "metadata": {
        "id": "KroFOmZRJYzC",
        "colab_type": "text"
      },
      "source": [
        "The key parameter to sorted is called for each item in the iterable. This makes the sorting case-insensitive by changing all the strings to lowercase before the sorting takes place."
      ]
    },
    {
      "cell_type": "code",
      "metadata": {
        "id": "y3vli9-ZJobC",
        "colab_type": "code",
        "colab": {
          "base_uri": "https://localhost:8080/",
          "height": 34
        },
        "outputId": "604dd598-19df-4013-956f-79b302f485cc"
      },
      "source": [
        "print(sorted(x, key=lambda arg: arg.lower()))"
      ],
      "execution_count": 2,
      "outputs": [
        {
          "output_type": "stream",
          "text": [
            "['awesome!', 'is', 'programming', 'Python']\n"
          ],
          "name": "stdout"
        }
      ]
    },
    {
      "cell_type": "markdown",
      "metadata": {
        "id": "fgcMTE5gJwau",
        "colab_type": "text"
      },
      "source": [
        "This is a common use-case for lambda functions, small anonymous functions that maintain no external state.\n",
        "\n",
        "Other common functional programming functions exist in Python as well, such as filter(), map(), and reduce(). All these functions can make use of lambda functions or standard functions defined with def in a similar manner."
      ]
    },
    {
      "cell_type": "markdown",
      "metadata": {
        "id": "Vd9tCY4XKCPR",
        "colab_type": "text"
      },
      "source": [
        "# filter(), map(), and reduce()\n",
        "\n",
        "The built-in filter(), map(), and reduce() functions are all common in functional programming. You’ll soon see that these concepts can make up a significant portion of the functionality of a PySpark program.\n",
        "\n",
        "It’s important to understand these functions in a core Python context. Then, you’ll be able to translate that knowledge into PySpark programs and the Spark API.\n",
        "\n",
        "filter() filters items out of an iterable based on a condition, typically expressed as a lambda function:"
      ]
    },
    {
      "cell_type": "code",
      "metadata": {
        "id": "rZwcwg13J46i",
        "colab_type": "code",
        "colab": {
          "base_uri": "https://localhost:8080/",
          "height": 34
        },
        "outputId": "f13921ac-3876-449e-8ec1-f2a0af2a58da"
      },
      "source": [
        "print(list(filter(lambda arg: len(arg) < 8, x)))"
      ],
      "execution_count": 3,
      "outputs": [
        {
          "output_type": "stream",
          "text": [
            "['Python', 'is']\n"
          ],
          "name": "stdout"
        }
      ]
    },
    {
      "cell_type": "markdown",
      "metadata": {
        "id": "F4LPAVMnK0hd",
        "colab_type": "text"
      },
      "source": [
        "filter() takes an iterable, calls the lambda function on each item, and returns the items where the lambda returned True.\n",
        "\n",
        "Another less obvious benefit of filter() is that it returns an iterable. This means filter() doesn’t require that your computer have enough memory to hold all the items in the iterable at once. This is increasingly important with Big Data sets that can quickly grow to several gigabytes in size.\n",
        "\n",
        "**map()** is similar to filter() in that it applies a function to each item in an iterable, but it always produces a 1-to-1 mapping of the original items. The new iterable that map() returns will always have the same number of elements as the original iterable, which was not the case with filter():"
      ]
    },
    {
      "cell_type": "code",
      "metadata": {
        "id": "lG3KnQukKtia",
        "colab_type": "code",
        "colab": {
          "base_uri": "https://localhost:8080/",
          "height": 34
        },
        "outputId": "5b8f79fc-fc77-472a-8dc0-c5d57081bec4"
      },
      "source": [
        "print(list(map(lambda arg: arg.upper(), x)))"
      ],
      "execution_count": 4,
      "outputs": [
        {
          "output_type": "stream",
          "text": [
            "['PYTHON', 'PROGRAMMING', 'IS', 'AWESOME!']\n"
          ],
          "name": "stdout"
        }
      ]
    },
    {
      "cell_type": "markdown",
      "metadata": {
        "id": "BHn6Z5thLhZT",
        "colab_type": "text"
      },
      "source": [
        "map() automatically calls the lambda function on all the items.\n",
        "\n",
        "Finally, the last of the functional trio in the Python standard library is **reduce()**. As with filter() and map(), reduce()applies a function to elements in an iterable.\n",
        "\n",
        "Again, the function being applied can be a standard Python function created with the def keyword or a lambda function.\n",
        "\n",
        "However, **reduce()** doesn’t return a new iterable. Instead, **reduce()** uses the function called to reduce the iterable to a single value:"
      ]
    },
    {
      "cell_type": "code",
      "metadata": {
        "id": "9qRx5RAYLzo2",
        "colab_type": "code",
        "colab": {
          "base_uri": "https://localhost:8080/",
          "height": 34
        },
        "outputId": "190f8b4a-a4ac-4c4f-c38f-6548f9350a40"
      },
      "source": [
        "from functools import reduce\n",
        "print(reduce(lambda val1, val2: val1 + val2, x))"
      ],
      "execution_count": 5,
      "outputs": [
        {
          "output_type": "stream",
          "text": [
            "Pythonprogrammingisawesome!\n"
          ],
          "name": "stdout"
        }
      ]
    },
    {
      "cell_type": "markdown",
      "metadata": {
        "id": "Nq4HKTuqL_-I",
        "colab_type": "text"
      },
      "source": [
        "This code combines all the items in the iterable, from left to right, into a single item. There is no call to list() here because **reduce()** already returns a single item.\n",
        "\n",
        "Note: Python 3.x moved the built-in reduce() function into the functools package.\n",
        "\n",
        "**lambda, map(), filter(), and reduce()** are concepts that exist in many languages and can be used in regular Python programs. "
      ]
    },
    {
      "cell_type": "markdown",
      "metadata": {
        "id": "Lo_Ct6SyMlie",
        "colab_type": "text"
      },
      "source": [
        "# Stop and go back to Slide 10"
      ]
    },
    {
      "cell_type": "markdown",
      "metadata": {
        "id": "NgYPHzU7JM1e",
        "colab_type": "text"
      },
      "source": [
        "# Spark Section:\n",
        "\n",
        "NOTE: These following instructions are just to get Spark running on Colab, they should not appear in your code."
      ]
    },
    {
      "cell_type": "code",
      "metadata": {
        "id": "hLhfTpF9JVYw",
        "colab_type": "code",
        "colab": {}
      },
      "source": [
        "!apt-get install openjdk-8-jdk-headless -qq > /dev/null\n",
        "!wget -q https://www-us.apache.org/dist/spark/spark-2.4.4/spark-2.4.4-bin-hadoop2.7.tgz\n",
        "!tar xf spark-2.4.4-bin-hadoop2.7.tgz\n",
        "!pip install -q findspark\n",
        "import os\n",
        "os.environ[\"JAVA_HOME\"] = \"/usr/lib/jvm/java-8-openjdk-amd64\"\n",
        "os.environ[\"SPARK_HOME\"] = \"/content/spark-2.4.4-bin-hadoop2.7\"\n",
        "import findspark\n",
        "findspark.init()"
      ],
      "execution_count": 0,
      "outputs": []
    },
    {
      "cell_type": "markdown",
      "metadata": {
        "id": "pqITArGhOdJm",
        "colab_type": "text"
      },
      "source": [
        "You should start form HERE:\n",
        "\n",
        "**Creating an RDD with textFile() in Python**"
      ]
    },
    {
      "cell_type": "code",
      "metadata": {
        "id": "AS1aPeVsOx3H",
        "colab_type": "code",
        "colab": {}
      },
      "source": [
        "from pyspark.sql import SparkSession\n",
        "spark = SparkSession.builder \\\n",
        "    .master(\"local[*]\") \\\n",
        "    .appName(\"Learning_Spark\") \\\n",
        "    .getOrCreate()\n",
        "\n",
        "sc = spark.sparkContext\n",
        "\n",
        "book = sc.textFile(\"spark-2.4.4-bin-hadoop2.7/README.md\")"
      ],
      "execution_count": 0,
      "outputs": []
    },
    {
      "cell_type": "markdown",
      "metadata": {
        "id": "B9M_iM2bTtju",
        "colab_type": "text"
      },
      "source": [
        "Calling the filtering() **transformation**"
      ]
    },
    {
      "cell_type": "code",
      "metadata": {
        "id": "3XUwbTFdQVqo",
        "colab_type": "code",
        "colab": {}
      },
      "source": [
        "javaLines = book.filter(lambda line: \"Java\" in line)"
      ],
      "execution_count": 0,
      "outputs": []
    },
    {
      "cell_type": "markdown",
      "metadata": {
        "id": "Fj7FJOxoTzWw",
        "colab_type": "text"
      },
      "source": [
        "Calling the first() **action**"
      ]
    },
    {
      "cell_type": "code",
      "metadata": {
        "id": "umGBXHzBQ4NK",
        "colab_type": "code",
        "colab": {
          "base_uri": "https://localhost:8080/",
          "height": 34
        },
        "outputId": "cc89e4cc-f0ac-4f35-d118-0d48cd00d1b0"
      },
      "source": [
        "javaLines.first()"
      ],
      "execution_count": 40,
      "outputs": [
        {
          "output_type": "execute_result",
          "data": {
            "text/plain": [
              "'high-level APIs in Scala, Java, Python, and R, and an optimized engine that'"
            ]
          },
          "metadata": {
            "tags": []
          },
          "execution_count": 40
        }
      ]
    },
    {
      "cell_type": "markdown",
      "metadata": {
        "id": "uxEwdj9yUjfs",
        "colab_type": "text"
      },
      "source": [
        "# Persisting and RDD in Memory"
      ]
    },
    {
      "cell_type": "code",
      "metadata": {
        "id": "BqyV2c6oUoIG",
        "colab_type": "code",
        "colab": {
          "base_uri": "https://localhost:8080/",
          "height": 34
        },
        "outputId": "c493506e-9a83-4607-c1f7-e2d0d3299499"
      },
      "source": [
        "book = sc.textFile(\"spark-2.4.4-bin-hadoop2.7/README.md\")\n",
        "scalaLines = book.filter(lambda line: \"Scala\" in line)\n",
        "scalaLines.persist\n",
        "scalaLines.first()"
      ],
      "execution_count": 46,
      "outputs": [
        {
          "output_type": "execute_result",
          "data": {
            "text/plain": [
              "'high-level APIs in Scala, Java, Python, and R, and an optimized engine that'"
            ]
          },
          "metadata": {
            "tags": []
          },
          "execution_count": 46
        }
      ]
    },
    {
      "cell_type": "markdown",
      "metadata": {
        "id": "nsii39saU5UM",
        "colab_type": "text"
      },
      "source": [
        "Counting how many lines we found"
      ]
    },
    {
      "cell_type": "code",
      "metadata": {
        "id": "OATQnVyEU7QO",
        "colab_type": "code",
        "colab": {
          "base_uri": "https://localhost:8080/",
          "height": 34
        },
        "outputId": "27783e96-eb13-4492-ddef-ce1447ddf9d3"
      },
      "source": [
        "scalaLines.count()"
      ],
      "execution_count": 47,
      "outputs": [
        {
          "output_type": "execute_result",
          "data": {
            "text/plain": [
              "3"
            ]
          },
          "metadata": {
            "tags": []
          },
          "execution_count": 47
        }
      ]
    },
    {
      "cell_type": "markdown",
      "metadata": {
        "id": "ZdfLi5-dWK4K",
        "colab_type": "text"
      },
      "source": [
        "# Using the World Cup 2014 Players Dataset\n",
        "\n",
        "Download the TSV file found in iCollege - Datasets section\n",
        "\n",
        "\n",
        "Note: The following lines are needed for Colab only"
      ]
    },
    {
      "cell_type": "code",
      "metadata": {
        "id": "R3Y6DY_WWaIf",
        "colab_type": "code",
        "colab": {
          "resources": {
            "http://localhost:8080/nbextensions/google.colab/files.js": {
              "data": "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",
              "ok": true,
              "headers": [
                [
                  "content-type",
                  "application/javascript"
                ]
              ],
              "status": 200,
              "status_text": ""
            }
          },
          "base_uri": "https://localhost:8080/",
          "height": 111
        },
        "outputId": "27aaaab0-8b94-4017-8403-e5868d1499a8"
      },
      "source": [
        "from google.colab import files\n",
        "files.upload()"
      ],
      "execution_count": 48,
      "outputs": [
        {
          "output_type": "display_data",
          "data": {
            "text/html": [
              "\n",
              "     <input type=\"file\" id=\"files-91265f06-2b8a-4bb4-b68a-dffdf5ddb1a2\" name=\"files[]\" multiple disabled />\n",
              "     <output id=\"result-91265f06-2b8a-4bb4-b68a-dffdf5ddb1a2\">\n",
              "      Upload widget is only available when the cell has been executed in the\n",
              "      current browser session. Please rerun this cell to enable.\n",
              "      </output>\n",
              "      <script src=\"/nbextensions/google.colab/files.js\"></script> "
            ],
            "text/plain": [
              "<IPython.core.display.HTML object>"
            ]
          },
          "metadata": {
            "tags": []
          }
        },
        {
          "output_type": "stream",
          "text": [
            "Saving worldcupplayerinfo_20140701.tsv to worldcupplayerinfo_20140701.tsv\n"
          ],
          "name": "stdout"
        },
        {
          "output_type": "execute_result",
          "data": {
            "text/plain": [
              "{'worldcupplayerinfo_20140701.tsv': b\"Group\\tCountry\\tRank\\tJersey\\tPosition\\tAge\\tSelections\\tClub\\tPlayer\\tCaptain\\t\\t\\nA\\tBrazil\\t3\\t1\\tGoalie\\t31\\t9\\tBotafogo   \\tJefferson\\t0\\t\\t\\nA\\tBrazil\\t3\\t12\\tGoalie\\t34\\t80\\tToronto FC  \\tJulio Cesar\\t0\\t\\t\\nA\\tBrazil\\t3\\t22\\tGoalie\\t31\\t6\\tAtletico Mineiro  \\tVictor\\t0\\t\\t\\nA\\tBrazil\\t3\\t2\\tDefender\\t31\\t75\\tBarcelona   \\tDani Alves\\t0\\t\\t\\nA\\tBrazil\\t3\\t13\\tDefender\\t30\\t12\\tBayern Munich  \\tDante\\t0\\t\\t\\nA\\tBrazil\\t3\\t4\\tDefender\\t27\\t36\\tChelsea   \\tDavid Luiz\\t0\\t\\t\\nA\\tBrazil\\t3\\t15\\tDefender\\t27\\t5\\tNapoli   \\tHenrique\\t0\\t\\t\\nA\\tBrazil\\t3\\t23\\tDefender\\t32\\t72\\tRoma   \\tMaicon\\t0\\t\\t\\nA\\tBrazil\\t3\\t6\\tDefender\\t26\\t31\\tReal Madrid  \\tMarcelo\\t0\\t\\t\\nA\\tBrazil\\t3\\t14\\tDefender\\t32\\t9\\tParis Saint-Germain  \\tMaxwell\\t0\\t\\t\\nA\\tBrazil\\t3\\t3\\tDefender\\t29\\t46\\tParis Saint-Germain  \\tThiago Silva \\t1\\t\\t\\nA\\tBrazil\\t3\\t20\\tMidfielder\\t21\\t11\\tShakhtar Donetsk  \\tBernard\\t0\\t\\t\\nA\\tBrazil\\t3\\t5\\tMidfielder\\t29\\t7\\tManchester City  \\tFernandinho\\t0\\t\\t\\nA\\tBrazil\\t3\\t18\\tMidfielder\\t29\\t24\\tInternazionale   \\tHernanes\\t0\\t\\t\\nA\\tBrazil\\t3\\t17\\tMidfielder\\t26\\t19\\tVfL Wolfsburg  \\tLuiz Gustavo\\t0\\t\\t\\nA\\tBrazil\\t3\\t11\\tMidfielder\\t22\\t31\\tChelsea   \\tOscar\\t0\\t\\t\\nA\\tBrazil\\t3\\t8\\tMidfielder\\t25\\t26\\tTottenham Hotspur  \\tPaulinho\\t0\\t\\t\\nA\\tBrazil\\t3\\t16\\tMidfielder\\t27\\t42\\tChelsea   \\tRamires\\t0\\t\\t\\nA\\tBrazil\\t3\\t19\\tMidfielder\\t25\\t7\\tChelsea   \\tWillian\\t0\\t\\t\\nA\\tBrazil\\t3\\t9\\tForward\\t30\\t33\\tFluminense   \\tFred\\t0\\t\\t\\nA\\tBrazil\\t3\\t7\\tForward\\t27\\t35\\tZenit Saint Petersburg \\tHulk\\t0\\t\\t\\nA\\tBrazil\\t3\\t21\\tForward\\t27\\t17\\tAtletico Mineiro  \\tJ\\xc3\\xb4\\t0\\t\\t\\nA\\tBrazil\\t3\\t10\\tForward\\t22\\t49\\tBarcelona   \\tNeymar\\t0\\t\\t\\nA\\tCameroon\\t56\\t16\\tGoalie\\t31\\t9\\tKonyaspor   \\tCharles Itandje\\t0\\t\\t\\nA\\tCameroon\\t56\\t1\\tGoalie\\t22\\t2\\tCoton Sport  \\tLoec Feudjou\\t0\\t\\t\\nA\\tCameroon\\t56\\t23\\tGoalie\\t24\\t3\\tFethiyespor   \\tSammy N'Djock\\t0\\t\\t\\nA\\tCameroon\\t56\\t22\\tDefender\\t26\\t10\\tGranada   \\tAllan Nyom\\t0\\t\\t\\nA\\tCameroon\\t56\\t14\\tDefender\\t28\\t31\\tGalatasaray   \\tAurelien Chedjou\\t0\\t\\t\\nA\\tCameroon\\t56\\t2\\tDefender\\t30\\t22\\tQueens Park Rangers \\tBeno\\xc3\\xaet Assou-Ekotto\\t0\\t\\t\\nA\\tCameroon\\t56\\t4\\tDefender\\t21\\t3\\tCoton Sport  \\tCedric Djeugoue\\t0\\t\\t\\nA\\tCameroon\\t56\\t5\\tDefender\\t28\\t16\\tBesiktas   \\tDany Nounkeu\\t0\\t\\t\\nA\\tCameroon\\t56\\t12\\tDefender\\t30\\t31\\tLyon   \\tHenri Bedimo\\t0\\t\\t\\nA\\tCameroon\\t56\\t3\\tDefender\\t24\\t48\\tMarseille   \\tNicolas N'Koulou\\t0\\t\\t\\nA\\tCameroon\\t56\\t6\\tMidfielder\\t26\\t47\\tBarcelona   \\tAlex Song\\t0\\t\\t\\nA\\tCameroon\\t56\\t20\\tMidfielder\\t21\\t9\\tLens   \\tEdgar Salli\\t0\\t\\t\\nA\\tCameroon\\t56\\t18\\tMidfielder\\t28\\t38\\tAntalyaspor   \\tEyong Enoh\\t0\\t\\t\\nA\\tCameroon\\t56\\t11\\tMidfielder\\t31\\t66\\tRennes   \\tJean Makoun\\t0\\t\\t\\nA\\tCameroon\\t56\\t21\\tMidfielder\\t22\\t23\\tSchalke 4  \\tJoel Matip\\t0\\t\\t\\nA\\tCameroon\\t56\\t7\\tMidfielder\\t28\\t40\\tBordeaux   \\tLandry N'Guemo\\t0\\t\\t\\nA\\tCameroon\\t56\\t17\\tMidfielder\\t28\\t49\\tSevilla   \\tStephane Mbia\\t0\\t\\t\\nA\\tCameroon\\t56\\t8\\tForward\\t25\\t17\\tNancy   \\tBenjamin Moukandjo\\t0\\t\\t\\nA\\tCameroon\\t56\\t19\\tForward\\t18\\t8\\tZulte Waregem  \\tFabrice Olinga\\t0\\t\\t\\nA\\tCameroon\\t56\\t13\\tForward\\t25\\t26\\tMainz 5  \\tMaxim Choupo-Moting\\t0\\t\\t\\nA\\tCameroon\\t56\\t15\\tForward\\t32\\t56\\tFenerbahce   \\tPierre Webo\\t0\\t\\t\\nA\\tCameroon\\t56\\t9\\tForward\\t33\\t117\\tChelsea   \\tSamuel Eto'o \\tc\\t\\t0\\nA\\tCameroon\\t56\\t10\\tForward\\t22\\t24\\tLorient   \\tVincent Aboubakar\\t0\\t\\t\\nA\\tCroatia\\t18\\t23\\tGoalie\\t29\\t6\\tMonaco   \\tDanijel Subasic\\t0\\t\\t\\nA\\tCroatia\\t18\\t12\\tGoalie\\t21\\t0\\tLokomotiva   \\tOliver Zelenika\\t0\\t\\t\\nA\\tCroatia\\t18\\t1\\tGoalie\\t35\\t111\\tRostov   \\tStipe Pletikosa\\t0\\t\\t\\nA\\tCroatia\\t18\\t3\\tDefender\\t32\\t50\\tPanathinaikos   \\tDanijel Pranjic\\t0\\t\\t\\nA\\tCroatia\\t18\\t11\\tDefender\\t32\\t112\\tShakhtar Donetsk  \\tDarijo Srna \\t1\\t\\t\\nA\\tCroatia\\t18\\t6\\tDefender\\t24\\t25\\tSouthampton   \\tDejan Lovren\\t0\\t\\t\\nA\\tCroatia\\t18\\t21\\tDefender\\t25\\t23\\tDynamo Kyiv  \\tDomagoj Vida\\t0\\t\\t\\nA\\tCroatia\\t18\\t13\\tDefender\\t29\\t21\\tPanathinaikos   \\tGordon Schildenfeld\\t0\\t\\t\\nA\\tCroatia\\t18\\t2\\tDefender\\t22\\t7\\tGenoa   \\tSime Vrsaljko\\t0\\t\\t\\nA\\tCroatia\\t18\\t5\\tDefender\\t28\\t72\\tLokomotiv Moscow  \\tVedran Corluka\\t0\\t\\t\\nA\\tCroatia\\t18\\t15\\tMidfielder\\t25\\t9\\tHamburger SV  \\tMilan Badelj\\t0\\t\\t\\nA\\tCroatia\\t18\\t4\\tMidfielder\\t25\\t29\\tVfL Wolfsburg  \\tIvan Perisic\\t0\\t\\t\\nA\\tCroatia\\t18\\t7\\tMidfielder\\t26\\t62\\tSevilla   \\tIvan Rakitic\\t0\\t\\t\\nA\\tCroatia\\t18\\t10\\tMidfielder\\t28\\t75\\tReal Madrid  \\tLuka Modric\\t0\\t\\t\\nA\\tCroatia\\t18\\t14\\tMidfielder\\t21\\t1\\tDinamo Zagreb  \\tMarcelo Brozovic\\t0\\t\\t\\nA\\tCroatia\\t18\\t20\\tMidfielder\\t20\\t10\\tInternazionale   \\tMateo Kovacic\\t0\\t\\t\\nA\\tCroatia\\t18\\t8\\tMidfielder\\t30\\t55\\tDynamo Kyiv  \\tOgnjen Vukojevic\\t0\\t\\t\\nA\\tCroatia\\t18\\t19\\tMidfielder\\t27\\t6\\tGetafe   \\tSammir\\t0\\t\\t\\nA\\tCroatia\\t18\\t16\\tForward\\t20\\t5\\tFiorentina   \\tAnte Rebic\\t0\\t\\t\\nA\\tCroatia\\t18\\t22\\tForward\\t31\\t63\\tShakhtar Donetsk  \\tEduardo\\t0\\t\\t\\nA\\tCroatia\\t18\\t18\\tForward\\t34\\t92\\tVfL Wolfsburg  \\tIvica Olic\\t0\\t\\t\\nA\\tCroatia\\t18\\t17\\tForward\\t28\\t50\\tBayern Munich  \\tMario Mandzukic\\t0\\t\\t\\nA\\tCroatia\\t18\\t9\\tForward\\t28\\t33\\tHull City  \\tNikica Jelavic\\t0\\t\\t\\nA\\tMexico\\t20\\t12\\tGoalie\\t31\\t14\\tToluca   \\tAlfredo Talavera\\t0\\t\\t\\nA\\tMexico\\t20\\t13\\tGoalie\\t28\\t59\\tAjaccio   \\tGuillermo Ochoa\\t0\\t\\t\\nA\\tMexico\\t20\\t1\\tGoalie\\t33\\t34\\tCruz Azul  \\tJose de Jesus Corona\\t0\\t\\t\\nA\\tMexico\\t20\\t18\\tDefender\\t27\\t104\\tBayer Leverkusen  \\tAndres Guardado\\t0\\t\\t\\nA\\tMexico\\t20\\t3\\tDefender\\t34\\t122\\tUANL   \\tCarlos Salcido\\t0\\t\\t\\nA\\tMexico\\t20\\t5\\tDefender\\t21\\t14\\tPorto   \\tDiego Reyes\\t0\\t\\t\\nA\\tMexico\\t20\\t2\\tDefender\\t32\\t95\\tAmerica   \\tFrancisco Javier Rodriguez\\t0\\t\\t\\nA\\tMexico\\t20\\t15\\tDefender\\t26\\t53\\tEspanyol   \\tHector Moreno\\t0\\t\\t\\nA\\tMexico\\t20\\t16\\tDefender\\t25\\t8\\tToluca   \\tMiguel Angel Ponce\\t0\\t\\t\\nA\\tMexico\\t20\\t7\\tDefender\\t25\\t15\\tAmerica   \\tMiguel Layun\\t0\\t\\t\\nA\\tMexico\\t20\\t22\\tDefender\\t28\\t30\\tAmerica   \\tPaul Aguilar\\t0\\t\\t\\nA\\tMexico\\t20\\t4\\tDefender\\t35\\t120\\tLeon   \\tRafael Marquez \\t1\\t\\t\\nA\\tMexico\\t20\\t21\\tMidfielder\\t24\\t16\\tLeon   \\tCarlos Pena\\t0\\t\\t\\nA\\tMexico\\t20\\t6\\tMidfielder\\t24\\t13\\tPorto   \\tHector Herrera\\t0\\t\\t\\nA\\tMexico\\t20\\t17\\tMidfielder\\t23\\t7\\tToluca   \\tIsaac Brizuela\\t0\\t\\t\\nA\\tMexico\\t20\\t20\\tMidfielder\\t24\\t22\\tVillarreal   \\tJavier Aquino\\t0\\t\\t\\nA\\tMexico\\t20\\t23\\tMidfielder\\t26\\t5\\tLeon   \\tJose Juan Vazquez\\t0\\t\\t\\nA\\tMexico\\t20\\t8\\tMidfielder\\t24\\t15\\tCruz Azul  \\tMarco Fabian\\t0\\t\\t\\nA\\tMexico\\t20\\t11\\tForward\\t23\\t6\\tUANL   \\tAlan Pulido\\t0\\t\\t\\nA\\tMexico\\t20\\t10\\tForward\\t25\\t76\\tVillarreal   \\tGiovani dos Santos\\t0\\t\\t\\nA\\tMexico\\t20\\t14\\tForward\\t26\\t62\\tManchester United  \\tJavier Hernandez\\t0\\t\\t\\nA\\tMexico\\t20\\t19\\tForward\\t30\\t33\\tSantos Laguna  \\tOribe Peralta\\t0\\t\\t\\nA\\tMexico\\t20\\t9\\tForward\\t23\\t25\\tAmerica   \\tRaul Jimenez\\t0\\t\\t\\nB\\tAustralia\\t62\\t18\\tGoalie\\t32\\t8\\tAdelaide United  \\tEugene Galekovic\\t0\\t\\t\\nB\\tAustralia\\t62\\t1\\tGoalie\\t22\\t7\\tClub Brugge  \\tMathew Ryan\\t0\\t\\t\\nB\\tAustralia\\t62\\t12\\tGoalie\\t25\\t3\\tBorussia Dortmund  \\tMitchell Langerak\\t0\\t\\t\\nB\\tAustralia\\t62\\t22\\tDefender\\t29\\t3\\tJeonbuk Hyundai Motors \\tAlex Wilkinson\\t0\\t\\t\\nB\\tAustralia\\t62\\t8\\tDefender\\t21\\t0\\tPreston North End \\tBailey Wright\\t0\\t\\t\\nB\\tAustralia\\t62\\t2\\tDefender\\t26\\t9\\tBrisbane Roar  \\tIvan Franjic\\t0\\t\\t\\nB\\tAustralia\\t62\\t3\\tDefender\\t22\\t7\\tHeracles Almelo  \\tJason Davidson\\t0\\t\\t\\nB\\tAustralia\\t62\\t6\\tDefender\\t25\\t18\\tWestern Sydney Wanderers \\tMatthew Spiranovic\\t0\\t\\t\\nB\\tAustralia\\t62\\t19\\tDefender\\t24\\t9\\tShandong Luneng Taishan \\tRyan McGowan\\t0\\t\\t\\nB\\tAustralia\\t62\\t10\\tMidfielder\\t21\\t2\\tFortuna D\\xc3\\xbcsseldorf  \\tBen Halloran\\t0\\t\\t\\nB\\tAustralia\\t62\\t20\\tMidfielder\\t27\\t23\\tSion   \\tDario Vidosic\\t0\\t\\t\\nB\\tAustralia\\t62\\t16\\tMidfielder\\t25\\t14\\tAutriche Wien  \\tJames Holland\\t0\\t\\t\\nB\\tAustralia\\t62\\t14\\tMidfielder\\t25\\t11\\tAtalanta   \\tJames Troisi\\t0\\t\\t\\nB\\tAustralia\\t62\\t23\\tMidfielder\\t34\\t74\\tAl-Gharafa   \\tMark Bresciano\\t0\\t\\t\\nB\\tAustralia\\t62\\t5\\tMidfielder\\t28\\t29\\tMelbourne Victory  \\tMark Milligan\\t0\\t\\t\\nB\\tAustralia\\t62\\t21\\tMidfielder\\t21\\t1\\tSwindon Town  \\tMassimo Luongo\\t0\\t\\t\\nB\\tAustralia\\t62\\t17\\tMidfielder\\t31\\t47\\tBrisbane Roar  \\tMatt McKay\\t0\\t\\t\\nB\\tAustralia\\t62\\t15\\tMidfielder\\t29\\t44\\tCrystal Palace  \\tMile Jedinak \\t1\\t\\t\\nB\\tAustralia\\t62\\t13\\tMidfielder\\t25\\t3\\tLuzern   \\tOliver Bozanic\\t0\\t\\t\\nB\\tAustralia\\t62\\t11\\tMidfielder\\t22\\t15\\tUtrecht   \\tTommy Oar\\t0\\t\\t\\nB\\tAustralia\\t62\\t9\\tForward\\t21\\t5\\tNewcastle Jets  \\tAdam Taggart\\t0\\t\\t\\nB\\tAustralia\\t62\\t7\\tForward\\t23\\t8\\tFSV Frankfurt  \\tMathew Leckie\\t0\\t\\t\\nB\\tAustralia\\t62\\t4\\tForward\\t34\\t69\\tNew York Red Bulls\\tTim Cahill\\t0\\t\\t\\nB\\tChile\\t14\\t1\\tGoalie\\t31\\t79\\tReal Sociedad  \\tClaudio Bravo \\t1\\t\\t\\nB\\tChile\\t14\\t12\\tGoalie\\t25\\t4\\tUniversidad Catolica  \\tCristopher Toselli\\t0\\t\\t\\nB\\tChile\\t14\\t23\\tGoalie\\t33\\t8\\tUniversidad de Chili \\tJohnny Herrera\\t0\\t\\t\\nB\\tChile\\t14\\t2\\tDefender\\t25\\t25\\tSantos   \\tEugenio Mena\\t0\\t\\t\\nB\\tChile\\t14\\t17\\tDefender\\t26\\t61\\tCardiff City  \\tGary Medel\\t0\\t\\t\\nB\\tChile\\t14\\t18\\tDefender\\t28\\t65\\tNottingham Forest  \\tGonzalo Jara\\t0\\t\\t\\nB\\tChile\\t14\\t13\\tDefender\\t31\\t19\\tUniversidad de Chili \\tJose Rojas\\t0\\t\\t\\nB\\tChile\\t14\\t3\\tDefender\\t23\\t2\\tMalm\\xc3\\xb6 FF  \\tMiiko Albornoz\\t0\\t\\t\\nB\\tChile\\t14\\t8\\tMidfielder\\t27\\t54\\tJuventus   \\tArturo Vidal\\t0\\t\\t\\nB\\tChile\\t14\\t6\\tMidfielder\\t27\\t44\\tAtalanta   \\tCarlos Carmona\\t0\\t\\t\\nB\\tChile\\t14\\t20\\tMidfielder\\t25\\t21\\tInternacional   \\tCharles Aranguiz\\t0\\t\\t\\nB\\tChile\\t14\\t14\\tMidfielder\\t28\\t26\\tCelta Vigo  \\tFabian Orellana\\t0\\t\\t\\nB\\tChile\\t14\\t16\\tMidfielder\\t23\\t18\\tTwente   \\tFelipe Gutierrez\\t0\\t\\t\\nB\\tChile\\t14\\t5\\tMidfielder\\t28\\t12\\tOsasuna   \\tFrancisco Silva\\t0\\t\\t\\nB\\tChile\\t14\\t15\\tMidfielder\\t30\\t59\\tWigan Athletic  \\tJean Beausejour\\t0\\t\\t\\nB\\tChile\\t14\\t10\\tMidfielder\\t30\\t57\\tPalmeiras   \\tJorge Valdivia\\t0\\t\\t\\nB\\tChile\\t14\\t19\\tMidfielder\\t29\\t23\\tColo-Colo   \\tJose Pedro Fuenzalida\\t0\\t\\t\\nB\\tChile\\t14\\t21\\tMidfielder\\t27\\t21\\tBasel   \\tMarcelo Diaz\\t0\\t\\t\\nB\\tChile\\t14\\t4\\tMidfielder\\t25\\t47\\tJuventus   \\tMauricio Isla\\t0\\t\\t\\nB\\tChile\\t14\\t7\\tForward\\t25\\t67\\tBarcelona   \\tAlexis Sanchez\\t0\\t\\t\\nB\\tChile\\t14\\t11\\tForward\\t24\\t30\\tValencia   \\tEduardo Vargas\\t0\\t\\t\\nB\\tChile\\t14\\t22\\tForward\\t33\\t35\\tColo-Colo   \\tEsteban Paredes\\t0\\t\\t\\nB\\tChile\\t14\\t9\\tForward\\t30\\t27\\tCagliari   \\tMauricio Pinilla\\t0\\t\\t\\nB\\tSpain\\t1\\t12\\tGoalie\\t23\\t1\\tManchester United  \\tDavid de Gea\\t0\\t\\t\\nB\\tSpain\\t1\\t1\\tGoalie\\t33\\t154\\tReal Madrid  \\tIker Casillas \\t1\\t\\t\\nB\\tSpain\\t1\\t23\\tGoalie\\t31\\t32\\tNapoli   \\tPepe Reina\\t0\\t\\t\\nB\\tSpain\\t1\\t22\\tDefender\\t24\\t6\\tChelsea   \\tCesar Azpilicueta\\t0\\t\\t\\nB\\tSpain\\t1\\t3\\tDefender\\t27\\t60\\tBarcelona   \\tGerard Pique\\t0\\t\\t\\nB\\tSpain\\t1\\t18\\tDefender\\t25\\t26\\tBarcelona   \\tJordi Alba\\t0\\t\\t\\nB\\tSpain\\t1\\t5\\tDefender\\t29\\t8\\tAtletico Madrid  \\tJuanfran\\t0\\t\\t\\nB\\tSpain\\t1\\t2\\tDefender\\t28\\t46\\tNapoli   \\tRaul Albiol\\t0\\t\\t\\nB\\tSpain\\t1\\t15\\tDefender\\t28\\t117\\tReal Madrid  \\tSergio Ramos\\t0\\t\\t\\nB\\tSpain\\t1\\t6\\tMidfielder\\t30\\t97\\tBarcelona   \\tAndres Iniesta\\t0\\t\\t\\nB\\tSpain\\t1\\t10\\tMidfielder\\t27\\t89\\tBarcelona   \\tCesc Fabregas\\t0\\t\\t\\nB\\tSpain\\t1\\t21\\tMidfielder\\t28\\t80\\tManchester City  \\tDavid Silva\\t0\\t\\t\\nB\\tSpain\\t1\\t4\\tMidfielder\\t25\\t17\\tBayern Munich  \\tJavi Martinez\\t0\\t\\t\\nB\\tSpain\\t1\\t13\\tMidfielder\\t26\\t33\\tManchester United  \\tJuan Mata\\t0\\t\\t\\nB\\tSpain\\t1\\t17\\tMidfielder\\t22\\t8\\tAtletico Madrid  \\tKoke\\t0\\t\\t\\nB\\tSpain\\t1\\t20\\tMidfielder\\t29\\t64\\tArsenal   \\tSanti Cazorla\\t0\\t\\t\\nB\\tSpain\\t1\\t16\\tMidfielder\\t25\\t65\\tBarcelona   \\tSergio Busquets\\t0\\t\\t\\nB\\tSpain\\t1\\t14\\tMidfielder\\t32\\t111\\tReal Madrid  \\tXabi Alonso\\t0\\t\\t\\nB\\tSpain\\t1\\t8\\tMidfielder\\t34\\t132\\tBarcelona   \\tXavi\\t0\\t\\t\\nB\\tSpain\\t1\\t7\\tForward\\t32\\t96\\tAtletico Madrid  \\tDavid Villa\\t0\\t\\t\\nB\\tSpain\\t1\\t19\\tForward\\t25\\t2\\tAtletico Madrid  \\tDiego Costa\\t0\\t\\t\\nB\\tSpain\\t1\\t9\\tForward\\t30\\t107\\tChelsea   \\tFernando Torres\\t0\\t\\t\\nB\\tSpain\\t1\\t11\\tForward\\t26\\t40\\tBarcelona   \\tPedro\\t0\\t\\t\\nB\\tNetherlands\\t15\\t1\\tGoalie\\t25\\t8\\tAjax   \\tJasper Cillessen\\t0\\t\\t\\nB\\tNetherlands\\t15\\t22\\tGoalie\\t30\\t14\\tSwansea City  \\tMichel Vorm\\t0\\t\\t\\nB\\tNetherlands\\t15\\t23\\tGoalie\\t26\\t5\\tNewcastle United  \\tTim Krul\\t0\\t\\t\\nB\\tNetherlands\\t15\\t4\\tDefender\\t22\\t16\\tFeyenoord   \\tBruno Martins Indi\\t0\\t\\t\\nB\\tNetherlands\\t15\\t5\\tDefender\\t24\\t12\\tAjax   \\tDaley Blind\\t0\\t\\t\\nB\\tNetherlands\\t15\\t7\\tDefender\\t24\\t16\\tFeyenoord   \\tDaryl Janmaat\\t0\\t\\t\\nB\\tNetherlands\\t15\\t13\\tDefender\\t22\\t2\\tAjax   \\tJoel Veltman\\t0\\t\\t\\nB\\tNetherlands\\t15\\t12\\tDefender\\t30\\t2\\tAugsburg   \\tPaul Verhaegh\\t0\\t\\t\\nB\\tNetherlands\\t15\\t2\\tDefender\\t29\\t24\\tAston Villa  \\tRon Vlaar\\t0\\t\\t\\nB\\tNetherlands\\t15\\t3\\tDefender\\t22\\t12\\tFeyenoord   \\tStefan de Vrij\\t0\\t\\t\\nB\\tNetherlands\\t15\\t14\\tDefender\\t20\\t1\\tFeyenoord   \\tTerence Kongolo\\t0\\t\\t\\nB\\tNetherlands\\t15\\t11\\tMidfielder\\t30\\t75\\tBayern Munich  \\tArjen Robben\\t0\\t\\t\\nB\\tNetherlands\\t15\\t20\\tMidfielder\\t23\\t5\\tPSV   \\tGeorginio Wijnaldum\\t0\\t\\t\\nB\\tNetherlands\\t15\\t6\\tMidfielder\\t26\\t10\\tSwansea City  \\tJonathan de Guzman\\t0\\t\\t\\nB\\tNetherlands\\t15\\t16\\tMidfielder\\t22\\t8\\tFeyenoord   \\tJordy Clasie\\t0\\t\\t\\nB\\tNetherlands\\t15\\t18\\tMidfielder\\t24\\t6\\tNorwich City  \\tLeroy Fer\\t0\\t\\t\\nB\\tNetherlands\\t15\\t21\\tMidfielder\\t20\\t6\\tPSV   \\tMemphis Depay\\t0\\t\\t\\nB\\tNetherlands\\t15\\t8\\tMidfielder\\t29\\t71\\tMilan   \\tNigel de Jong\\t0\\t\\t\\nB\\tNetherlands\\t15\\t10\\tMidfielder\\t29\\t99\\tGalatasaray   \\tWesley Sneijder\\t0\\t\\t\\nB\\tNetherlands\\t15\\t15\\tForward\\t33\\t98\\tFenerbahce   \\tDirk Kuyt\\t0\\t\\t\\nB\\tNetherlands\\t15\\t17\\tForward\\t26\\t22\\tDynamo Kyiv  \\tJeremain Lens\\t0\\t\\t\\nB\\tNetherlands\\t15\\t19\\tForward\\t30\\t62\\tSchalke 4  \\tKlaas-Jan Huntelaar\\t0\\t\\t\\nB\\tNetherlands\\t15\\t9\\tForward\\t30\\t85\\tManchester United  \\tRobin van Persie \\t1\\t\\t\\nC\\tColombia\\t8\\t12\\tGoalie\\t24\\t0\\tSanta Fe  \\tCamilo Vargas\\t0\\t\\t\\nC\\tColombia\\t8\\t1\\tGoalie\\t25\\t44\\tNice   \\tDavid Ospina\\t0\\t\\t\\nC\\tColombia\\t8\\t22\\tGoalie\\t42\\t50\\tDeportivo Cali  \\tFaryd Mondragon\\t0\\t\\t\\nC\\tColombia\\t8\\t23\\tDefender\\t29\\t14\\tSan Lorenzo  \\tCarlos Valdes\\t0\\t\\t\\nC\\tColombia\\t8\\t2\\tDefender\\t27\\t24\\tMilan   \\tCristian Zapata\\t0\\t\\t\\nC\\tColombia\\t8\\t16\\tDefender\\t21\\t3\\tRiver Plate  \\tEder Alvarez Balanta\\t0\\t\\t\\nC\\tColombia\\t8\\t18\\tDefender\\t28\\t50\\tNapoli   \\tJuan Camilo Zuniga\\t0\\t\\t\\nC\\tColombia\\t8\\t3\\tDefender\\t38\\t98\\tAtalanta   \\tMario Yepes \\t1\\t\\t\\nC\\tColombia\\t8\\t7\\tDefender\\t27\\t53\\tWest Ham United \\tPablo Armero\\t0\\t\\t\\nC\\tColombia\\t8\\t4\\tDefender\\t22\\t6\\tPSV   \\tSantiago Arias\\t0\\t\\t\\nC\\tColombia\\t8\\t8\\tMidfielder\\t29\\t49\\tToulouse   \\tAbel Aguilar\\t0\\t\\t\\nC\\tColombia\\t8\\t5\\tMidfielder\\t23\\t1\\tRiver Plate  \\tCarlos Carbonero\\t0\\t\\t\\nC\\tColombia\\t8\\t15\\tMidfielder\\t25\\t8\\tAtletico Nacional  \\tAlexander Mejia\\t0\\t\\t\\nC\\tColombia\\t8\\t6\\tMidfielder\\t28\\t44\\tElche   \\tCarlos Sanchez\\t0\\t\\t\\nC\\tColombia\\t8\\t13\\tMidfielder\\t27\\t49\\tInternazionale   \\tFredy Guarin\\t0\\t\\t\\nC\\tColombia\\t8\\t10\\tMidfielder\\t22\\t22\\tMonaco   \\tJames Rodriguez\\t0\\t\\t\\nC\\tColombia\\t8\\t20\\tMidfielder\\t21\\t4\\tPorto   \\tJuan Fernando Quintero\\t0\\t\\t\\nC\\tColombia\\t8\\t11\\tMidfielder\\t26\\t28\\tFiorentina   \\tJuan Guillermo Cuadrado\\t0\\t\\t\\nC\\tColombia\\t8\\t14\\tMidfielder\\t24\\t9\\tCagliari   \\tVictor Ibarbo\\t0\\t\\t\\nC\\tColombia\\t8\\t19\\tForward\\t28\\t26\\tHertha BSC  \\tAdrian Ramos\\t0\\t\\t\\nC\\tColombia\\t8\\t17\\tForward\\t27\\t11\\tSevilla   \\tCarlos Bacca\\t0\\t\\t\\nC\\tColombia\\t8\\t21\\tForward\\t27\\t27\\tPorto   \\tJackson Martinez\\t0\\t\\t\\nC\\tColombia\\t8\\t9\\tForward\\t29\\t30\\tRiver Plate  \\tTeofilo Gutierrez\\t0\\t\\t\\nC\\tIvory Coast\\t23\\t1\\tGoalie\\t34\\t79\\tLokeren   \\tBoubacar Barry\\t0\\t\\t\\nC\\tIvory Coast\\t23\\t23\\tGoalie\\t21\\t1\\tStab\\xc3\\xa6k   \\tSayouba Mande\\t0\\t\\t\\nC\\tIvory Coast\\t23\\t16\\tGoalie\\t25\\t1\\tSewe Sport  \\tSylvain Gbohouo\\t0\\t\\t\\nC\\tIvory Coast\\t23\\t3\\tDefender\\t31\\t79\\tVfB Stuttgart  \\tArthur Boka\\t0\\t\\t\\nC\\tIvory Coast\\t23\\t18\\tDefender\\t27\\t4\\tEintracht Frankfurt  \\tConstant Djakpa\\t0\\t\\t\\nC\\tIvory Coast\\t23\\t5\\tDefender\\t33\\t119\\tTrabzonspor   \\tDidier Zokora\\t0\\t\\t\\nC\\tIvory Coast\\t23\\t7\\tDefender\\t21\\t1\\tToulouse   \\tJean-Daniel Akpa-Akpro\\t0\\t\\t\\nC\\tIvory Coast\\t23\\t4\\tDefender\\t33\\t106\\tLiverpool   \\tKolo Toure\\t0\\t\\t\\nC\\tIvory Coast\\t23\\t2\\tDefender\\t27\\t3\\tcaykur Rizespor  \\tOusmane Viera\\t0\\t\\t\\nC\\tIvory Coast\\t23\\t17\\tDefender\\t21\\t8\\tToulouse   \\tSerge Aurier\\t0\\t\\t\\nC\\tIvory Coast\\t23\\t22\\tDefender\\t29\\t43\\tTrabzonspor   \\tSol Bamba\\t0\\t\\t\\nC\\tIvory Coast\\t23\\t9\\tMidfielder\\t27\\t44\\tNewcastle United  \\tCheick Tiote\\t0\\t\\t\\nC\\tIvory Coast\\t23\\t13\\tMidfielder\\t30\\t25\\tHannover 96  \\tDidier Ya Konan\\t0\\t\\t\\nC\\tIvory Coast\\t23\\t14\\tMidfielder\\t21\\t1\\tSaint-etienne   \\tIsmael Diomande\\t0\\t\\t\\nC\\tIvory Coast\\t23\\t20\\tMidfielder\\t29\\t6\\tBasel   \\tSerey Die\\t0\\t\\t\\nC\\tIvory Coast\\t23\\t19\\tMidfielder\\t31\\t83\\tManchester City  \\tYaya Toure\\t0\\t\\t\\nC\\tIvory Coast\\t23\\t11\\tForward\\t36\\t100\\tGalatasaray   \\tDidier Drogba \\t1\\t\\t\\nC\\tIvory Coast\\t23\\t10\\tForward\\t27\\t53\\tRoma   \\tGervinho\\t0\\t\\t\\nC\\tIvory Coast\\t23\\t21\\tForward\\t25\\t7\\tBasel   \\tGiovanni Sio\\t0\\t\\t\\nC\\tIvory Coast\\t23\\t6\\tForward\\t23\\t3\\tFortuna D\\xc3\\xbcsseldorf  \\tMathis Bolly\\t0\\t\\t\\nC\\tIvory Coast\\t23\\t15\\tForward\\t26\\t25\\tSaint-etienne   \\tMax Gradel\\t0\\t\\t\\nC\\tIvory Coast\\t23\\t8\\tForward\\t28\\t64\\tLille   \\tSalomon Kalou\\t0\\t\\t\\nC\\tIvory Coast\\t23\\t12\\tForward\\t25\\t24\\tSwansea City  \\tWilfried Bony\\t0\\t\\t\\nC\\tGreece\\t12\\t1\\tGoalie\\t28\\t19\\tGranada   \\tOrestis Karnezis\\t0\\t\\t\\nC\\tGreece\\t12\\t12\\tGoalie\\t28\\t2\\tPAOK   \\tPanagiotis Glykos\\t0\\t\\t\\nC\\tGreece\\t12\\t13\\tGoalie\\t20\\t2\\tPanathinaikos   \\tStefanos Kapino\\t0\\t\\t\\nC\\tGreece\\t12\\t2\\tMidfielder\\t27\\t30\\tOlympiacos   \\tGiannis Maniatis\\t0\\t\\t\\nC\\tGreece\\t12\\t3\\tDefender\\t26\\t13\\tPAOK   \\tGiorgos Tzavellas\\t0\\t\\t\\nC\\tGreece\\t12\\t20\\tDefender\\t29\\t22\\tOlympiacos   \\tJose Holebas\\t0\\t\\t\\nC\\tGreece\\t12\\t4\\tDefender\\t22\\t9\\tOlympiacos   \\tKostas Manolas\\t0\\t\\t\\nC\\tGreece\\t12\\t11\\tDefender\\t33\\t50\\tLevante   \\tLoukas Vyntra\\t0\\t\\t\\nC\\tGreece\\t12\\t19\\tDefender\\t25\\t47\\tBorussia Dortmund  \\tSokratis Papastathopoulos\\t0\\t\\t\\nC\\tGreece\\t12\\t5\\tDefender\\t32\\t19\\tVerona   \\tVangelis Moras\\t0\\t\\t\\nC\\tGreece\\t12\\t15\\tDefender\\t28\\t66\\tRoma   \\tVasilis Torosidis\\t0\\t\\t\\nC\\tGreece\\t12\\t6\\tMidfielder\\t29\\t49\\tKayserispor   \\tAlexandros Tziolis\\t0\\t\\t\\nC\\tGreece\\t12\\t22\\tMidfielder\\t24\\t4\\tOlympiacos   \\tAndreas Samaris\\t0\\t\\t\\nC\\tGreece\\t12\\t18\\tMidfielder\\t23\\t19\\tGenoa   \\tGiannis Fetfatzidis\\t0\\t\\t\\nC\\tGreece\\t12\\t10\\tMidfielder\\t37\\t135\\tFulham   \\tGiorgos Karagounis \\t1\\t\\t\\nC\\tGreece\\t12\\t21\\tMidfielder\\t34\\t111\\tPAOK   \\tKostas Katsouranis\\t0\\t\\t\\nC\\tGreece\\t12\\t16\\tMidfielder\\t27\\t19\\tBologna   \\tLazaros Christodoulopoulos\\t0\\t\\t\\nC\\tGreece\\t12\\t8\\tMidfielder\\t26\\t16\\tBologna   \\tPanagiotis Kone\\t0\\t\\t\\nC\\tGreece\\t12\\t23\\tMidfielder\\t23\\t6\\tTorino   \\tPanagiotis Tachtsidis\\t0\\t\\t\\nC\\tGreece\\t12\\t14\\tForward\\t32\\t76\\tPAOK   \\tDimitris Salpingidis\\t0\\t\\t\\nC\\tGreece\\t12\\t7\\tForward\\t29\\t74\\tCeltic   \\tGiorgos Samaras\\t0\\t\\t\\nC\\tGreece\\t12\\t9\\tForward\\t26\\t32\\tFulham   \\tKostas Mitroglou\\t0\\t\\t\\nC\\tGreece\\t12\\t17\\tForward\\t34\\t72\\tKonyaspor   \\tTheofanis Gekas\\t0\\t\\t\\nC\\tJapan\\t46\\t1\\tGoalie\\t31\\t56\\tStandard Liege  \\tEiji Kawashima\\t0\\t\\t\\nC\\tJapan\\t46\\t23\\tGoalie\\t25\\t2\\tF.C. Tokyo  \\tSh\\xc5\\xabichi Gonda\\t0\\t\\t\\nC\\tJapan\\t46\\t12\\tGoalie\\t27\\t12\\tUrawa Red Diamonds \\tShusaku Nishikawa\\t0\\t\\t\\nC\\tJapan\\t46\\t2\\tDefender\\t26\\t67\\tSchalke 4  \\tAtsuto Uchida\\t0\\t\\t\\nC\\tJapan\\t46\\t3\\tDefender\\t23\\t12\\tVfB Stuttgart  \\tG\\xc5\\x8dtoku Sakai\\t0\\t\\t\\nC\\tJapan\\t46\\t21\\tDefender\\t24\\t17\\tHannover 96  \\tHiroki Sakai\\t0\\t\\t\\nC\\tJapan\\t46\\t19\\tDefender\\t30\\t21\\tJubilo Iwata  \\tMasahiko Inoha\\t0\\t\\t\\nC\\tJapan\\t46\\t6\\tDefender\\t27\\t9\\tF.C. Tokyo  \\tMasato Morishige\\t0\\t\\t\\nC\\tJapan\\t46\\t22\\tDefender\\t25\\t40\\tSouthampton   \\tMaya Yoshida\\t0\\t\\t\\nC\\tJapan\\t46\\t15\\tDefender\\t31\\t80\\tGamba Osaka  \\tYasuyuki Konno\\t0\\t\\t\\nC\\tJapan\\t46\\t5\\tDefender\\t27\\t69\\tInternazionale   \\tYuto Nagatomo\\t0\\t\\t\\nC\\tJapan\\t46\\t8\\tMidfielder\\t24\\t25\\t1. FC N\\xc3\\xbcrnberg \\tHiroshi Kiyotake\\t0\\t\\t\\nC\\tJapan\\t46\\t16\\tMidfielder\\t23\\t11\\tCerezo Osaka  \\tHotaru Yamaguchi\\t0\\t\\t\\nC\\tJapan\\t46\\t4\\tMidfielder\\t27\\t55\\tMilan   \\tKeisuke Honda\\t0\\t\\t\\nC\\tJapan\\t46\\t17\\tMidfielder\\t30\\t78\\t1. FC N\\xc3\\xbcrnberg \\tMakoto Hasebe \\t1\\t\\t\\nC\\tJapan\\t46\\t10\\tMidfielder\\t25\\t56\\tManchester United  \\tShinji Kagawa\\t0\\t\\t\\nC\\tJapan\\t46\\t14\\tMidfielder\\t28\\t5\\tSanfrecce Hiroshima  \\tToshihiro Aoyama\\t0\\t\\t\\nC\\tJapan\\t46\\t7\\tMidfielder\\t34\\t143\\tGamba Osaka  \\tYasuhito End\\xc5\\x8d\\t0\\t\\t\\nC\\tJapan\\t46\\t20\\tForward\\t24\\t4\\tYokohama F. Marinos \\tManabu Sait\\xc5\\x8d\\t0\\t\\t\\nC\\tJapan\\t46\\t9\\tForward\\t28\\t75\\tMainz 5  \\tShinji Okazaki\\t0\\t\\t\\nC\\tJapan\\t46\\t11\\tForward\\t24\\t11\\tCerezo Osaka  \\tYoichiro Kakitani\\t0\\t\\t\\nC\\tJapan\\t46\\t13\\tForward\\t31\\t56\\tKawasaki Frontale  \\tYoshito \\xc5\\x8ckubo\\t0\\t\\t\\nC\\tJapan\\t46\\t18\\tForward\\t24\\t8\\t1860 M\\xc3\\xbcnchen  \\tYuya Osako\\t0\\t\\t\\nD\\tEngland\\t10\\t13\\tGoalie\\t31\\t6\\tWest Bromwich Albion \\tBen Foster\\t0\\t\\t\\nD\\tEngland\\t10\\t22\\tGoalie\\t26\\t1\\tCeltic   \\tFraser Forster\\t0\\t\\t\\nD\\tEngland\\t10\\t1\\tGoalie\\t27\\t40\\tManchester City  \\tJoe Hart\\t0\\t\\t\\nD\\tEngland\\t10\\t12\\tDefender\\t24\\t11\\tManchester United  \\tChris Smalling\\t0\\t\\t\\nD\\tEngland\\t10\\t5\\tDefender\\t28\\t23\\tChelsea   \\tGary Cahill\\t0\\t\\t\\nD\\tEngland\\t10\\t2\\tDefender\\t29\\t51\\tLiverpool   \\tGlen Johnson\\t0\\t\\t\\nD\\tEngland\\t10\\t3\\tDefender\\t29\\t23\\tEverton   \\tLeighton Baines\\t0\\t\\t\\nD\\tEngland\\t10\\t23\\tDefender\\t18\\t1\\tSouthampton   \\tLuke Shaw\\t0\\t\\t\\nD\\tEngland\\t10\\t6\\tDefender\\t31\\t25\\tEverton   \\tPhil Jagielka\\t0\\t\\t\\nD\\tEngland\\t10\\t16\\tDefender\\t22\\t9\\tManchester United  \\tPhil Jones\\t0\\t\\t\\nD\\tEngland\\t10\\t20\\tMidfielder\\t26\\t4\\tSouthampton   \\tAdam Lallana\\t0\\t\\t\\nD\\tEngland\\t10\\t15\\tMidfielder\\t20\\t14\\tArsenal   \\tAlex Oxlade-Chamberlain\\t0\\t\\t\\nD\\tEngland\\t10\\t8\\tMidfielder\\t35\\t103\\tChelsea   \\tFrank Lampard\\t0\\t\\t\\nD\\tEngland\\t10\\t7\\tMidfielder\\t22\\t16\\tArsenal   \\tJack Wilshere\\t0\\t\\t\\nD\\tEngland\\t10\\t17\\tMidfielder\\t28\\t46\\tManchester City  \\tJames Milner\\t0\\t\\t\\nD\\tEngland\\t10\\t14\\tMidfielder\\t23\\t9\\tLiverpool   \\tJordan Henderson\\t0\\t\\t\\nD\\tEngland\\t10\\t19\\tMidfielder\\t19\\t3\\tLiverpool   \\tRaheem Sterling\\t0\\t\\t\\nD\\tEngland\\t10\\t21\\tMidfielder\\t20\\t4\\tEverton   \\tRoss Barkley\\t0\\t\\t\\nD\\tEngland\\t10\\t4\\tMidfielder\\t34\\t110\\tLiverpool   \\tSteven Gerrard \\t1\\t\\t\\nD\\tEngland\\t10\\t9\\tForward\\t24\\t11\\tLiverpool   \\tDaniel Sturridge\\t0\\t\\t\\nD\\tEngland\\t10\\t11\\tForward\\t23\\t22\\tManchester United  \\tDanny Welbeck\\t0\\t\\t\\nD\\tEngland\\t10\\t18\\tForward\\t32\\t4\\tSouthampton   \\tRickie Lambert\\t0\\t\\t\\nD\\tEngland\\t10\\t10\\tForward\\t28\\t90\\tManchester United  \\tWayne Rooney\\t0\\t\\t\\nD\\tCosta Rica\\t28\\t23\\tGoalie\\t28\\t2\\tHerediano   \\tDaniel Cambronero\\t0\\t\\t\\nD\\tCosta Rica\\t28\\t1\\tGoalie\\t27\\t53\\tLevante   \\tKeylor Navas\\t0\\t\\t\\nD\\tCosta Rica\\t28\\t18\\tGoalie\\t32\\t21\\tAlajuelense   \\tPatrick Pemberton\\t0\\t\\t\\nD\\tCosta Rica\\t28\\t16\\tDefender\\t24\\t24\\tRosenborg   \\tCristian Gamboa\\t0\\t\\t\\nD\\tCosta Rica\\t28\\t3\\tDefender\\t26\\t34\\tColumbus Crew  \\tGiancarlo Gonzalez\\t0\\t\\t\\nD\\tCosta Rica\\t28\\t8\\tDefender\\t29\\t22\\tSaprissa   \\tHeiner Mora\\t0\\t\\t\\nD\\tCosta Rica\\t28\\t2\\tDefender\\t30\\t27\\tAlajuelense   \\tJohnny Acosta\\t0\\t\\t\\nD\\tCosta Rica\\t28\\t15\\tDefender\\t30\\t58\\tMainz 5  \\tJunior Diaz\\t0\\t\\t\\nD\\tCosta Rica\\t28\\t4\\tDefender\\t31\\t79\\tSaprissa   \\tMichael Umana\\t0\\t\\t\\nD\\tCosta Rica\\t28\\t6\\tDefender\\t25\\t11\\tClub Brugge  \\tOscar Duarte\\t0\\t\\t\\nD\\tCosta Rica\\t28\\t19\\tDefender\\t29\\t47\\tNew York Red Bulls\\tRoy Miller\\t0\\t\\t\\nD\\tCosta Rica\\t28\\t12\\tDefender\\t23\\t1\\tColumbus Crew  \\tWaylon Francis\\t0\\t\\t\\nD\\tCosta Rica\\t28\\t5\\tMidfielder\\t26\\t63\\tAIK   \\tCelso Borges\\t0\\t\\t\\nD\\tCosta Rica\\t28\\t7\\tMidfielder\\t30\\t55\\tCopenhagen   \\tChristian Bolanos\\t0\\t\\t\\nD\\tCosta Rica\\t28\\t20\\tMidfielder\\t23\\t10\\tV\\xc3\\xa5lerenga   \\tDiego Calvo\\t0\\t\\t\\nD\\tCosta Rica\\t28\\t13\\tMidfielder\\t28\\t11\\tHerediano   \\tEsteban Granados\\t0\\t\\t\\nD\\tCosta Rica\\t28\\t22\\tMidfielder\\t27\\t36\\tHerediano   \\tJose Miguel Cubero\\t0\\t\\t\\nD\\tCosta Rica\\t28\\t11\\tMidfielder\\t30\\t51\\tAalesund   \\tMichael Barrantes\\t0\\t\\t\\nD\\tCosta Rica\\t28\\t17\\tMidfielder\\t22\\t22\\tSaprissa   \\tYeltsin Tejeda\\t0\\t\\t\\nD\\tCosta Rica\\t28\\t10\\tForward\\t28\\t62\\tPSV   \\tBryan Ruiz \\t1\\t\\t\\nD\\tCosta Rica\\t28\\t9\\tForward\\t21\\t33\\tOlympiacos   \\tJoel Campbell\\t0\\t\\t\\nD\\tCosta Rica\\t28\\t21\\tForward\\t24\\t25\\tKuban Krasnodar  \\tMarco Urena\\t0\\t\\t\\nD\\tCosta Rica\\t28\\t14\\tForward\\t30\\t37\\tCartagines   \\tRandall Brenes\\t0\\t\\t\\nD\\tItaly\\t9\\t1\\tGoalie\\t36\\t139\\tJuventus   \\tGianluigi Buffon \\t1\\t\\t\\nD\\tItaly\\t9\\t13\\tGoalie\\t21\\t0\\tGenoa   \\tMattia Perin\\t0\\t\\t\\nD\\tItaly\\t9\\t12\\tGoalie\\t27\\t8\\tParis Saint-Germain  \\tSalvatore Sirigu\\t0\\t\\t\\nD\\tItaly\\t9\\t15\\tDefender\\t33\\t47\\tJuventus   \\tAndrea Barzagli\\t0\\t\\t\\nD\\tItaly\\t9\\t20\\tDefender\\t28\\t2\\tParma   \\tGabriel Paletta\\t0\\t\\t\\nD\\tItaly\\t9\\t3\\tDefender\\t29\\t67\\tJuventus   \\tGiorgio Chiellini\\t0\\t\\t\\nD\\tItaly\\t9\\t7\\tDefender\\t27\\t19\\tMilan   \\tIgnazio Abate\\t0\\t\\t\\nD\\tItaly\\t9\\t19\\tDefender\\t27\\t36\\tJuventus   \\tLeonardo Bonucci\\t0\\t\\t\\nD\\tItaly\\t9\\t4\\tDefender\\t24\\t1\\tTorino   \\tMatteo Darmian\\t0\\t\\t\\nD\\tItaly\\t9\\t2\\tDefender\\t21\\t10\\tMilan   \\tMattia De Sciglio\\t0\\t\\t\\nD\\tItaly\\t9\\t14\\tMidfielder\\t29\\t34\\tFiorentina   \\tAlberto Aquilani\\t0\\t\\t\\nD\\tItaly\\t9\\t21\\tMidfielder\\t35\\t108\\tJuventus   \\tAndrea Pirlo\\t0\\t\\t\\nD\\tItaly\\t9\\t6\\tMidfielder\\t27\\t19\\tLazio   \\tAntonio Candreva\\t0\\t\\t\\nD\\tItaly\\t9\\t8\\tMidfielder\\t28\\t43\\tJuventus   \\tClaudio Marchisio\\t0\\t\\t\\nD\\tItaly\\t9\\t16\\tMidfielder\\t30\\t94\\tRoma   \\tDaniele De Rossi\\t0\\t\\t\\nD\\tItaly\\t9\\t18\\tMidfielder\\t29\\t3\\tParma   \\tMarco Parolo\\t0\\t\\t\\nD\\tItaly\\t9\\t23\\tMidfielder\\t21\\t5\\tParis Saint-Germain  \\tMarco Verratti\\t0\\t\\t\\nD\\tItaly\\t9\\t5\\tMidfielder\\t31\\t20\\tParis Saint-Germain  \\tThiago Motta\\t0\\t\\t\\nD\\tItaly\\t9\\t11\\tForward\\t26\\t11\\tTorino   \\tAlessio Cerci\\t0\\t\\t\\nD\\tItaly\\t9\\t10\\tForward\\t31\\t36\\tParma   \\tAntonio Cassano\\t0\\t\\t\\nD\\tItaly\\t9\\t17\\tForward\\t24\\t2\\tTorino   \\tCiro Immobile\\t0\\t\\t\\nD\\tItaly\\t9\\t22\\tForward\\t23\\t4\\tNapoli   \\tLorenzo Insigne\\t0\\t\\t\\nD\\tItaly\\t9\\t9\\tForward\\t23\\t29\\tMilan   \\tMario Balotelli\\t0\\t\\t\\nD\\tUruguay\\t7\\t1\\tGoalie\\t27\\t57\\tGalatasaray   \\tFernando Muslera\\t0\\t\\t\\nD\\tUruguay\\t7\\t23\\tGoalie\\t31\\t4\\tVasco da Gama \\tMartin Silva\\t0\\t\\t\\nD\\tUruguay\\t7\\t12\\tGoalie\\t32\\t0\\tLibertad   \\tRodrigo Munoz\\t0\\t\\t\\nD\\tUruguay\\t7\\t3\\tDefender\\t28\\t76\\tAtletico Madrid  \\tDiego Godin\\t0\\t\\t\\nD\\tUruguay\\t7\\t2\\tDefender\\t33\\t93\\tWest Bromwich Albion \\tDiego Lugano \\t1\\t\\t\\nD\\tUruguay\\t7\\t13\\tDefender\\t29\\t41\\tPorto   \\tJorge Fucile\\t0\\t\\t\\nD\\tUruguay\\t7\\t19\\tDefender\\t19\\t5\\tAtletico Madrid  \\tJose Maria Gimenez\\t0\\t\\t\\nD\\tUruguay\\t7\\t22\\tDefender\\t27\\t56\\tJuventus   \\tMartin Caceres\\t0\\t\\t\\nD\\tUruguay\\t7\\t16\\tDefender\\t29\\t89\\tBenfica   \\tMaxi Pereira\\t0\\t\\t\\nD\\tUruguay\\t7\\t4\\tDefender\\t23\\t14\\tNacional   \\tSebastian Coates\\t0\\t\\t\\nD\\tUruguay\\t7\\t20\\tMidfielder\\t29\\t42\\tLazio   \\talvaro Gonzalez\\t0\\t\\t\\nD\\tUruguay\\t7\\t6\\tMidfielder\\t28\\t56\\tS\\xc3\\xa3o Paulo  \\talvaro Pereira\\t0\\t\\t\\nD\\tUruguay\\t7\\t7\\tMidfielder\\t28\\t72\\tAtletico Madrid  \\tCristian Rodriguez\\t0\\t\\t\\nD\\tUruguay\\t7\\t15\\tMidfielder\\t34\\t89\\tBologna   \\tDiego Perez\\t0\\t\\t\\nD\\tUruguay\\t7\\t17\\tMidfielder\\t32\\t54\\tMorelia   \\tEgidio Arevalo Rios\\t0\\t\\t\\nD\\tUruguay\\t7\\t18\\tMidfielder\\t23\\t28\\tSouthampton   \\tGaston Ramirez\\t0\\t\\t\\nD\\tUruguay\\t7\\t14\\tMidfielder\\t25\\t26\\tBotafogo   \\tNicolas Lodeiro\\t0\\t\\t\\nD\\tUruguay\\t7\\t5\\tMidfielder\\t29\\t62\\tParma   \\tWalter Gargano\\t0\\t\\t\\nD\\tUruguay\\t7\\t8\\tForward\\t23\\t12\\tPalermo   \\tAbel Hernandez\\t0\\t\\t\\nD\\tUruguay\\t7\\t11\\tForward\\t27\\t9\\tEspanyol   \\tChristian Stuani\\t0\\t\\t\\nD\\tUruguay\\t7\\t10\\tForward\\t35\\t109\\tCerezo Osaka  \\tDiego Forlan\\t0\\t\\t\\nD\\tUruguay\\t7\\t21\\tForward\\t27\\t61\\tParis Saint-Germain  \\tEdinson Cavani\\t0\\t\\t\\nD\\tUruguay\\t7\\t9\\tForward\\t27\\t77\\tLiverpool   \\tLuis Suarez\\t0\\t\\t\\nE\\tEcuador\\t26\\t12\\tGoalie\\t25\\t3\\tEl Nacional  \\tAdrian Bone\\t0\\t\\t\\nE\\tEcuador\\t26\\t22\\tGoalie\\t27\\t18\\tLDU Quito  \\tAlexander Dominguez\\t0\\t\\t\\nE\\tEcuador\\t26\\t1\\tGoalie\\t28\\t24\\tBarcelona   \\tMaximo Banguera\\t0\\t\\t\\nE\\tEcuador\\t26\\t3\\tDefender\\t26\\t36\\tFlamengo   \\tFrickson Erazo\\t0\\t\\t\\nE\\tEcuador\\t26\\t21\\tDefender\\t29\\t22\\tEmelec   \\tGabriel Achilier\\t0\\t\\t\\nE\\tEcuador\\t26\\t2\\tDefender\\t32\\t58\\tEmelec   \\tJorge Guagua\\t0\\t\\t\\nE\\tEcuador\\t26\\t4\\tDefender\\t26\\t37\\tBarcelona   \\tJuan Carlos Paredes\\t0\\t\\t\\nE\\tEcuador\\t26\\t18\\tDefender\\t31\\t21\\tEmelec   \\toscar Bag\\xc3\\xbci\\t0\\t\\t\\nE\\tEcuador\\t26\\t10\\tDefender\\t34\\t89\\tPachuca   \\tWalter Ayovi\\t0\\t\\t\\nE\\tEcuador\\t26\\t16\\tMidfielder\\t28\\t70\\tManchester United  \\tAntonio Valencia \\t1\\t\\t\\nE\\tEcuador\\t26\\t23\\tMidfielder\\t19\\t2\\tVfB Stuttgart  \\tCarlos Gruezo\\t0\\t\\t\\nE\\tEcuador\\t26\\t6\\tMidfielder\\t29\\t41\\tDynamo Moscow  \\tChristian Noboa\\t0\\t\\t\\nE\\tEcuador\\t26\\t8\\tMidfielder\\t35\\t109\\tSanta Fe  \\tEdison Mendez\\t0\\t\\t\\nE\\tEcuador\\t26\\t20\\tMidfielder\\t24\\t8\\tTijuana   \\tFidel Martinez\\t0\\t\\t\\nE\\tEcuador\\t26\\t7\\tMidfielder\\t24\\t39\\tMorelia   \\tJefferson Montero\\t0\\t\\t\\nE\\tEcuador\\t26\\t9\\tMidfielder\\t24\\t29\\tCruz Azul  \\tJoao Rojas\\t0\\t\\t\\nE\\tEcuador\\t26\\t19\\tMidfielder\\t30\\t48\\tBarcelona   \\tLuis Saritama\\t0\\t\\t\\nE\\tEcuador\\t26\\t15\\tMidfielder\\t27\\t20\\tAtlante   \\tMichael Arroyo\\t0\\t\\t\\nE\\tEcuador\\t26\\t5\\tMidfielder\\t23\\t17\\tVitesse   \\tRenato Ibarra\\t0\\t\\t\\nE\\tEcuador\\t26\\t14\\tMidfielder\\t32\\t81\\tAl-Hilal   \\tSegundo Castillo\\t0\\t\\t\\nE\\tEcuador\\t26\\t13\\tForward\\t25\\t9\\tPachuca   \\tEnner Valencia\\t0\\t\\t\\nE\\tEcuador\\t26\\t11\\tForward\\t25\\t49\\tAl-Jazira   \\tFelipe Caicedo\\t0\\t\\t\\nE\\tEcuador\\t26\\t17\\tForward\\t26\\t30\\tTijuana   \\tJaime Ayovi\\t0\\t\\t\\nE\\tFrance\\t17\\t1\\tGoalie\\t27\\t56\\tTottenham Hotspur  \\tHugo Lloris \\t1\\t\\t\\nE\\tFrance\\t17\\t23\\tGoalie\\t35\\t11\\tBastia   \\tMickael Landreau\\t0\\t\\t\\nE\\tFrance\\t17\\t16\\tGoalie\\t27\\t2\\tSaint-etienne   \\tStephane Ruffier\\t0\\t\\t\\nE\\tFrance\\t17\\t15\\tDefender\\t31\\t40\\tArsenal   \\tBacary Sagna\\t0\\t\\t\\nE\\tFrance\\t17\\t13\\tDefender\\t23\\t3\\tPorto   \\tEliaquim Mangala\\t0\\t\\t\\nE\\tFrance\\t17\\t21\\tDefender\\t28\\t17\\tArsenal   \\tLaurent Koscielny\\t0\\t\\t\\nE\\tFrance\\t17\\t17\\tDefender\\t20\\t2\\tParis Saint-Germain  \\tLucas Digne\\t0\\t\\t\\nE\\tFrance\\t17\\t5\\tDefender\\t24\\t18\\tLiverpool   \\tMamadou Sakho\\t0\\t\\t\\nE\\tFrance\\t17\\t2\\tDefender\\t28\\t20\\tNewcastle United  \\tMathieu Debuchy\\t0\\t\\t\\nE\\tFrance\\t17\\t3\\tDefender\\t33\\t57\\tManchester United  \\tPatrice Evra\\t0\\t\\t\\nE\\tFrance\\t17\\t4\\tDefender\\t21\\t5\\tReal Madrid  \\tRaphael Varane\\t0\\t\\t\\nE\\tFrance\\t17\\t11\\tMidfielder\\t23\\t3\\tReal Sociedad  \\tAntoine Griezmann\\t0\\t\\t\\nE\\tFrance\\t17\\t14\\tMidfielder\\t27\\t22\\tParis Saint-Germain  \\tBlaise Matuidi\\t0\\t\\t\\nE\\tFrance\\t17\\t22\\tMidfielder\\t24\\t1\\tSouthampton   \\tMorgan Schneiderlin\\t0\\t\\t\\nE\\tFrance\\t17\\t7\\tMidfielder\\t24\\t1\\tMontpellier\\tRemy Cabella\\t0\\t\\t\\nE\\tFrance\\t17\\t8\\tMidfielder\\t29\\t33\\tMarseille   \\tMathieu Valbuena\\t0\\t\\t\\nE\\tFrance\\t17\\t18\\tMidfielder\\t24\\t16\\tNewcastle United  \\tMoussa Sissoko\\t0\\t\\t\\nE\\tFrance\\t17\\t19\\tMidfielder\\t21\\t10\\tJuventus   \\tPaul Pogba\\t0\\t\\t\\nE\\tFrance\\t17\\t12\\tMidfielder\\t30\\t11\\tLille   \\tRio Mavuba\\t0\\t\\t\\nE\\tFrance\\t17\\t6\\tMidfielder\\t28\\t29\\tParis Saint-Germain  \\tYohan Cabaye\\t0\\t\\t\\nE\\tFrance\\t17\\t10\\tForward\\t26\\t65\\tReal Madrid  \\tKarim Benzema\\t0\\t\\t\\nE\\tFrance\\t17\\t20\\tForward\\t27\\t24\\tNewcastle United  \\tLoec Remy\\t0\\t\\t\\nE\\tFrance\\t17\\t9\\tForward\\t27\\t29\\tArsenal   \\tOlivier Giroud\\t0\\t\\t\\nE\\tHonduras\\t33\\t22\\tGoalie\\t34\\t26\\tOlimpia   \\tDonis Escober\\t0\\t\\t\\nE\\tHonduras\\t33\\t1\\tGoalie\\t20\\t0\\tReal Espana  \\tLuis Lopez\\t0\\t\\t\\nE\\tHonduras\\t33\\t18\\tGoalie\\t37\\t121\\tOlimpia   \\tNoel Valladares \\t1\\t\\t\\nE\\tHonduras\\t33\\t23\\tDefender\\t28\\t22\\tOlimpia   \\tBrayan Beckeles\\t0\\t\\t\\nE\\tHonduras\\t33\\t7\\tDefender\\t28\\t67\\tCeltic   \\tEmilio Izaguirre\\t0\\t\\t\\nE\\tHonduras\\t33\\t6\\tDefender\\t26\\t33\\tWigan Athletic  \\tJuan Carlos Garcia\\t0\\t\\t\\nE\\tHonduras\\t33\\t4\\tDefender\\t28\\t11\\tMotagua   \\tJuan Pablo Montes\\t0\\t\\t\\nE\\tHonduras\\t33\\t3\\tDefender\\t31\\t104\\tHull City  \\tMaynor Figueroa\\t0\\t\\t\\nE\\tHonduras\\t33\\t2\\tDefender\\t29\\t54\\tQingdao Jonoon  \\tOsman Chavez\\t0\\t\\t\\nE\\tHonduras\\t33\\t5\\tDefender\\t32\\t77\\tSan Jose Earthquakes \\tVictor Bernardez\\t0\\t\\t\\nE\\tHonduras\\t33\\t21\\tMidfielder\\t21\\t16\\tAnderlecht   \\tAndy Najar\\t0\\t\\t\\nE\\tHonduras\\t33\\t12\\tMidfielder\\t27\\t25\\tReal Espana  \\tEdder Delgado\\t0\\t\\t\\nE\\tHonduras\\t33\\t20\\tMidfielder\\t28\\t48\\tMotagua   \\tJorge Claros\\t0\\t\\t\\nE\\tHonduras\\t33\\t19\\tMidfielder\\t23\\t19\\tOlimpia   \\tLuis Garrido\\t0\\t\\t\\nE\\tHonduras\\t33\\t10\\tMidfielder\\t24\\t35\\tReal Espana  \\tMario Martinez\\t0\\t\\t\\nE\\tHonduras\\t33\\t17\\tMidfielder\\t30\\t41\\tChivas USA  \\tMarvin Chavez\\t0\\t\\t\\nE\\tHonduras\\t33\\t14\\tMidfielder\\t29\\t92\\tHouston Dynamo  \\toscar Garcia\\t0\\t\\t\\nE\\tHonduras\\t33\\t15\\tMidfielder\\t27\\t41\\tWigan Athletic  \\tRoger Espinoza\\t0\\t\\t\\nE\\tHonduras\\t33\\t8\\tMidfielder\\t29\\t94\\tStoke City  \\tWilson Palacios\\t0\\t\\t\\nE\\tHonduras\\t33\\t13\\tForward\\t31\\t69\\tReal Espana  \\tCarlo Costly\\t0\\t\\t\\nE\\tHonduras\\t33\\t11\\tForward\\t27\\t43\\tNew Angleterre Revolution \\tJerry Bengtson\\t0\\t\\t\\nE\\tHonduras\\t33\\t9\\tForward\\t32\\t23\\tAlajuelense   \\tJerry Palacios\\t0\\t\\t\\nE\\tHonduras\\t33\\t16\\tForward\\t25\\t12\\tReal Sociedad  \\tRony Martinez\\t0\\t\\t\\nE\\tSwitzerland\\t6\\t1\\tGoalie\\t30\\t56\\tVfL Wolfsburg  \\tDiego Benaglio\\t0\\t\\t\\nE\\tSwitzerland\\t6\\t21\\tGoalie\\t23\\t0\\tGrasshopper   \\tRoman B\\xc3\\xbcrki\\t0\\t\\t\\nE\\tSwitzerland\\t6\\t12\\tGoalie\\t25\\t6\\tBasel   \\tYann Sommer\\t0\\t\\t\\nE\\tSwitzerland\\t6\\t22\\tDefender\\t22\\t5\\tBasel   \\tFabian Sch\\xc3\\xa4r\\t0\\t\\t\\nE\\tSwitzerland\\t6\\t20\\tDefender\\t27\\t44\\tHamburger SV  \\tJohan Djourou\\t0\\t\\t\\nE\\tSwitzerland\\t6\\t6\\tDefender\\t23\\t5\\tGrasshopper   \\tMichael Lang\\t0\\t\\t\\nE\\tSwitzerland\\t6\\t4\\tDefender\\t29\\t53\\tValencia   \\tPhilippe Senderos\\t0\\t\\t\\nE\\tSwitzerland\\t6\\t3\\tDefender\\t28\\t35\\tSassuolo   \\tReto Ziegler\\t0\\t\\t\\nE\\tSwitzerland\\t6\\t13\\tDefender\\t21\\t20\\tVfL Wolfsburg  \\tRicardo Rodriguez\\t0\\t\\t\\nE\\tSwitzerland\\t6\\t2\\tDefender\\t30\\t62\\tJuventus   \\tStephan Lichtsteiner\\t0\\t\\t\\nE\\tSwitzerland\\t6\\t5\\tDefender\\t30\\t40\\tYoung Boys  \\tSteve von Bergen\\t0\\t\\t\\nE\\tSwitzerland\\t6\\t15\\tMidfielder\\t28\\t33\\tNapoli   \\tBlerim Dzemaili\\t0\\t\\t\\nE\\tSwitzerland\\t6\\t16\\tMidfielder\\t27\\t47\\tSC Freiburg  \\tGelson Fernandes\\t0\\t\\t\\nE\\tSwitzerland\\t6\\t8\\tMidfielder\\t29\\t71\\tNapoli   \\tG\\xc3\\xb6khan Inler \\t1\\t\\t\\nE\\tSwitzerland\\t6\\t10\\tMidfielder\\t21\\t25\\tBorussia M\\xc3\\xb6nchengladbach  \\tGranit Xhaka\\t0\\t\\t\\nE\\tSwitzerland\\t6\\t7\\tMidfielder\\t29\\t73\\tEintracht Frankfurt  \\tTranquillo Barnetta\\t0\\t\\t\\nE\\tSwitzerland\\t6\\t14\\tMidfielder\\t25\\t23\\tBasel   \\tValentin Stocker\\t0\\t\\t\\nE\\tSwitzerland\\t6\\t11\\tMidfielder\\t29\\t47\\tNapoli   \\tValon Behrami\\t0\\t\\t\\nE\\tSwitzerland\\t6\\t23\\tMidfielder\\t22\\t32\\tBayern Munich  \\tXherdan Shaqiri\\t0\\t\\t\\nE\\tSwitzerland\\t6\\t18\\tForward\\t23\\t20\\tSC Freiburg  \\tAdmir Mehmedi\\t0\\t\\t\\nE\\tSwitzerland\\t6\\t9\\tForward\\t22\\t10\\tReal Sociedad  \\tHaris Seferovic\\t0\\t\\t\\nE\\tSwitzerland\\t6\\t19\\tForward\\t21\\t6\\t1. FC N\\xc3\\xbcrnberg \\tJosip Drmic\\t0\\t\\t\\nE\\tSwitzerland\\t6\\t17\\tForward\\t24\\t10\\tZ\\xc3\\xbcrich   \\tMario Gavranovic\\t0\\t\\t\\nF\\tArgentina\\t5\\t12\\tGoalie\\t32\\t3\\tBoca Juniors  \\tAgustin Orion\\t0\\t\\t\\nF\\tArgentina\\t5\\t21\\tGoalie\\t30\\t10\\tCatania   \\tMariano Andujar\\t0\\t\\t\\nF\\tArgentina\\t5\\t1\\tGoalie\\t27\\t45\\tMonaco   \\tSergio Romero\\t0\\t\\t\\nF\\tArgentina\\t5\\t2\\tDefender\\t27\\t18\\tBenfica   \\tEzequiel Garay\\t0\\t\\t\\nF\\tArgentina\\t5\\t17\\tDefender\\t25\\t24\\tNapoli   \\tFederico Fernandez\\t0\\t\\t\\nF\\tArgentina\\t5\\t3\\tDefender\\t33\\t13\\tInternazionale   \\tHugo Campagnaro\\t0\\t\\t\\nF\\tArgentina\\t5\\t23\\tDefender\\t30\\t8\\tMonterrey   \\tJose Maria Basanta\\t0\\t\\t\\nF\\tArgentina\\t5\\t16\\tDefender\\t24\\t20\\tSporting   \\tMarcos Rojo\\t0\\t\\t\\nF\\tArgentina\\t5\\t15\\tDefender\\t33\\t37\\tManchester City  \\tMartin Demichelis\\t0\\t\\t\\nF\\tArgentina\\t5\\t4\\tDefender\\t29\\t36\\tManchester City  \\tPablo Zabaleta\\t0\\t\\t\\nF\\tArgentina\\t5\\t7\\tMidfielder\\t26\\t45\\tReal Madrid  \\tangel di Maria\\t0\\t\\t\\nF\\tArgentina\\t5\\t13\\tMidfielder\\t28\\t7\\tCelta Vigo  \\tAugusto Fernandez\\t0\\t\\t\\nF\\tArgentina\\t5\\t8\\tMidfielder\\t28\\t5\\tBenfica   \\tEnzo Perez\\t0\\t\\t\\nF\\tArgentina\\t5\\t5\\tMidfielder\\t28\\t47\\tBoca Juniors  \\tFernando Gago\\t0\\t\\t\\nF\\tArgentina\\t5\\t14\\tMidfielder\\t29\\t96\\tBarcelona   \\tJavier Mascherano\\t0\\t\\t\\nF\\tArgentina\\t5\\t6\\tMidfielder\\t28\\t16\\tLazio   \\tLucas Biglia\\t0\\t\\t\\nF\\tArgentina\\t5\\t11\\tMidfielder\\t33\\t53\\tNewell's Old Boys \\tMaxi Rodriguez\\t0\\t\\t\\nF\\tArgentina\\t5\\t19\\tMidfielder\\t26\\t5\\tInternazionale   \\tRicardo alvarez\\t0\\t\\t\\nF\\tArgentina\\t5\\t22\\tForward\\t29\\t29\\tParis Saint-Germain  \\tEzequiel Lavezzi\\t0\\t\\t\\nF\\tArgentina\\t5\\t9\\tForward\\t26\\t36\\tNapoli   \\tGonzalo Higuain\\t0\\t\\t\\nF\\tArgentina\\t5\\t10\\tForward\\t26\\t84\\tBarcelona   \\tLionel Messi \\t1\\t\\t\\nF\\tArgentina\\t5\\t18\\tForward\\t32\\t15\\tInternazionale   \\tRodrigo Palacio\\t0\\t\\t\\nF\\tArgentina\\t5\\t20\\tForward\\t26\\t50\\tManchester City  \\tSergio Ag\\xc3\\xbcero\\t0\\t\\t\\nF\\tBosnia-Herzegovina\\t21\\t22\\tGoalie\\t33\\t3\\tand Herzegovina Borac Banja\\tAsmir Avdukic\\t0\\t\\t\\nF\\tBosnia-Herzegovina\\t21\\t1\\tGoalie\\t26\\t30\\tStoke City  \\tAsmir Begovic\\t0\\t\\t\\nF\\tBosnia-Herzegovina\\t21\\t12\\tGoalie\\t28\\t0\\tVfR Aalen  \\tJasmin Fejzic\\t0\\t\\t\\nF\\tBosnia-Herzegovina\\t21\\t2\\tDefender\\t28\\t13\\tHajduk Split  \\tAvdija Vrsajevic\\t0\\t\\t\\nF\\tBosnia-Herzegovina\\t21\\t4\\tDefender\\t33\\t74\\tBayer Leverkusen  \\tEmir Spahic \\t1\\t\\t\\nF\\tBosnia-Herzegovina\\t21\\t3\\tDefender\\t24\\t7\\tEintracht Braunschweig  \\tErmin Bicakcic\\t0\\t\\t\\nF\\tBosnia-Herzegovina\\t21\\t13\\tDefender\\t30\\t24\\tSC Freiburg  \\tMensur Mujdza\\t0\\t\\t\\nF\\tBosnia-Herzegovina\\t21\\t7\\tDefender\\t21\\t9\\tFerencvaros   \\tMuhamed Besic\\t0\\t\\t\\nF\\tBosnia-Herzegovina\\t21\\t6\\tDefender\\t24\\t13\\tElaz\\xc4\\xb1\\xc4\\x9fspor   \\tOgnjen Vranjes\\t0\\t\\t\\nF\\tBosnia-Herzegovina\\t21\\t5\\tDefender\\t20\\t4\\tSchalke 4  \\tSead Kolasinac\\t0\\t\\t\\nF\\tBosnia-Herzegovina\\t21\\t15\\tDefender\\t25\\t7\\tZorya Luhansk  \\tToni sunjic\\t0\\t\\t\\nF\\tBosnia-Herzegovina\\t21\\t20\\tMidfielder\\t24\\t2\\tSturm Graz  \\tAnel Hadzic\\t0\\t\\t\\nF\\tBosnia-Herzegovina\\t21\\t18\\tMidfielder\\t29\\t35\\tGaziantepspor   \\tHaris Medunjanin\\t0\\t\\t\\nF\\tBosnia-Herzegovina\\t21\\t14\\tMidfielder\\t22\\t7\\tGalatasaray   \\tIzet Hajrovic\\t0\\t\\t\\nF\\tBosnia-Herzegovina\\t21\\t8\\tMidfielder\\t24\\t48\\tRoma   \\tMiralem Pjanic\\t0\\t\\t\\nF\\tBosnia-Herzegovina\\t21\\t23\\tMidfielder\\t29\\t42\\t1899 Hoffenheim  \\tSejad Salihovic\\t0\\t\\t\\nF\\tBosnia-Herzegovina\\t21\\t16\\tMidfielder\\t28\\t33\\tLazio   \\tSenad Lulic\\t0\\t\\t\\nF\\tBosnia-Herzegovina\\t21\\t17\\tMidfielder\\t28\\t42\\tKayseri Erciyesspor  \\tSenijad Ibricic\\t0\\t\\t\\nF\\tBosnia-Herzegovina\\t21\\t21\\tMidfielder\\t22\\t2\\tHajduk Split  \\tTino-Sven Susic\\t0\\t\\t\\nF\\tBosnia-Herzegovina\\t21\\t10\\tMidfielder\\t32\\t82\\tGuizhou Renhe  \\tZvjezdan Misimovic\\t0\\t\\t\\nF\\tBosnia-Herzegovina\\t21\\t11\\tForward\\t28\\t62\\tManchester City  \\tEdin Dzeko\\t0\\t\\t\\nF\\tBosnia-Herzegovina\\t21\\t19\\tForward\\t24\\t10\\t\\xc4\\xb0stanbul BB  \\tEdin Visca\\t0\\t\\t\\nF\\tBosnia-Herzegovina\\t21\\t9\\tForward\\t29\\t55\\tVfB Stuttgart  \\tVedad Ibisevic\\t0\\t\\t\\nF\\tIran\\t43\\t12\\tGoalie\\t26\\t5\\tSporting Covilh\\xc3\\xa3  \\tAlireza Haghighi\\t0\\t\\t\\nF\\tIran\\t43\\t22\\tGoalie\\t26\\t4\\tEintracht Braunschweig  \\tDaniel Davari\\t0\\t\\t\\nF\\tIran\\t43\\t1\\tGoalie\\t33\\t10\\tSepahan   \\tRahman Ahmadi\\t0\\t\\t\\nF\\tIran\\t43\\t17\\tDefender\\t31\\t9\\tNaft Tehran  \\tAhmad Alnameh\\t0\\t\\t\\nF\\tIran\\t43\\t5\\tDefender\\t32\\t16\\tEsteghlal   \\tAmir Hossein Sadeghi\\t0\\t\\t\\nF\\tIran\\t43\\t19\\tDefender\\t30\\t17\\tEsteghlal   \\tHashem Beikzadeh\\t0\\t\\t\\nF\\tIran\\t43\\t13\\tDefender\\t27\\t21\\tPersepolis   \\tHossein Mahini\\t0\\t\\t\\nF\\tIran\\t43\\t4\\tDefender\\t32\\t84\\tPersepolis   \\tJalal Hosseini\\t0\\t\\t\\nF\\tIran\\t43\\t23\\tDefender\\t27\\t19\\tPersepolis   \\tMehrdad Pouladi\\t0\\t\\t\\nF\\tIran\\t43\\t15\\tDefender\\t30\\t21\\tUmm Salal  \\tPejman Montazeri\\t0\\t\\t\\nF\\tIran\\t43\\t20\\tDefender\\t27\\t6\\tVancouver Whitecaps  \\tSteven Beitashour\\t0\\t\\t\\nF\\tIran\\t43\\t14\\tMidfielder\\t31\\t78\\tEsteghlal   \\tAndranik Teymourian\\t0\\t\\t\\nF\\tIran\\t43\\t21\\tMidfielder\\t27\\t13\\tFulham   \\tAshkan Dejagah\\t0\\t\\t\\nF\\tIran\\t43\\t18\\tMidfielder\\t22\\t4\\tFoolad   \\tBakhtiar Rahmani\\t0\\t\\t\\nF\\tIran\\t43\\t3\\tMidfielder\\t24\\t61\\tSepahan   \\tEhsan Hajsafi\\t0\\t\\t\\nF\\tIran\\t43\\t11\\tMidfielder\\t30\\t16\\tZob Ahan  \\tGhasem Haddadifar\\t0\\t\\t\\nF\\tIran\\t43\\t6\\tMidfielder\\t33\\t139\\tAl-Kuwait   \\tJavad Nekounam \\t1\\t\\t\\nF\\tIran\\t43\\t2\\tMidfielder\\t30\\t48\\tEsteghlal   \\tKhosro Heydari\\t0\\t\\t\\nF\\tIran\\t43\\t7\\tMidfielder\\t29\\t49\\tLas Palmas  \\tMasoud Shojaei\\t0\\t\\t\\nF\\tIran\\t43\\t8\\tMidfielder\\t25\\t7\\tPersepolis   \\tReza Haghighi\\t0\\t\\t\\nF\\tIran\\t43\\t9\\tForward\\t20\\t6\\tNEC   \\tAlireza Jahanbakhsh\\t0\\t\\t\\nF\\tIran\\t43\\t10\\tForward\\t24\\t41\\tTractor Sazi  \\tKarim Ansarifard\\t0\\t\\t\\nF\\tIran\\t43\\t16\\tForward\\t26\\t13\\tCharlton Athletic  \\tReza Ghoochannejhad\\t0\\t\\t\\nF\\tNigeria\\t44\\t16\\tGoalie\\t30\\t32\\tHapoel Be'er Sheva \\tAustin Ejide\\t0\\t\\t\\nF\\tNigeria\\t44\\t21\\tGoalie\\t29\\t11\\tGombe United  \\tChigozie Agbim\\t0\\t\\t\\nF\\tNigeria\\t44\\t1\\tGoalie\\t31\\t90\\tLille   \\tVincent Enyeama \\t1\\t\\t\\nF\\tNigeria\\t44\\t6\\tDefender\\t24\\t32\\tWarri Wolves  \\tAzubuike Egwuekwe\\t0\\t\\t\\nF\\tNigeria\\t44\\t5\\tDefender\\t25\\t36\\tCeltic   \\tEfe Ambrose\\t0\\t\\t\\nF\\tNigeria\\t44\\t14\\tDefender\\t23\\t35\\tcaykur Rizespor  \\tGoDefenderrey Oboabona\\t0\\t\\t\\nF\\tNigeria\\t44\\t2\\tDefender\\t33\\t96\\tNorwich City  \\tJoseph Yobo\\t0\\t\\t\\nF\\tNigeria\\t44\\t13\\tDefender\\t23\\t10\\tAshdod   \\tJuwon Oshaniwa\\t0\\t\\t\\nF\\tNigeria\\t44\\t22\\tDefender\\t20\\t17\\tMiddlesbrough   \\tKenneth Omeruo\\t0\\t\\t\\nF\\tNigeria\\t44\\t12\\tDefender\\t24\\t10\\tSunshine Stars  \\tKunle Odunlami\\t0\\t\\t\\nF\\tNigeria\\t44\\t3\\tDefender\\t26\\t42\\tMonaco   \\tUwa Elderson Echiejile\\t0\\t\\t\\nF\\tNigeria\\t44\\t10\\tMidfielder\\t27\\t59\\tChelsea   \\tJohn Obi Mikel\\t0\\t\\t\\nF\\tNigeria\\t44\\t18\\tMidfielder\\t21\\t4\\tVolyn Lutsk  \\tMichael Babatunde\\t0\\t\\t\\nF\\tNigeria\\t44\\t17\\tMidfielder\\t21\\t20\\tLazio   \\tOgenyi Onazi\\t0\\t\\t\\nF\\tNigeria\\t44\\t15\\tMidfielder\\t21\\t1\\tAlmeria   \\tRamon Azeez\\t0\\t\\t\\nF\\tNigeria\\t44\\t4\\tMidfielder\\t23\\t11\\tWaasland-Beveren   \\tReuben Gabriel\\t0\\t\\t\\nF\\tNigeria\\t44\\t11\\tMidfielder\\t23\\t20\\tLiverpool   \\tVictor Moses\\t0\\t\\t\\nF\\tNigeria\\t44\\t7\\tForward\\t21\\t35\\tCSKA Moscow  \\tAhmed Musa\\t0\\t\\t\\nF\\tNigeria\\t44\\t9\\tForward\\t27\\t22\\tFenerbahce   \\tEmmanuel Emenike\\t0\\t\\t\\nF\\tNigeria\\t44\\t20\\tForward\\t24\\t3\\tCercle Brugge  \\tMichael Uchebo\\t0\\t\\t\\nF\\tNigeria\\t44\\t8\\tForward\\t32\\t60\\tStoke City  \\tPeter Odemwingie\\t0\\t\\t\\nF\\tNigeria\\t44\\t23\\tForward\\t32\\t6\\tNewcastle United  \\tShola Ameobi\\t0\\t\\t\\nF\\tNigeria\\t44\\t19\\tForward\\t22\\t6\\tHeerenveen   \\tUche Nwofor\\t0\\t\\t\\nG\\tGermany\\t2\\t1\\tGoalie\\t28\\t45\\tBayern Munich  \\tManuel Neuer\\t0\\t\\t\\nG\\tGermany\\t2\\t22\\tGoalie\\t33\\t2\\tBorussia Dortmund  \\tRoman Weidenfeller\\t0\\t\\t\\nG\\tGermany\\t2\\t12\\tGoalie\\t25\\t3\\tHannover 96  \\tRon-Robert Zieler\\t0\\t\\t\\nG\\tGermany\\t2\\t4\\tDefender\\t26\\t20\\tSchalke 4  \\tBenedikt H\\xc3\\xb6wedes\\t0\\t\\t\\nG\\tGermany\\t2\\t15\\tDefender\\t22\\t1\\tBorussia Dortmund  \\tErik Durm\\t0\\t\\t\\nG\\tGermany\\t2\\t20\\tDefender\\t25\\t38\\tBayern Munich  \\tJer\\xc3\\xb4me Boateng\\t0\\t\\t\\nG\\tGermany\\t2\\t2\\tDefender\\t25\\t4\\tBorussia Dortmund  \\tKevin Gro\\xc3\\x9fkreutz\\t0\\t\\t\\nG\\tGermany\\t2\\t5\\tDefender\\t25\\t29\\tBorussia Dortmund  \\tMats Hummels\\t0\\t\\t\\nG\\tGermany\\t2\\t17\\tDefender\\t29\\t97\\tArsenal   \\tPer Mertesacker\\t0\\t\\t\\nG\\tGermany\\t2\\t16\\tDefender\\t30\\t105\\tBayern Munich  \\tPhilipp Lahm \\t1\\t\\t\\nG\\tGermany\\t2\\t9\\tMidfielder\\t23\\t32\\tChelsea   \\tAndre Sch\\xc3\\xbcrrle\\t0\\t\\t\\nG\\tGermany\\t2\\t7\\tMidfielder\\t29\\t101\\tBayern Munich  \\tBastian Schweinsteiger\\t0\\t\\t\\nG\\tGermany\\t2\\t23\\tMidfielder\\t23\\t2\\tBorussia M\\xc3\\xb6nchengladbach  \\tChristoph Kramer\\t0\\t\\t\\nG\\tGermany\\t2\\t14\\tMidfielder\\t20\\t11\\tSchalke 4  \\tJulian Draxler\\t0\\t\\t\\nG\\tGermany\\t2\\t19\\tMidfielder\\t22\\t28\\tBayern Munich  \\tMario G\\xc3\\xb6tze\\t0\\t\\t\\nG\\tGermany\\t2\\t3\\tMidfielder\\t20\\t2\\tSC Freiburg  \\tMatthias Ginter\\t0\\t\\t\\nG\\tGermany\\t2\\t8\\tMidfielder\\t25\\t54\\tArsenal   \\tMesut \\xc3\\x96zil\\t0\\t\\t\\nG\\tGermany\\t2\\t6\\tMidfielder\\t27\\t45\\tReal Madrid  \\tSami Khedira\\t0\\t\\t\\nG\\tGermany\\t2\\t13\\tMidfielder\\t24\\t48\\tBayern Munich  \\tThomas M\\xc3\\xbcller\\t0\\t\\t\\nG\\tGermany\\t2\\t18\\tMidfielder\\t24\\t43\\tBayern Munich  \\tToni Kroos\\t0\\t\\t\\nG\\tGermany\\t2\\t10\\tForward\\t29\\t113\\tArsenal   \\tLukas Podolski\\t0\\t\\t\\nG\\tGermany\\t2\\t11\\tForward\\t35\\t131\\tLazio   \\tMiroslav Klose\\t0\\t\\t\\nG\\tGermany\\t2\\t21\\tD\\xc3\\xa9fenseur\\t22\\t1\\tSampdoria\\tShkodran Mustafi\\t0\\t\\t\\nG\\tUSA\\t13\\t12\\tGoalie\\t29\\t25\\tAston Villa  \\tBrad Guzan\\t0\\t\\t\\nG\\tUSA\\t13\\t22\\tGoalie\\t34\\t14\\tReal Salt Lake \\tNick Rimando\\t0\\t\\t\\nG\\tUSA\\t13\\t1\\tGoalie\\t35\\t99\\tEverton   \\tTim Howard\\t0\\t\\t\\nG\\tUSA\\t13\\t7\\tDefender\\t32\\t115\\tPuebla   \\tDaMarcus Beasley\\t0\\t\\t\\nG\\tUSA\\t13\\t2\\tDefender\\t20\\t4\\tSeattle Sounders FC \\tDeAndre Yedlin\\t0\\t\\t\\nG\\tUSA\\t13\\t23\\tDefender\\t26\\t21\\t1899 Hoffenheim  \\tFabian Johnson\\t0\\t\\t\\nG\\tUSA\\t13\\t20\\tDefender\\t28\\t26\\tStoke City  \\tGeoff Cameron\\t0\\t\\t\\nG\\tUSA\\t13\\t6\\tDefender\\t21\\t4\\tHertha BSC  \\tJohn Brooks\\t0\\t\\t\\nG\\tUSA\\t13\\t5\\tDefender\\t27\\t16\\tSporting Kansas City \\tMatt Besler\\t0\\t\\t\\nG\\tUSA\\t13\\t3\\tDefender\\t25\\t19\\tLos Angeles Galaxy \\tOmar Gonzalez\\t0\\t\\t\\nG\\tUSA\\t13\\t21\\tDefender\\t24\\t12\\t1. FC N\\xc3\\xbcrnberg \\tTimothy Chandler\\t0\\t\\t\\nG\\tUSA\\t13\\t11\\tMidfielder\\t27\\t27\\tNantes   \\tAlejandro Bedoya\\t0\\t\\t\\nG\\tUSA\\t13\\t14\\tMidfielder\\t32\\t16\\tHouston Dynamo  \\tBrad Davis\\t0\\t\\t\\nG\\tUSA\\t13\\t19\\tMidfielder\\t27\\t22\\tSporting Kansas City \\tGraham Zusi\\t0\\t\\t\\nG\\tUSA\\t13\\t13\\tMidfielder\\t32\\t41\\tBesiktas   \\tJermaine Jones\\t0\\t\\t\\nG\\tUSA\\t13\\t16\\tMidfielder\\t19\\t2\\tBayern Munich  \\tJulian Green\\t0\\t\\t\\nG\\tUSA\\t13\\t15\\tMidfielder\\t32\\t36\\tReal Salt Lake \\tKyle Beckerman\\t0\\t\\t\\nG\\tUSA\\t13\\t4\\tMidfielder\\t26\\t85\\tToronto FC  \\tMichael Bradley\\t0\\t\\t\\nG\\tUSA\\t13\\t10\\tMidfielder\\t23\\t19\\tRosenborg   \\tMikkel Diskerud\\t0\\t\\t\\nG\\tUSA\\t13\\t9\\tForward\\t23\\t8\\tAZ   \\tAron Johannsson\\t0\\t\\t\\nG\\tUSA\\t13\\t18\\tForward\\t31\\t20\\tSan Jose Earthquakes \\tChris Wondolowski\\t0\\t\\t\\nG\\tUSA\\t13\\t8\\tForward\\t31\\t104\\tSeattle Sounders FC \\tClint Dempsey \\t1\\t\\t\\nG\\tUSA\\t13\\t17\\tForward\\t24\\t69\\tSunderland   \\tJozy Altidore\\t0\\t\\t\\nG\\tGhana\\t37\\t12\\tGoalie\\t26\\t21\\tStr\\xc3\\xb8msgodset   \\tAdam Kwarasey\\t0\\t\\t\\nG\\tGhana\\t37\\t16\\tGoalie\\t29\\t17\\tOrlando Pirates  \\tFatau Dauda\\t0\\t\\t\\nG\\tGhana\\t37\\t1\\tGoalie\\t24\\t7\\tAduana Stars  \\tSteven Adams\\t0\\t\\t\\nG\\tGhana\\t37\\t4\\tDefender\\t23\\t16\\tStandard Liege  \\tDaniel Opare\\t0\\t\\t\\nG\\tGhana\\t37\\t23\\tDefender\\t27\\t40\\tEsperance   \\tHarrison Afful\\t0\\t\\t\\nG\\tGhana\\t37\\t21\\tDefender\\t27\\t29\\tRennes   \\tJohn Boye\\t0\\t\\t\\nG\\tGhana\\t37\\t19\\tDefender\\t23\\t26\\tevian   \\tJonathan Mensah\\t0\\t\\t\\nG\\tGhana\\t37\\t15\\tDefender\\t21\\t6\\tMamelodi Sundowns  \\tRashid Sumaila\\t0\\t\\t\\nG\\tGhana\\t37\\t2\\tDefender\\t25\\t46\\tPlatanias   \\tSamuel Inkoom\\t0\\t\\t\\nG\\tGhana\\t37\\t6\\tMidfielder\\t22\\t4\\tParma   \\tAcquah Afriyie\\t0\\t\\t\\nG\\tGhana\\t37\\t14\\tMidfielder\\t26\\t14\\tMiddlesbrough   \\tAlbert Adomah\\t0\\t\\t\\nG\\tGhana\\t37\\t10\\tMidfielder\\t24\\t48\\tMarseille   \\tAndre Ayew\\t0\\t\\t\\nG\\tGhana\\t37\\t7\\tMidfielder\\t22\\t22\\tVitesse   \\tChristian Atsu\\t0\\t\\t\\nG\\tGhana\\t37\\t8\\tMidfielder\\t23\\t48\\tUdinese   \\tEmmanuel Agyemang-Badu\\t0\\t\\t\\nG\\tGhana\\t37\\t20\\tMidfielder\\t25\\t61\\tJuventus   \\tKwadwo Asamoah\\t0\\t\\t\\nG\\tGhana\\t37\\t5\\tMidfielder\\t31\\t57\\tMilan   \\tMichael Essien\\t0\\t\\t\\nG\\tGhana\\t37\\t17\\tMidfielder\\t24\\t16\\tKuban Krasnodar  \\tMohammed Rabiu\\t0\\t\\t\\nG\\tGhana\\t37\\t11\\tMidfielder\\t29\\t81\\tMilan   \\tSulley Muntari\\t0\\t\\t\\nG\\tGhana\\t37\\t22\\tMidfielder\\t23\\t16\\tRubin Kazan  \\tWakaso Mubarak\\t0\\t\\t\\nG\\tGhana\\t37\\t3\\tForward\\t28\\t78\\tAl-Ain   \\tAsamoah Gyan \\t1\\t\\t\\nG\\tGhana\\t37\\t13\\tForward\\t22\\t12\\tSochaux   \\tJordan Ayew\\t0\\t\\t\\nG\\tGhana\\t37\\t9\\tForward\\t27\\t12\\tSchalke 4  \\tKevin-Prince Boateng\\t0\\t\\t\\nG\\tGhana\\t37\\t18\\tForward\\t22\\t9\\tValenciennes   \\tMajeed Waris\\t0\\t\\t\\nG\\tPortugal\\t4\\t22\\tGoalie\\t32\\t7\\tSevilla   \\tBeto\\t0\\t\\t\\nG\\tPortugal\\t4\\t1\\tGoalie\\t31\\t33\\tBraga   \\tEduardo\\t0\\t\\t\\nG\\tPortugal\\t4\\t12\\tGoalie\\t26\\t29\\tSporting   \\tRui Patricio\\t0\\t\\t\\nG\\tPortugal\\t4\\t19\\tDefender\\t23\\t3\\tBenfica   \\tAndre Almeida\\t0\\t\\t\\nG\\tPortugal\\t4\\t2\\tDefender\\t32\\t71\\tFenerbahce   \\tBruno Alves\\t0\\t\\t\\nG\\tPortugal\\t4\\t5\\tDefender\\t26\\t43\\tReal Madrid  \\tFabio Coentr\\xc3\\xa3o\\t0\\t\\t\\nG\\tPortugal\\t4\\t21\\tDefender\\t30\\t35\\tValencia   \\tJo\\xc3\\xa3o Pereira\\t0\\t\\t\\nG\\tPortugal\\t4\\t14\\tDefender\\t26\\t7\\tZenit Saint Petersburg \\tLuis Neto\\t0\\t\\t\\nG\\tPortugal\\t4\\t3\\tDefender\\t31\\t57\\tReal Madrid  \\tPepe\\t0\\t\\t\\nG\\tPortugal\\t4\\t13\\tDefender\\t33\\t18\\tValencia   \\tRicardo Costa\\t0\\t\\t\\nG\\tPortugal\\t4\\t8\\tMidfielder\\t27\\t66\\tMonaco   \\tJo\\xc3\\xa3o Moutinho\\t0\\t\\t\\nG\\tPortugal\\t4\\t4\\tMidfielder\\t28\\t47\\tDynamo Kyiv  \\tMiguel Veloso\\t0\\t\\t\\nG\\tPortugal\\t4\\t17\\tMidfielder\\t27\\t73\\tManchester United  \\tNani\\t0\\t\\t\\nG\\tPortugal\\t4\\t15\\tMidfielder\\t21\\t2\\tBraga   \\tRafa Silva\\t0\\t\\t\\nG\\tPortugal\\t4\\t16\\tMidfielder\\t31\\t73\\tFenerbahce   \\tRaul Meireles\\t0\\t\\t\\nG\\tPortugal\\t4\\t20\\tMidfielder\\t29\\t11\\tBenfica   \\tRuben Amorim\\t0\\t\\t\\nG\\tPortugal\\t4\\t18\\tMidfielder\\t29\\t22\\tPorto   \\tSilvestre Varela\\t0\\t\\t\\nG\\tPortugal\\t4\\t10\\tMidfielder\\t28\\t7\\tVfL Wolfsburg  \\tVieirinha\\t0\\t\\t\\nG\\tPortugal\\t4\\t6\\tMidfielder\\t22\\t3\\tSporting   \\tWilliam Carvalho\\t0\\t\\t\\nG\\tPortugal\\t4\\t7\\tForward\\t29\\t110\\tReal Madrid  \\tCristiano Ronaldo \\t1\\t\\t\\nG\\tPortugal\\t4\\t11\\tForward\\t26\\t7\\tBraga   \\teder\\t0\\t\\t\\nG\\tPortugal\\t4\\t23\\tForward\\t31\\t67\\tLazio   \\tHelder Postiga\\t0\\t\\t\\nG\\tPortugal\\t4\\t9\\tForward\\t30\\t54\\tBesiktas   \\tHugo Almeida\\t0\\t\\t\\nH\\tAlgeria\\t22\\t1\\tGoalie\\t29\\t1\\tCS Constantine  \\tCedric Si Mohamed\\t0\\t\\t\\nH\\tAlgeria\\t22\\t16\\tGoalie\\t29\\t7\\tUSM Alger  \\tMohamed Zemmamouche\\t0\\t\\t\\nH\\tAlgeria\\t22\\t23\\tGoalie\\t28\\t27\\tCSKA Sofia  \\tRaes M'Bolhi\\t0\\t\\t\\nH\\tAlgeria\\t22\\t20\\tDefender\\t22\\t2\\tReims   \\tAissa Mandi\\t0\\t\\t\\nH\\tAlgeria\\t22\\t7\\tDefender\\t29\\t25\\tValenciennes   \\tCarl Medjani\\t0\\t\\t\\nH\\tAlgeria\\t22\\t6\\tDefender\\t29\\t26\\tLivorno   \\tDjamel Mesbah\\t0\\t\\t\\nH\\tAlgeria\\t22\\t4\\tDefender\\t25\\t13\\tWatford   \\tEssaed Belkalem\\t0\\t\\t\\nH\\tAlgeria\\t22\\t3\\tDefender\\t23\\t5\\tNapoli   \\tFaouzi Ghoulam\\t0\\t\\t\\nH\\tAlgeria\\t22\\t17\\tDefender\\t26\\t6\\tMallorca   \\tLiassine Cadamuro-Bentaeba\\t0\\t\\t\\nH\\tAlgeria\\t22\\t2\\tDefender\\t31\\t61\\tLekhwiya   \\tMadjid Bougherra \\t1\\t\\t\\nH\\tAlgeria\\t22\\t5\\tDefender\\t27\\t28\\tAcademica   \\tRafik Halliche\\t0\\t\\t\\nH\\tAlgeria\\t22\\t18\\tMidfielder\\t27\\t76\\tClub Africain  \\tAbdelmoumene Djabou\\t0\\t\\t\\nH\\tAlgeria\\t22\\t8\\tMidfielder\\t30\\t24\\tUdinese   \\tHassan Yebda\\t0\\t\\t\\nH\\tAlgeria\\t22\\t12\\tMidfielder\\t30\\t29\\tGetafe   \\tMedhi Lacen\\t0\\t\\t\\nH\\tAlgeria\\t22\\t22\\tMidfielder\\t30\\t22\\tAjaccio   \\tMehdi Mostefa\\t0\\t\\t\\nH\\tAlgeria\\t22\\t14\\tMidfielder\\t19\\t2\\tTottenham Hotspur  \\tNabil Bentaleb\\t0\\t\\t\\nH\\tAlgeria\\t22\\t21\\tMidfielder\\t23\\t1\\tLeicester City  \\tRiyad Mahrez\\t0\\t\\t\\nH\\tAlgeria\\t22\\t19\\tMidfielder\\t22\\t10\\tInternazionale   \\tSaphir Taeder\\t0\\t\\t\\nH\\tAlgeria\\t22\\t10\\tMidfielder\\t24\\t18\\tValencia   \\tSofiane Feghouli\\t0\\t\\t\\nH\\tAlgeria\\t22\\t11\\tMidfielder\\t24\\t5\\tGranada   \\tYacine Brahimi\\t0\\t\\t\\nH\\tAlgeria\\t22\\t15\\tForward\\t26\\t21\\tDinamo Zagreb  \\tEl Arbi Hillel Soudani\\t0\\t\\t\\nH\\tAlgeria\\t22\\t13\\tForward\\t25\\t19\\tSporting CP  \\tIslam Slimani\\t0\\t\\t\\nH\\tAlgeria\\t22\\t9\\tForward\\t24\\t5\\tPorto   \\tNabil Ghilas\\t0\\t\\t\\nH\\tBelgium\\t11\\t13\\tGoalie\\t28\\t1\\tZulte Waregem  \\tSammy Bossut\\t0\\t\\t\\nH\\tBelgium\\t11\\t12\\tGoalie\\t25\\t14\\tLiverpool   \\tSimon Mignolet\\t0\\t\\t\\nH\\tBelgium\\t11\\t1\\tGoalie\\t22\\t16\\tAtletico Madrid  \\tThibaut Courtois\\t0\\t\\t\\nH\\tBelgium\\t11\\t21\\tDefender\\t26\\t25\\tAnderlecht   \\tAnthony Vanden Borre\\t0\\t\\t\\nH\\tBelgium\\t11\\t15\\tDefender\\t36\\t79\\tBayern Munich  \\tDaniel Van Buyten\\t0\\t\\t\\nH\\tBelgium\\t11\\t5\\tDefender\\t27\\t56\\tTottenham Hotspur  \\tJan Vertonghen\\t0\\t\\t\\nH\\tBelgium\\t11\\t23\\tDefender\\t28\\t8\\tStandard Liege  \\tLaurent Ciman\\t0\\t\\t\\nH\\tBelgium\\t11\\t18\\tDefender\\t29\\t26\\tZenit Saint Petersburg \\tNicolas Lombaerts\\t0\\t\\t\\nH\\tBelgium\\t11\\t3\\tDefender\\t28\\t48\\tArsenal   \\tThomas Vermaelen\\t0\\t\\t\\nH\\tBelgium\\t11\\t2\\tDefender\\t25\\t34\\tAtletico Madrid  \\tToby Alderweireld\\t0\\t\\t\\nH\\tBelgium\\t11\\t4\\tDefender\\t28\\t59\\tManchester City  \\tVincent Kompany \\t1\\t\\t\\nH\\tBelgium\\t11\\t20\\tMidfielder\\t19\\t1\\tManchester United  \\tAdnan Januzaj\\t0\\t\\t\\nH\\tBelgium\\t11\\t6\\tMidfielder\\t25\\t48\\tZenit Saint Petersburg \\tAxel Witsel\\t0\\t\\t\\nH\\tBelgium\\t11\\t10\\tMidfielder\\t23\\t45\\tChelsea   \\tEden Hazard\\t0\\t\\t\\nH\\tBelgium\\t11\\t7\\tMidfielder\\t22\\t22\\tVfL Wolfsburg  \\tKevin De Bruyne\\t0\\t\\t\\nH\\tBelgium\\t11\\t11\\tMidfielder\\t26\\t44\\tEverton   \\tKevin Mirallas\\t0\\t\\t\\nH\\tBelgium\\t11\\t8\\tMidfielder\\t26\\t50\\tManchester United  \\tMarouane Fellaini\\t0\\t\\t\\nH\\tBelgium\\t11\\t19\\tMidfielder\\t26\\t55\\tTottenham Hotspur  \\tMousa Dembele\\t0\\t\\t\\nH\\tBelgium\\t11\\t22\\tMidfielder\\t24\\t20\\tTottenham Hotspur  \\tNacer Chadli\\t0\\t\\t\\nH\\tBelgium\\t11\\t16\\tMidfielder\\t26\\t43\\tPorto   \\tSteven Defour\\t0\\t\\t\\nH\\tBelgium\\t11\\t17\\tForward\\t19\\t2\\tLille   \\tDivock Origi\\t0\\t\\t\\nH\\tBelgium\\t11\\t14\\tForward\\t27\\t24\\tNapoli   \\tDries Mertens\\t0\\t\\t\\nH\\tBelgium\\t11\\t9\\tForward\\t21\\t29\\tEverton   \\tRomelu Lukaku\\t0\\t\\t\\nH\\tSouth Korea\\t57\\t1\\tGoalie\\t29\\t60\\tSuwon Bluewings  \\tJung Sung-Ryong\\t0\\t\\t\\nH\\tSouth Korea\\t57\\t21\\tGoalie\\t23\\t5\\tUlsan Hyundai  \\tKim Seung-Gyu\\t0\\t\\t\\nH\\tSouth Korea\\t57\\t23\\tGoalie\\t25\\t0\\tBusan I'Park  \\tLee Bum-Young\\t0\\t\\t\\nH\\tSouth Korea\\t57\\t20\\tDefender\\t24\\t24\\tFC Augsburg  \\tHong Jeong-Ho\\t0\\t\\t\\nH\\tSouth Korea\\t57\\t6\\tDefender\\t24\\t3\\tSanfrecce Hiroshima  \\tHwang Seok-Ho\\t0\\t\\t\\nH\\tSouth Korea\\t57\\t2\\tDefender\\t28\\t8\\tKashiwa Reysol  \\tKim Chang-Soo\\t0\\t\\t\\nH\\tSouth Korea\\t57\\t5\\tDefender\\t24\\t20\\tGuangzhou Evergrande  \\tKim Young-Gwon\\t0\\t\\t\\nH\\tSouth Korea\\t57\\t4\\tDefender\\t32\\t34\\tAl-Hilal   \\tKwak Tae-Hwi\\t0\\t\\t\\nH\\tSouth Korea\\t57\\t12\\tDefender\\t27\\t11\\tUlsan Hyundai  \\tLee Yong\\t0\\t\\t\\nH\\tSouth Korea\\t57\\t22\\tDefender\\t27\\t13\\tMainz 5  \\tPark Joo-Ho\\t0\\t\\t\\nH\\tSouth Korea\\t57\\t3\\tDefender\\t24\\t3\\tQueens Park Rangers \\tYun Suk-Young\\t0\\t\\t\\nH\\tSouth Korea\\t57\\t8\\tMidfielder\\t29\\t13\\tBeijing Guoan  \\tHa Dae-Sung\\t0\\t\\t\\nH\\tSouth Korea\\t57\\t14\\tMidfielder\\t24\\t9\\tKashiwa Reysol  \\tHan Kook-Young\\t0\\t\\t\\nH\\tSouth Korea\\t57\\t16\\tMidfielder\\t25\\t58\\tSunderland   \\tKi Sung-Yueng\\t0\\t\\t\\nH\\tSouth Korea\\t57\\t7\\tMidfielder\\t24\\t27\\tCardiff City  \\tKim Bo-Kyung\\t0\\t\\t\\nH\\tSouth Korea\\t57\\t13\\tMidfielder\\t25\\t36\\tMainz 5  \\tKoo Ja-Cheol \\t1\\t\\t\\nH\\tSouth Korea\\t57\\t17\\tMidfielder\\t25\\t54\\tBolton Wanderers  \\tLee Chung-Yong\\t0\\t\\t\\nH\\tSouth Korea\\t57\\t15\\tMidfielder\\t25\\t10\\tGuangzhou R&F  \\tPark Jong-Woo\\t0\\t\\t\\nH\\tSouth Korea\\t57\\t19\\tForward\\t23\\t27\\tFC Augsburg  \\tJi Dong-Won\\t0\\t\\t\\nH\\tSouth Korea\\t57\\t18\\tForward\\t26\\t26\\tUlsan Hyundai  \\tKim Shin-Wook\\t0\\t\\t\\nH\\tSouth Korea\\t57\\t11\\tForward\\t29\\t63\\tSangju Sangmu  \\tLee Keun-Ho\\t0\\t\\t\\nH\\tSouth Korea\\t57\\t10\\tForward\\t28\\t63\\tWatford   \\tPark Chu-Young\\t0\\t\\t\\nH\\tSouth Korea\\t57\\t9\\tForward\\t21\\t24\\tBayer Leverkusen  \\tSon Heung-Min\\t0\\t\\t\\nH\\tRussia\\t19\\t1\\tGoalie\\t28\\t67\\tCSKA Moscow  \\tIgor Akinfeev\\t0\\t\\t\\nH\\tRussia\\t19\\t16\\tGoalie\\t33\\t1\\tRubin Kazan  \\tSergey Ryzhikov\\t0\\t\\t\\nH\\tRussia\\t19\\t12\\tGoalie\\t24\\t2\\tZenit Saint Petersburg \\tYuri Lodygin\\t0\\t\\t\\nH\\tRussia\\t19\\t2\\tDefender\\t27\\t10\\tDynamo Moscow  \\tAleksei Kozlov\\t0\\t\\t\\nH\\tRussia\\t19\\t6\\tDefender\\t25\\t1\\tTerek Grozny  \\tAndrei Semyonov\\t0\\t\\t\\nH\\tRussia\\t19\\t22\\tDefender\\t30\\t11\\tAnzhi Makhachkala  \\tAndrey Yeshchenko\\t0\\t\\t\\nH\\tRussia\\t19\\t23\\tDefender\\t27\\t21\\tSpartak Moscow  \\tDmitri Kombarov\\t0\\t\\t\\nH\\tRussia\\t19\\t3\\tDefender\\t23\\t3\\tCSKA Moscow  \\tGeorgi Shchennikov\\t0\\t\\t\\nH\\tRussia\\t19\\t4\\tDefender\\t34\\t95\\tCSKA Moscow  \\tSergei Ignashevich\\t0\\t\\t\\nH\\tRussia\\t19\\t14\\tDefender\\t31\\t77\\tCSKA Moscow  \\tVasili Berezutski\\t0\\t\\t\\nH\\tRussia\\t19\\t13\\tDefender\\t27\\t4\\tDynamo Moscow  \\tVladimir Granat\\t0\\t\\t\\nH\\tRussia\\t19\\t10\\tMidfielder\\t23\\t31\\tCSKA Moscow  \\tAlan Dzagoev\\t0\\t\\t\\nH\\tRussia\\t19\\t8\\tMidfielder\\t27\\t26\\tSpartak Moscow  \\tDenis Glushakov\\t0\\t\\t\\nH\\tRussia\\t19\\t7\\tMidfielder\\t30\\t42\\tDynamo Moscow  \\tIgor Denisov\\t0\\t\\t\\nH\\tRussia\\t19\\t17\\tMidfielder\\t23\\t6\\tZenit Saint Petersburg \\tOleg Shatov\\t0\\t\\t\\nH\\tRussia\\t19\\t15\\tMidfielder\\t21\\t1\\tRubin Kazan  \\tPavel Mogilevets\\t0\\t\\t\\nH\\tRussia\\t19\\t20\\tMidfielder\\t28\\t18\\tZenit Saint Petersburg \\tViktor Fayzulin\\t0\\t\\t\\nH\\tRussia\\t19\\t11\\tForward\\t31\\t79\\tZenit Saint Petersburg \\tAleksandr Kerzhakov\\t0\\t\\t\\nH\\tRussia\\t19\\t9\\tForward\\t23\\t20\\tDynamo Moscow  \\tAleksandr Kokorin\\t0\\t\\t\\nH\\tRussia\\t19\\t19\\tForward\\t29\\t16\\tLokomotiv Moscow  \\tAleksandr Samedov\\t0\\t\\t\\nH\\tRussia\\t19\\t18\\tForward\\t25\\t5\\tDynamo Moscow  \\tAleksei Ionov\\t0\\t\\t\\nH\\tRussia\\t19\\t21\\tForward\\t22\\t2\\tRubin Kazan  \\tMaksim Kanunnikov\\t0\\t\\t\\nH\\tRussia\\t19\\t5\\tForward\\t30\\t59\\tDynamo Moscow  \\tYuri Zhirkov\\t0\\t\\t\\n\"}"
            ]
          },
          "metadata": {
            "tags": []
          },
          "execution_count": 48
        }
      ]
    },
    {
      "cell_type": "markdown",
      "metadata": {
        "id": "0Few1lYCWl96",
        "colab_type": "text"
      },
      "source": [
        "Lets try:"
      ]
    },
    {
      "cell_type": "code",
      "metadata": {
        "id": "VWIYcMukWnvg",
        "colab_type": "code",
        "colab": {}
      },
      "source": [
        "inputRDD = sc.textFile(\"worldcupplayerinfo_20140701.tsv\")\n",
        "barcelonaRDD = inputRDD.filter(lambda x: \"Barcelona\" in x)"
      ],
      "execution_count": 0,
      "outputs": []
    },
    {
      "cell_type": "markdown",
      "metadata": {
        "id": "Q14UC4m4WwAK",
        "colab_type": "text"
      },
      "source": [
        "And:"
      ]
    },
    {
      "cell_type": "code",
      "metadata": {
        "id": "ZWf-RyhmWxSC",
        "colab_type": "code",
        "colab": {}
      },
      "source": [
        "madridRDD = inputRDD.filter(lambda x: \"Real Madrid\" in x)\n",
        "teamLinesRDD = barcelonaRDD.union(madridRDD)"
      ],
      "execution_count": 0,
      "outputs": []
    },
    {
      "cell_type": "markdown",
      "metadata": {
        "id": "lTnxC2_wWy5Y",
        "colab_type": "text"
      },
      "source": [
        "Then we want to actually see our transformations:"
      ]
    },
    {
      "cell_type": "code",
      "metadata": {
        "id": "uYSe1zlAW8_a",
        "colab_type": "code",
        "colab": {
          "base_uri": "https://localhost:8080/",
          "height": 527
        },
        "outputId": "45d573ed-0f8e-4f86-a0b2-dda690f8c436"
      },
      "source": [
        "print (\"Input had \" + str(teamLinesRDD.count()) + \" Players from Barcelona and Real Madrid\")\n",
        "print (\"Here are the players in common:\")\n",
        "for line in teamLinesRDD.collect():\n",
        "  print (line)"
      ],
      "execution_count": 61,
      "outputs": [
        {
          "output_type": "stream",
          "text": [
            "Input had 28 Players from Barcelona and Real Madrid\n",
            "Here are the players in common:\n",
            "A\tBrazil\t3\t2\tDefender\t31\t75\tBarcelona   \tDani Alves\t0\t\t\n",
            "A\tBrazil\t3\t10\tForward\t22\t49\tBarcelona   \tNeymar\t0\t\t\n",
            "A\tCameroon\t56\t6\tMidfielder\t26\t47\tBarcelona   \tAlex Song\t0\t\t\n",
            "B\tChile\t14\t7\tForward\t25\t67\tBarcelona   \tAlexis Sanchez\t0\t\t\n",
            "B\tSpain\t1\t3\tDefender\t27\t60\tBarcelona   \tGerard Pique\t0\t\t\n",
            "B\tSpain\t1\t18\tDefender\t25\t26\tBarcelona   \tJordi Alba\t0\t\t\n",
            "B\tSpain\t1\t6\tMidfielder\t30\t97\tBarcelona   \tAndres Iniesta\t0\t\t\n",
            "B\tSpain\t1\t10\tMidfielder\t27\t89\tBarcelona   \tCesc Fabregas\t0\t\t\n",
            "B\tSpain\t1\t16\tMidfielder\t25\t65\tBarcelona   \tSergio Busquets\t0\t\t\n",
            "B\tSpain\t1\t8\tMidfielder\t34\t132\tBarcelona   \tXavi\t0\t\t\n",
            "B\tSpain\t1\t11\tForward\t26\t40\tBarcelona   \tPedro\t0\t\t\n",
            "E\tEcuador\t26\t1\tGoalie\t28\t24\tBarcelona   \tMaximo Banguera\t0\t\t\n",
            "E\tEcuador\t26\t4\tDefender\t26\t37\tBarcelona   \tJuan Carlos Paredes\t0\t\t\n",
            "E\tEcuador\t26\t19\tMidfielder\t30\t48\tBarcelona   \tLuis Saritama\t0\t\t\n",
            "F\tArgentina\t5\t14\tMidfielder\t29\t96\tBarcelona   \tJavier Mascherano\t0\t\t\n",
            "F\tArgentina\t5\t10\tForward\t26\t84\tBarcelona   \tLionel Messi \t1\t\t\n",
            "A\tBrazil\t3\t6\tDefender\t26\t31\tReal Madrid  \tMarcelo\t0\t\t\n",
            "A\tCroatia\t18\t10\tMidfielder\t28\t75\tReal Madrid  \tLuka Modric\t0\t\t\n",
            "B\tSpain\t1\t1\tGoalie\t33\t154\tReal Madrid  \tIker Casillas \t1\t\t\n",
            "B\tSpain\t1\t15\tDefender\t28\t117\tReal Madrid  \tSergio Ramos\t0\t\t\n",
            "B\tSpain\t1\t14\tMidfielder\t32\t111\tReal Madrid  \tXabi Alonso\t0\t\t\n",
            "E\tFrance\t17\t4\tDefender\t21\t5\tReal Madrid  \tRaphael Varane\t0\t\t\n",
            "E\tFrance\t17\t10\tForward\t26\t65\tReal Madrid  \tKarim Benzema\t0\t\t\n",
            "F\tArgentina\t5\t7\tMidfielder\t26\t45\tReal Madrid  \tangel di Maria\t0\t\t\n",
            "G\tGermany\t2\t6\tMidfielder\t27\t45\tReal Madrid  \tSami Khedira\t0\t\t\n",
            "G\tPortugal\t4\t5\tDefender\t26\t43\tReal Madrid  \tFabio Coentrão\t0\t\t\n",
            "G\tPortugal\t4\t3\tDefender\t31\t57\tReal Madrid  \tPepe\t0\t\t\n",
            "G\tPortugal\t4\t7\tForward\t29\t110\tReal Madrid  \tCristiano Ronaldo \t1\t\t\n"
          ],
          "name": "stdout"
        }
      ]
    },
    {
      "cell_type": "markdown",
      "metadata": {
        "id": "78hDs7gwYyJs",
        "colab_type": "text"
      },
      "source": [
        "# Go Back to Slide 21"
      ]
    },
    {
      "cell_type": "markdown",
      "metadata": {
        "id": "04MX4jsPJyyi",
        "colab_type": "text"
      },
      "source": [
        "Sources: \n",
        "\n",
        "https://realpython.com/pyspark-intro/"
      ]
    }
  ]
}