{
  "nbformat": 4,
  "nbformat_minor": 0,
  "metadata": {
    "colab": {
      "name": "Class16-Python for Data Analysis - Part2.ipynb",
      "provenance": [],
      "include_colab_link": true
    },
    "kernelspec": {
      "name": "python3",
      "display_name": "Python 3"
    }
  },
  "cells": [
    {
      "cell_type": "markdown",
      "metadata": {
        "id": "view-in-github",
        "colab_type": "text"
      },
      "source": [
        "<a href=\"https://colab.research.google.com/github/jmbanda/BigDataProgramming_2019/blob/master/Class16_Python_for_Data_Analysis_Part2.ipynb\" target=\"_parent\"><img src=\"https://colab.research.google.com/assets/colab-badge.svg\" alt=\"Open In Colab\"/></a>"
      ]
    },
    {
      "cell_type": "markdown",
      "metadata": {
        "id": "swacjJXxLkkU",
        "colab_type": "text"
      },
      "source": [
        "# Python for Data Analysis & Visualization (part 2)"
      ]
    },
    {
      "cell_type": "markdown",
      "metadata": {
        "id": "VnnOJgJ33EgK",
        "colab_type": "text"
      },
      "source": [
        "Most of these examples are from: \n",
        "\n",
        "**Python Data Science Handbook**\n",
        "\n",
        "*Essential Tools for Working with Data*\n",
        "\n",
        "By Jake VanderPlas\n",
        "\n",
        "![alt text](https://covers.oreillystatic.com/images/0636920034919/cat.gif)"
      ]
    },
    {
      "cell_type": "code",
      "metadata": {
        "id": "SR8PwUmfldux",
        "colab_type": "code",
        "colab": {}
      },
      "source": [
        "import numpy as np\n",
        "import pandas as pd\n",
        "import math\n"
      ],
      "execution_count": 0,
      "outputs": []
    },
    {
      "cell_type": "markdown",
      "metadata": {
        "id": "yYhv3ioMMe4R",
        "colab_type": "text"
      },
      "source": [
        "# Import Matplotlib "
      ]
    },
    {
      "cell_type": "code",
      "metadata": {
        "id": "CKX5TxZSMhdY",
        "colab_type": "code",
        "colab": {}
      },
      "source": [
        "import matplotlib.pyplot as plt\n",
        "%matplotlib inline"
      ],
      "execution_count": 0,
      "outputs": []
    },
    {
      "cell_type": "markdown",
      "metadata": {
        "id": "qAcRz-YwrVDr",
        "colab_type": "text"
      },
      "source": [
        "**Simple sine and cosine curve plots**"
      ]
    },
    {
      "cell_type": "code",
      "metadata": {
        "id": "dzGCBdfan9nQ",
        "colab_type": "code",
        "colab": {}
      },
      "source": [
        "x = np.linspace(0, 10, 100)\n",
        "\n",
        "fig = plt.figure()\n",
        "plt.plot(x, np.sin(x), '-')\n",
        "plt.plot(x, np.cos(x), '--');"
      ],
      "execution_count": 0,
      "outputs": []
    },
    {
      "cell_type": "markdown",
      "metadata": {
        "id": "cE2qdeltr0ao",
        "colab_type": "text"
      },
      "source": [
        "**Saving Figures to File**\n",
        "\n",
        "One nice feature of Matplotlib is the ability to save figures in a wide variety of formats. Saving a figure can be done using the savefig() command. For example, to save the previous figure as a PNG file, you can run this:"
      ]
    },
    {
      "cell_type": "code",
      "metadata": {
        "id": "C9mNb8Kcr7TO",
        "colab_type": "code",
        "colab": {}
      },
      "source": [
        "fig.savefig('my_figure.png')"
      ],
      "execution_count": 0,
      "outputs": []
    },
    {
      "cell_type": "markdown",
      "metadata": {
        "id": "sC_-O17ksB6P",
        "colab_type": "text"
      },
      "source": [
        "Displaying a saved image"
      ]
    },
    {
      "cell_type": "code",
      "metadata": {
        "id": "gwrB-tBusEOO",
        "colab_type": "code",
        "colab": {}
      },
      "source": [
        "from IPython.display import Image\n",
        "Image('my_figure.png')"
      ],
      "execution_count": 0,
      "outputs": []
    },
    {
      "cell_type": "markdown",
      "metadata": {
        "id": "4Fp42SuZsYoI",
        "colab_type": "text"
      },
      "source": [
        "These are the file types you can save images"
      ]
    },
    {
      "cell_type": "code",
      "metadata": {
        "id": "oED3Z6ENscST",
        "colab_type": "code",
        "colab": {}
      },
      "source": [
        "fig.canvas.get_supported_filetypes()"
      ],
      "execution_count": 0,
      "outputs": []
    },
    {
      "cell_type": "markdown",
      "metadata": {
        "id": "Mk4lwsYqsjSQ",
        "colab_type": "text"
      },
      "source": [
        "**MATLAB-style Interface**\n",
        "\n",
        "Matplotlib was originally written as a Python alternative for MATLAB users, and much of its syntax reflects that fact. The MATLAB-style tools are contained in the `pyplot (plt)` interface. For example, the following code will probably look quite familiar to MATLAB users:"
      ]
    },
    {
      "cell_type": "code",
      "metadata": {
        "id": "PHm4RUPJsrqn",
        "colab_type": "code",
        "colab": {}
      },
      "source": [
        "plt.figure()  # create a plot figure\n",
        "\n",
        "# create the first of two panels and set current axis\n",
        "plt.subplot(2, 1, 1) # (rows, columns, panel number)\n",
        "plt.plot(x, np.sin(x))\n",
        "\n",
        "# create the second panel and set current axis\n",
        "plt.subplot(2, 1, 2)\n",
        "plt.plot(x, np.cos(x));"
      ],
      "execution_count": 0,
      "outputs": []
    },
    {
      "cell_type": "markdown",
      "metadata": {
        "id": "AysHkt17s1Fv",
        "colab_type": "text"
      },
      "source": [
        "It is important to note that this interface is stateful: it keeps track of the \"current\" figure and axes, which are where all plt commands are applied. You can get a reference to these using the `plt.gcf()` (get current figure) and `plt.gca()` (get current axes) routines.\n",
        "\n",
        "While this stateful interface is fast and convenient for simple plots, it is easy to run into problems. For example, once the second panel is created, how can we go back and add something to the first? This is possible within the MATLAB-style interface, but a bit clunky. Fortunately, there is a better way."
      ]
    },
    {
      "cell_type": "markdown",
      "metadata": {
        "id": "WV7AEjDws_Wo",
        "colab_type": "text"
      },
      "source": [
        "**Object-oriented interface**\n",
        "\n",
        "The object-oriented interface is available for these more complicated situations, and for when you want more control over your figure. Rather than depending on some notion of an \"active\" figure or axes, in the object-oriented interface the plotting functions are methods of explicit Figure and Axes objects. To re-create the previous plot using this style of plotting, you might do the following:"
      ]
    },
    {
      "cell_type": "code",
      "metadata": {
        "id": "D1NQ6MEWtD9_",
        "colab_type": "code",
        "colab": {}
      },
      "source": [
        "# First create a grid of plots\n",
        "# ax will be an array of two Axes objects\n",
        "fig, ax = plt.subplots(2)\n",
        "\n",
        "# Call plot() method on the appropriate object\n",
        "ax[0].plot(x, np.sin(x))\n",
        "ax[1].plot(x, np.cos(x));"
      ],
      "execution_count": 0,
      "outputs": []
    },
    {
      "cell_type": "markdown",
      "metadata": {
        "id": "yGboZttUtK8r",
        "colab_type": "text"
      },
      "source": [
        "For more simple plots, the choice of which style to use is largely a matter of preference, but the object-oriented approach can become a necessity as plots become more complicated. Throughout this chapter, we will switch between the MATLAB-style and object-oriented interfaces, depending on what is most convenient. In most cases, the difference is as small as switching `plt.plot()` to `ax.plot()`, but there are a few gotchas that we will highlight as they come up in the following sections.\n"
      ]
    },
    {
      "cell_type": "markdown",
      "metadata": {
        "id": "Zzo8174utpnt",
        "colab_type": "text"
      },
      "source": [
        "## Simple Line Plots\n",
        "\n",
        "Perhaps the simplest of all plots is the visualization of a single function $y = f(x)$. Here we will take a first look at creating a simple plot of this type.\n",
        "\n",
        "For all Matplotlib plots, we start by creating a figure and an axes. In their simplest form, a figure and axes can be created as follows:"
      ]
    },
    {
      "cell_type": "code",
      "metadata": {
        "id": "NDeAKJyYt9pu",
        "colab_type": "code",
        "colab": {}
      },
      "source": [
        "plt.style.use('seaborn-whitegrid')\n",
        "fig = plt.figure()\n",
        "ax = plt.axes()"
      ],
      "execution_count": 0,
      "outputs": []
    },
    {
      "cell_type": "markdown",
      "metadata": {
        "id": "2EuacZTnuI2L",
        "colab_type": "text"
      },
      "source": [
        "In Matplotlib, the figure (an instance of the class plt.Figure) can be thought of as a single container that contains all the objects representing axes, graphics, text, and labels. The axes (an instance of the class `plt.Axes`) is what we see above: a bounding box with ticks and labels, which will eventually contain the plot elements that make up our visualization. Throughout this book, we'll commonly use the variable name fig to refer to a figure instance, and ax to refer to an axes instance or group of axes instances.\n",
        "\n",
        "**Adjusting the Plot: Line Colors and Styles**\n",
        "\n",
        "The first adjustment you might wish to make to a plot is to control the line colors and styles. The `plt.plot()` function takes additional arguments that can be used to specify these. To adjust the color, you can use the `color` keyword, which accepts a string argument representing virtually any imaginable color. The color can be specified in a variety of ways:"
      ]
    },
    {
      "cell_type": "code",
      "metadata": {
        "id": "YP6QP-Jxu7br",
        "colab_type": "code",
        "colab": {}
      },
      "source": [
        "plt.plot(x, np.sin(x - 0), color='blue')        # specify color by name\n",
        "plt.plot(x, np.sin(x - 1), color='g')           # short color code (rgbcmyk)\n",
        "plt.plot(x, np.sin(x - 2), color='0.75')        # Grayscale between 0 and 1\n",
        "plt.plot(x, np.sin(x - 3), color='#FFDD44')     # Hex code (RRGGBB from 00 to FF)\n",
        "plt.plot(x, np.sin(x - 4), color=(1.0,0.2,0.3)) # RGB tuple, values 0 to 1\n",
        "plt.plot(x, np.sin(x - 5), color='chartreuse'); # all HTML color names supported"
      ],
      "execution_count": 0,
      "outputs": []
    },
    {
      "cell_type": "markdown",
      "metadata": {
        "id": "EoxH8HoQvBHb",
        "colab_type": "text"
      },
      "source": [
        "If no color is specified, Matplotlib will automatically cycle through a set of default colors for multiple lines.\n",
        "\n",
        "Similarly, the line style can be adjusted using the `linestyle` keyword:"
      ]
    },
    {
      "cell_type": "code",
      "metadata": {
        "id": "EaoLOdElvG-o",
        "colab_type": "code",
        "colab": {}
      },
      "source": [
        "plt.plot(x, x + 0, linestyle='solid')\n",
        "plt.plot(x, x + 1, linestyle='dashed')\n",
        "plt.plot(x, x + 2, linestyle='dashdot')\n",
        "plt.plot(x, x + 3, linestyle='dotted');\n",
        "\n",
        "# For short, you can use the following codes:\n",
        "plt.plot(x, x + 4, linestyle='-')  # solid\n",
        "plt.plot(x, x + 5, linestyle='--') # dashed\n",
        "plt.plot(x, x + 6, linestyle='-.') # dashdot\n",
        "plt.plot(x, x + 7, linestyle=':');  # dotted"
      ],
      "execution_count": 0,
      "outputs": []
    },
    {
      "cell_type": "markdown",
      "metadata": {
        "id": "TxTQur8TvOB4",
        "colab_type": "text"
      },
      "source": [
        "These linestyle and color codes can be combined into a single non-keyword argument to the `plt.plot()` function:"
      ]
    },
    {
      "cell_type": "code",
      "metadata": {
        "id": "Cppd88FPvsHe",
        "colab_type": "code",
        "colab": {}
      },
      "source": [
        "plt.plot(x, x + 0, '-g')  # solid green\n",
        "plt.plot(x, x + 1, '--c') # dashed cyan\n",
        "plt.plot(x, x + 2, '-.k') # dashdot black\n",
        "plt.plot(x, x + 3, ':r');  # dotted red"
      ],
      "execution_count": 0,
      "outputs": []
    },
    {
      "cell_type": "markdown",
      "metadata": {
        "id": "f5-zWJkuvyK_",
        "colab_type": "text"
      },
      "source": [
        "These single-character color codes reflect the standard abbreviations in the RGB (Red/Green/Blue) and CMYK (Cyan/Magenta/Yellow/blacK) color systems, commonly used for digital color graphics.\n",
        "\n",
        "**Adjusting the Plot: Axes Limits**\n",
        "\n",
        "Matplotlib does a decent job of choosing default axes limits for your plot, but sometimes it's nice to have finer control. The most basic way to adjust axis limits is to use the plt.xlim() and plt.ylim() methods:"
      ]
    },
    {
      "cell_type": "code",
      "metadata": {
        "id": "ND8-29-bv61v",
        "colab_type": "code",
        "colab": {}
      },
      "source": [
        "plt.plot(x, np.sin(x))\n",
        "\n",
        "plt.xlim(-1, 11)\n",
        "plt.ylim(-1.5, 1.5);"
      ],
      "execution_count": 0,
      "outputs": []
    },
    {
      "cell_type": "markdown",
      "metadata": {
        "id": "mX-oXpMgwDUo",
        "colab_type": "text"
      },
      "source": [
        "**Labeling Plots**\n",
        "\n",
        "Let's look at the labeling of plots: titles, axis labels, and simple legends.\n",
        "\n",
        "Titles and axis labels are the simplest such labels—there are methods that can be used to quickly set them:"
      ]
    },
    {
      "cell_type": "code",
      "metadata": {
        "id": "sFKllf7cwC9x",
        "colab_type": "code",
        "colab": {}
      },
      "source": [
        "plt.plot(x, np.sin(x))\n",
        "plt.title(\"A Sine Curve\")\n",
        "plt.xlabel(\"x\")\n",
        "plt.ylabel(\"sin(x)\");"
      ],
      "execution_count": 0,
      "outputs": []
    },
    {
      "cell_type": "markdown",
      "metadata": {
        "id": "VzttQHk3wVfi",
        "colab_type": "text"
      },
      "source": [
        "The position, size, and style of these labels can be adjusted using optional arguments to the function. For more information, see the Matplotlib documentation and the docstrings of each of these functions.\n",
        "\n",
        "When multiple lines are being shown within a single axes, it can be useful to create a plot legend that labels each line type. Again, Matplotlib has a built-in way of quickly creating such a legend. It is done via the (you guessed it) `plt.legend()` method. Though there are several valid ways of using this, I find it easiest to specify the label of each line using the label keyword of the plot function:"
      ]
    },
    {
      "cell_type": "code",
      "metadata": {
        "id": "IPQh5gHfwbLW",
        "colab_type": "code",
        "colab": {}
      },
      "source": [
        "plt.plot(x, np.sin(x), '-g', label='sin(x)')\n",
        "plt.plot(x, np.cos(x), ':b', label='cos(x)')\n",
        "plt.axis('equal')\n",
        "\n",
        "plt.legend();"
      ],
      "execution_count": 0,
      "outputs": []
    },
    {
      "cell_type": "markdown",
      "metadata": {
        "id": "HOd400arxhMQ",
        "colab_type": "text"
      },
      "source": [
        "**Aside: Matplotlib Gotchas**\n",
        "\n",
        "While most plt functions translate directly to ax methods (such as `plt.plot() → ax.plot()`, `plt.legend() → ax.legend()`, etc.), this is not the case for all commands. In particular, functions to set limits, labels, and titles are slightly modified. For transitioning between MATLAB-style functions and object-oriented methods, make the following changes:\n",
        "\n",
        "```\n",
        "plt.xlabel() → ax.set_xlabel()\n",
        "plt.ylabel() → ax.set_ylabel()\n",
        "plt.xlim() → ax.set_xlim()\n",
        "plt.ylim() → ax.set_ylim()\n",
        "plt.title() → ax.set_title()\n",
        "```\n",
        "\n",
        "In the object-oriented interface to plotting, rather than calling these functions individually, it is often more convenient to use the `ax.set()` method to set all these properties at once:"
      ]
    },
    {
      "cell_type": "code",
      "metadata": {
        "id": "Z3bka_sQx1hw",
        "colab_type": "code",
        "colab": {}
      },
      "source": [
        "ax = plt.axes()\n",
        "ax.plot(x, np.sin(x))\n",
        "ax.set(xlim=(0, 10), ylim=(-2, 2),\n",
        "       xlabel='x', ylabel='sin(x)',\n",
        "       title='A Simple Plot');"
      ],
      "execution_count": 0,
      "outputs": []
    },
    {
      "cell_type": "markdown",
      "metadata": {
        "id": "V4xe2syPyCmk",
        "colab_type": "text"
      },
      "source": [
        "# Simple Scatter Plots\n",
        "\n",
        "Another commonly used plot type is the simple scatter plot, a close cousin of the line plot. Instead of points being joined by line segments, here the points are represented individually with a dot, circle, or other shape.\n",
        "\n",
        "**Scatter Plots with `plt.plot`**\n",
        "\n",
        "In the previous section we looked at `plt.plot/ax.plot` to produce line plots. It turns out that this same function can produce scatter plots as well:"
      ]
    },
    {
      "cell_type": "code",
      "metadata": {
        "id": "b4vSnLb-yWe-",
        "colab_type": "code",
        "colab": {}
      },
      "source": [
        "x = np.linspace(0, 10, 30)\n",
        "y = np.sin(x)\n",
        "\n",
        "plt.plot(x, y, 'o', color='black');"
      ],
      "execution_count": 0,
      "outputs": []
    },
    {
      "cell_type": "markdown",
      "metadata": {
        "id": "H7xjkawryiaL",
        "colab_type": "text"
      },
      "source": [
        "The third argument in the function call is a character that represents the type of symbol used for the plotting. Just as you can specify options such as `'-'`, `'--'` to control the line style, the marker style has its own set of short string codes. The full list of available symbols can be seen in the documentation of `plt.plot`, or in Matplotlib's online documentation. Most of the possibilities are fairly intuitive, and we'll show a number of the more common ones here:"
      ]
    },
    {
      "cell_type": "code",
      "metadata": {
        "id": "40D1zU7UyryV",
        "colab_type": "code",
        "colab": {}
      },
      "source": [
        "rng = np.random.RandomState(0)\n",
        "for marker in ['o', '.', ',', 'x', '+', 'v', '^', '<', '>', 's', 'd']:\n",
        "    plt.plot(rng.rand(5), rng.rand(5), marker,\n",
        "             label=\"marker='{0}'\".format(marker))\n",
        "plt.legend(numpoints=1)\n",
        "plt.xlim(0, 1.8);"
      ],
      "execution_count": 0,
      "outputs": []
    },
    {
      "cell_type": "markdown",
      "metadata": {
        "id": "tWD26Av3ywyD",
        "colab_type": "text"
      },
      "source": [
        "For even more possibilities, these character codes can be used together with line and color codes to plot points along with a line connecting them:"
      ]
    },
    {
      "cell_type": "code",
      "metadata": {
        "id": "6he-cdHXy9jU",
        "colab_type": "code",
        "colab": {}
      },
      "source": [
        "plt.plot(x, y, '-ok');"
      ],
      "execution_count": 0,
      "outputs": []
    },
    {
      "cell_type": "markdown",
      "metadata": {
        "id": "X9yxPn92zC25",
        "colab_type": "text"
      },
      "source": [
        "Additional keyword arguments to `plt.plot` specify a wide range of properties of the lines and markers:"
      ]
    },
    {
      "cell_type": "code",
      "metadata": {
        "id": "CQ4YKXdbzGs2",
        "colab_type": "code",
        "colab": {}
      },
      "source": [
        "plt.plot(x, y, '-p', color='gray',\n",
        "         markersize=15, linewidth=4,\n",
        "         markerfacecolor='white',\n",
        "         markeredgecolor='gray',\n",
        "         markeredgewidth=2)\n",
        "plt.ylim(-1.2, 1.2);"
      ],
      "execution_count": 0,
      "outputs": []
    },
    {
      "cell_type": "markdown",
      "metadata": {
        "id": "ENSNOX-szLAf",
        "colab_type": "text"
      },
      "source": [
        "This type of flexibility in the `plt.plot` function allows for a wide variety of possible visualization options. For a full description of the options available, refer to the `plt.plot` documentation.\n",
        "\n",
        "**Scatter Plots with `plt.scatter`**\n",
        "\n",
        "A second, more powerful method of creating scatter plots is the `plt.scatter` function, which can be used very similarly to the `plt.plot` function:"
      ]
    },
    {
      "cell_type": "code",
      "metadata": {
        "id": "1eXIWEXmzZUV",
        "colab_type": "code",
        "colab": {}
      },
      "source": [
        "plt.scatter(x, y, marker='o');"
      ],
      "execution_count": 0,
      "outputs": []
    },
    {
      "cell_type": "markdown",
      "metadata": {
        "id": "BoNznH_5zeZW",
        "colab_type": "text"
      },
      "source": [
        "The primary difference of `plt.scatter` from `plt.plot` is that it can be used to create scatter plots where the properties of each individual point (size, face color, edge color, etc.) can be individually controlled or mapped to data.\n",
        "\n",
        "Let's show this by creating a random scatter plot with points of many colors and sizes. In order to better see the overlapping results, we'll also use the alpha keyword to adjust the transparency level:"
      ]
    },
    {
      "cell_type": "code",
      "metadata": {
        "id": "iIu3n48rzm4F",
        "colab_type": "code",
        "colab": {}
      },
      "source": [
        "rng = np.random.RandomState(0)\n",
        "x = rng.randn(100)\n",
        "y = rng.randn(100)\n",
        "colors = rng.rand(100)\n",
        "sizes = 1000 * rng.rand(100)\n",
        "\n",
        "plt.scatter(x, y, c=colors, s=sizes, alpha=0.3,\n",
        "            cmap='viridis')\n",
        "plt.colorbar();  # show color scale"
      ],
      "execution_count": 0,
      "outputs": []
    },
    {
      "cell_type": "markdown",
      "metadata": {
        "id": "SMaucI5qzubJ",
        "colab_type": "text"
      },
      "source": [
        "Notice that the color argument is automatically mapped to a color scale (shown here by the `colorbar()` command), and that the size argument is given in pixels. In this way, the color and size of points can be used to convey information in the visualization, in order to visualize multidimensional data."
      ]
    },
    {
      "cell_type": "markdown",
      "metadata": {
        "id": "K3lklWrAz1e7",
        "colab_type": "text"
      },
      "source": [
        "# `plot` Versus `scatter`: A Note on Efficiency\n",
        "\n",
        "\n",
        "Aside from the different features available in `plt.plot` and `plt.scatter`, why might you choose to use one over the other? While it doesn't matter as much for small amounts of data, as datasets get larger than a few thousand points, `plt.plot` can be noticeably more efficient than `plt.scatter`. The reason is that `plt.scatter` has the capability to render a different size and/or color for each point, so the renderer must do the extra work of constructing each point individually. In `plt.plot`, on the other hand, the points are always essentially clones of each other, so the work of determining the appearance of the points is done only once for the entire set of data. For large datasets, the difference between these two can lead to vastly different performance, and for this reason, `plt.plot` should be preferred over plt.scatter for large datasets."
      ]
    },
    {
      "cell_type": "markdown",
      "metadata": {
        "id": "xVv_JEMH0qIj",
        "colab_type": "text"
      },
      "source": [
        "# Visualizing Errors\n",
        "\n",
        "For any scientific measurement, accurate accounting for errors is nearly as important, if not more important, than accurate reporting of the number itself.\n",
        "\n",
        "In visualization of data and results, showing these errors effectively can make a plot convey much more complete information.\n",
        "\n",
        "**Basic Errorbars**\n",
        "\n",
        "A basic errorbar can be created with a single Matplotlib function call:"
      ]
    },
    {
      "cell_type": "code",
      "metadata": {
        "id": "FpgAvlfm06Su",
        "colab_type": "code",
        "colab": {}
      },
      "source": [
        "x = np.linspace(0, 10, 50)\n",
        "dy = 0.8\n",
        "y = np.sin(x) + dy * np.random.randn(50)\n",
        "\n",
        "plt.errorbar(x, y, yerr=dy, fmt='.k');"
      ],
      "execution_count": 0,
      "outputs": []
    },
    {
      "cell_type": "markdown",
      "metadata": {
        "id": "zVuxddAX1Bba",
        "colab_type": "text"
      },
      "source": [
        "Here the `fmt` is a format code controlling the appearance of lines and points, and has the same syntax as the shorthand used in `plt.plot`, outlined before.\n",
        "\n",
        "In addition to these basic options, the errorbar function has many options to fine-tune the outputs. Using these additional options you can easily customize the aesthetics of your errorbar plot. I often find it helpful, especially in crowded plots, to make the errorbars lighter than the points themselves:"
      ]
    },
    {
      "cell_type": "code",
      "metadata": {
        "id": "n0WzDksZ1Nt9",
        "colab_type": "code",
        "colab": {}
      },
      "source": [
        "plt.errorbar(x, y, yerr=dy, fmt='o', color='black',\n",
        "             ecolor='lightgray', elinewidth=3, capsize=0);"
      ],
      "execution_count": 0,
      "outputs": []
    },
    {
      "cell_type": "markdown",
      "metadata": {
        "id": "NDVjRRzV1SLX",
        "colab_type": "text"
      },
      "source": [
        "In addition to these options, you can also specify horizontal errorbars (`xerr`), one-sided errorbars, and many other variants. For more information on the options available, refer to the docstring of `plt.errorbar`."
      ]
    },
    {
      "cell_type": "markdown",
      "metadata": {
        "id": "a1naPuIa2q-P",
        "colab_type": "text"
      },
      "source": [
        "# Histograms, Binnings, and Density"
      ]
    },
    {
      "cell_type": "markdown",
      "metadata": {
        "id": "wTJSvXFg2q-R",
        "colab_type": "text"
      },
      "source": [
        "A simple histogram can be a great first step in understanding a dataset."
      ]
    },
    {
      "cell_type": "code",
      "metadata": {
        "id": "q8Qqm3tq2q-b",
        "colab_type": "code",
        "colab": {}
      },
      "source": [
        "data = np.random.randn(1000)\n",
        "plt.hist(data);"
      ],
      "execution_count": 0,
      "outputs": []
    },
    {
      "cell_type": "markdown",
      "metadata": {
        "id": "E6xhIKkq2q-g",
        "colab_type": "text"
      },
      "source": [
        "The ``hist()`` function has many options to tune both the calculation and the display; \n",
        "here's an example of a more customized histogram:"
      ]
    },
    {
      "cell_type": "code",
      "metadata": {
        "id": "ELboFqH52q-h",
        "colab_type": "code",
        "colab": {}
      },
      "source": [
        "plt.hist(data, bins=30, density=True, alpha=0.5,\n",
        "         histtype='stepfilled', color='steelblue',\n",
        "         edgecolor='none');"
      ],
      "execution_count": 0,
      "outputs": []
    },
    {
      "cell_type": "markdown",
      "metadata": {
        "id": "1rtFulgw2q-p",
        "colab_type": "text"
      },
      "source": [
        "The ``plt.hist`` docstring has more information on other customization options available.\n",
        "I find this combination of ``histtype='stepfilled'`` along with some transparency ``alpha`` to be very useful when comparing histograms of several distributions:"
      ]
    },
    {
      "cell_type": "code",
      "metadata": {
        "id": "wVqALq7K2q-q",
        "colab_type": "code",
        "colab": {}
      },
      "source": [
        "x1 = np.random.normal(0, 0.8, 1000)\n",
        "x2 = np.random.normal(-2, 1, 1000)\n",
        "x3 = np.random.normal(3, 2, 1000)\n",
        "\n",
        "kwargs = dict(histtype='stepfilled', alpha=0.3, density=True, bins=40)\n",
        "\n",
        "plt.hist(x1, **kwargs)\n",
        "plt.hist(x2, **kwargs)\n",
        "plt.hist(x3, **kwargs);"
      ],
      "execution_count": 0,
      "outputs": []
    },
    {
      "cell_type": "markdown",
      "metadata": {
        "id": "NaW-M7Fr2q-u",
        "colab_type": "text"
      },
      "source": [
        "If you would like to simply compute the histogram (that is, count the number of points in a given bin) and not display it, the ``np.histogram()`` function is available:"
      ]
    },
    {
      "cell_type": "code",
      "metadata": {
        "id": "K6o-0b_G2q-v",
        "colab_type": "code",
        "colab": {}
      },
      "source": [
        "counts, bin_edges = np.histogram(data, bins=5)\n",
        "print(counts)"
      ],
      "execution_count": 0,
      "outputs": []
    },
    {
      "cell_type": "markdown",
      "metadata": {
        "id": "q9h432sl2q-2",
        "colab_type": "text"
      },
      "source": [
        "## Two-Dimensional Histograms and Binnings\n",
        "\n",
        "Just as we create histograms in one dimension by dividing the number-line into bins, we can also create histograms in two-dimensions by dividing points among two-dimensional bins.\n",
        "We'll take a brief look at several ways to do this here.\n",
        "We'll start by defining some data—an ``x`` and ``y`` array drawn from a multivariate Gaussian distribution:"
      ]
    },
    {
      "cell_type": "code",
      "metadata": {
        "id": "-OAS4bIm2q-4",
        "colab_type": "code",
        "colab": {}
      },
      "source": [
        "mean = [0, 0]\n",
        "cov = [[1, 1], [1, 2]]\n",
        "x, y = np.random.multivariate_normal(mean, cov, 10000).T"
      ],
      "execution_count": 0,
      "outputs": []
    },
    {
      "cell_type": "markdown",
      "metadata": {
        "id": "Es5NcXrm2q-8",
        "colab_type": "text"
      },
      "source": [
        "### ``plt.hist2d``: Two-dimensional histogram\n",
        "\n",
        "One straightforward way to plot a two-dimensional histogram is to use Matplotlib's ``plt.hist2d`` function:"
      ]
    },
    {
      "cell_type": "code",
      "metadata": {
        "id": "WY_9JBOF2q-9",
        "colab_type": "code",
        "colab": {}
      },
      "source": [
        "plt.hist2d(x, y, bins=30, cmap='Blues')\n",
        "cb = plt.colorbar()\n",
        "cb.set_label('counts in bin')"
      ],
      "execution_count": 0,
      "outputs": []
    },
    {
      "cell_type": "markdown",
      "metadata": {
        "id": "mZk8Sqo82q_B",
        "colab_type": "text"
      },
      "source": [
        "Just as with ``plt.hist``, ``plt.hist2d`` has a number of extra options to fine-tune the plot and the binning, which are nicely outlined in the function docstring.\n",
        "Further, just as ``plt.hist`` has a counterpart in ``np.histogram``, ``plt.hist2d`` has a counterpart in ``np.histogram2d``, which can be used as follows:"
      ]
    },
    {
      "cell_type": "code",
      "metadata": {
        "id": "W_vg8VWe2q_C",
        "colab_type": "code",
        "colab": {}
      },
      "source": [
        "counts, xedges, yedges = np.histogram2d(x, y, bins=30)"
      ],
      "execution_count": 0,
      "outputs": []
    },
    {
      "cell_type": "markdown",
      "metadata": {
        "id": "XpNuOQOH2q_I",
        "colab_type": "text"
      },
      "source": [
        "For the generalization of this histogram binning in dimensions higher than two, see the ``np.histogramdd`` function."
      ]
    },
    {
      "cell_type": "markdown",
      "metadata": {
        "id": "Tx0k4_EK2q_J",
        "colab_type": "text"
      },
      "source": [
        "### ``plt.hexbin``: Hexagonal binnings\n",
        "\n",
        "The two-dimensional histogram creates a tesselation of squares across the axes.\n",
        "Another natural shape for such a tesselation is the regular hexagon.\n",
        "For this purpose, Matplotlib provides the ``plt.hexbin`` routine, which will represents a two-dimensional dataset binned within a grid of hexagons:"
      ]
    },
    {
      "cell_type": "code",
      "metadata": {
        "id": "4aKCUoTZ2q_K",
        "colab_type": "code",
        "colab": {}
      },
      "source": [
        "plt.hexbin(x, y, gridsize=30, cmap='Blues')\n",
        "cb = plt.colorbar(label='count in bin')"
      ],
      "execution_count": 0,
      "outputs": []
    },
    {
      "cell_type": "markdown",
      "metadata": {
        "id": "NOfQOr6M2q_O",
        "colab_type": "text"
      },
      "source": [
        "``plt.hexbin`` has a number of interesting options, including the ability to specify weights for each point, and to change the output in each bin to any NumPy aggregate (mean of weights, standard deviation of weights, etc.)."
      ]
    },
    {
      "cell_type": "markdown",
      "metadata": {
        "id": "X_wF2FAH7TCp",
        "colab_type": "text"
      },
      "source": [
        "# Plotting 'real' data\n",
        "\n",
        "Let's use the plot_data.csv dataset found on iCollege. This dataset contains olympic medal winners."
      ]
    },
    {
      "cell_type": "markdown",
      "metadata": {
        "id": "Z1XpsRR5L_Fk",
        "colab_type": "text"
      },
      "source": [
        "Colab only code"
      ]
    },
    {
      "cell_type": "code",
      "metadata": {
        "id": "OKGiKx9QL-lO",
        "colab_type": "code",
        "colab": {}
      },
      "source": [
        "from google.colab import files\n",
        "files.upload()"
      ],
      "execution_count": 0,
      "outputs": []
    },
    {
      "cell_type": "markdown",
      "metadata": {
        "id": "QjYqdFnhMA5w",
        "colab_type": "text"
      },
      "source": [
        "Colab only code is over"
      ]
    },
    {
      "cell_type": "code",
      "metadata": {
        "id": "GdR9SiBeLg7o",
        "colab_type": "code",
        "colab": {}
      },
      "source": [
        "# Load data and check the first 5 rows\n",
        "data = pd.read_csv('plot_data.csv', skiprows=4)\n",
        "data.head(5)"
      ],
      "execution_count": 0,
      "outputs": []
    },
    {
      "cell_type": "code",
      "metadata": {
        "id": "d1G-Hrf8Mr7t",
        "colab_type": "code",
        "colab": {}
      },
      "source": [
        "#Plot all medals awarded by sport for the 2008 olympics\n",
        "filteredData = data[data.Edition == 2008]\n",
        "filteredData.Sport.value_counts().plot()"
      ],
      "execution_count": 0,
      "outputs": []
    },
    {
      "cell_type": "code",
      "metadata": {
        "id": "4oHtGOfAMx0E",
        "colab_type": "code",
        "colab": {}
      },
      "source": [
        "#Plot all medals awarded by sport for the 2008 olympics\n",
        "filteredData = data[data.Edition == 2008]\n",
        "filteredData.head()\n",
        "filteredData.Sport.value_counts().plot(kind='bar')"
      ],
      "execution_count": 0,
      "outputs": []
    },
    {
      "cell_type": "code",
      "metadata": {
        "id": "RzQ7armqM4CG",
        "colab_type": "code",
        "colab": {}
      },
      "source": [
        "filteredData.Sport.value_counts().plot(kind='barh')"
      ],
      "execution_count": 0,
      "outputs": []
    },
    {
      "cell_type": "code",
      "metadata": {
        "id": "JPisABrHM81I",
        "colab_type": "code",
        "colab": {}
      },
      "source": [
        "#Plot all medals awarded by sport for the 2008 olympics - Never on a pie chart\n",
        "filteredData = data[data.Edition == 2008]\n",
        "filteredData.head()\n",
        "filteredData.Sport.value_counts().plot(kind='pie')"
      ],
      "execution_count": 0,
      "outputs": []
    },
    {
      "cell_type": "markdown",
      "metadata": {
        "id": "vcP0vdqb28cD",
        "colab_type": "text"
      },
      "source": [
        "A lot more tricks can be found here:\n",
        "\n",
        "https://jakevdp.github.io/PythonDataScienceHandbook/04.00-introduction-to-matplotlib.html"
      ]
    },
    {
      "cell_type": "markdown",
      "metadata": {
        "id": "uiEM7GYnNAjo",
        "colab_type": "text"
      },
      "source": [
        "# Sources \n",
        "\n",
        "https://appdividend.com/2019/01/26/matplotlib-tutorial-with-example-python-jupyter-notebook-course/\n",
        "\n",
        "https://jakevdp.github.io/PythonDataScienceHandbook/\n",
        "\n",
        "As excerpt of: http://shop.oreilly.com/product/0636920034919.do\n"
      ]
    }
  ]
}