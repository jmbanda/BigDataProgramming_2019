{
  "nbformat": 4,
  "nbformat_minor": 0,
  "metadata": {
    "kernelspec": {
      "display_name": "Python 3",
      "language": "python",
      "name": "python3"
    },
    "language_info": {
      "codemirror_mode": {
        "name": "ipython",
        "version": 3
      },
      "file_extension": ".py",
      "mimetype": "text/x-python",
      "name": "python",
      "nbconvert_exporter": "python",
      "pygments_lexer": "ipython3",
      "version": "3.7.3"
    },
    "colab": {
      "name": "Class15-Python for Data Analysis - Part1.ipynb",
      "provenance": [],
      "include_colab_link": true
    }
  },
  "cells": [
    {
      "cell_type": "markdown",
      "metadata": {
        "id": "view-in-github",
        "colab_type": "text"
      },
      "source": [
        "<a href=\"https://colab.research.google.com/github/jmbanda/BigDataProgramming_2019/blob/master/Class15_Python_for_Data_Analysis_Part1.ipynb\" target=\"_parent\"><img src=\"https://colab.research.google.com/assets/colab-badge.svg\" alt=\"Open In Colab\"/></a>"
      ]
    },
    {
      "cell_type": "markdown",
      "metadata": {
        "id": "kui79K1IxbTP",
        "colab_type": "text"
      },
      "source": [
        "# Python for Data Analysis & Visualization (part 1)"
      ]
    },
    {
      "cell_type": "markdown",
      "metadata": {
        "id": "BTXTQj3yxbTQ",
        "colab_type": "text"
      },
      "source": [
        "Dataset to use:\n",
        "\n",
        "***Salaries.csv and flights.csv found on iCollege***\n",
        "\n"
      ]
    },
    {
      "cell_type": "markdown",
      "metadata": {
        "id": "rbDbhtbwzrsm",
        "colab_type": "text"
      },
      "source": [
        "Colab only code:"
      ]
    },
    {
      "cell_type": "code",
      "metadata": {
        "id": "LmLs3OLFztMg",
        "colab_type": "code",
        "colab": {}
      },
      "source": [
        "from google.colab import files\n",
        "files.upload()"
      ],
      "execution_count": 0,
      "outputs": []
    },
    {
      "cell_type": "markdown",
      "metadata": {
        "id": "dVWwEfSiztbQ",
        "colab_type": "text"
      },
      "source": [
        "End of colab only code"
      ]
    },
    {
      "cell_type": "code",
      "metadata": {
        "id": "6SZRLELqxbTR",
        "colab_type": "code",
        "colab": {}
      },
      "source": [
        "#Import Python Libraries\n",
        "import numpy as np\n",
        "import scipy as sp\n",
        "import pandas as pd\n",
        "import matplotlib.pyplot as plt"
      ],
      "execution_count": 0,
      "outputs": []
    },
    {
      "cell_type": "markdown",
      "metadata": {
        "id": "IbUcrq5gxbTT",
        "colab_type": "text"
      },
      "source": [
        "Pandas is a python package that deals mostly with :\n",
        "- **Series**  (1d homogeneous array)\n",
        "- **DataFrame** (2d labeled heterogeneous array) \n",
        "- **Panel** (general 3d array)"
      ]
    },
    {
      "cell_type": "markdown",
      "metadata": {
        "id": "FW79UOb-xbTT",
        "colab_type": "text"
      },
      "source": [
        "### Pandas Series"
      ]
    },
    {
      "cell_type": "markdown",
      "metadata": {
        "id": "BLw9_ZJLxbTU",
        "colab_type": "text"
      },
      "source": [
        "Pandas *Series* is one-dimentional labeled array containing data of the same type (integers, strings, floating point numbers, Python objects, etc. ). The axis labels are often referred to as *index*."
      ]
    },
    {
      "cell_type": "code",
      "metadata": {
        "id": "K-BHk3wlxbTU",
        "colab_type": "code",
        "colab": {}
      },
      "source": [
        "# Example of creating Pandas series :\n",
        "s1 = pd.Series( np.random.randn(5) )\n",
        "print(s1)"
      ],
      "execution_count": 0,
      "outputs": []
    },
    {
      "cell_type": "markdown",
      "metadata": {
        "id": "qBg3vxYcxbTW",
        "colab_type": "text"
      },
      "source": [
        "We did not pass any index, so by default, it assigned the indexes ranging from 0 to len(data)-1"
      ]
    },
    {
      "cell_type": "code",
      "metadata": {
        "id": "X-tKIh6nxbTX",
        "colab_type": "code",
        "colab": {}
      },
      "source": [
        "# View index values\n",
        "print(s1.index)"
      ],
      "execution_count": 0,
      "outputs": []
    },
    {
      "cell_type": "code",
      "metadata": {
        "id": "2R0a43khxbTY",
        "colab_type": "code",
        "colab": {}
      },
      "source": [
        "# Creating Pandas series with index:\n",
        "s2 = pd.Series( np.random.randn(5), index=['a', 'b', 'c', 'd', 'e'] )\n",
        "print(s2)"
      ],
      "execution_count": 0,
      "outputs": []
    },
    {
      "cell_type": "code",
      "metadata": {
        "id": "-an4iK_ixbTa",
        "colab_type": "code",
        "colab": {}
      },
      "source": [
        "# View index values\n",
        "print(s2.index)"
      ],
      "execution_count": 0,
      "outputs": []
    },
    {
      "cell_type": "code",
      "metadata": {
        "id": "JGlmO8mqxbTb",
        "colab_type": "code",
        "colab": {}
      },
      "source": [
        "# Create a Series from dictionary\n",
        "data = {'pi': 3.1415, 'e': 2.71828}  # dictionary\n",
        "print(data)\n",
        "s3 = pd.Series ( data )\n",
        "print(s3)"
      ],
      "execution_count": 0,
      "outputs": []
    },
    {
      "cell_type": "code",
      "metadata": {
        "id": "Trmvz5zbxbTc",
        "colab_type": "code",
        "colab": {}
      },
      "source": [
        "# reordering the elements\n",
        "s4 = pd.Series ( data, index = ['e', 'pi', 'tau'])\n",
        "print(s4)"
      ],
      "execution_count": 0,
      "outputs": []
    },
    {
      "cell_type": "markdown",
      "metadata": {
        "id": "Cg4ly4DNxbTe",
        "colab_type": "text"
      },
      "source": [
        "NAN (non a number) - is used to specify a missing value in Pandas."
      ]
    },
    {
      "cell_type": "code",
      "metadata": {
        "id": "fFr8D3SkxbTf",
        "colab_type": "code",
        "colab": {}
      },
      "source": [
        "# Creating a Pandas Series object from a single number:\n",
        "s5 = pd.Series( 1, index = range(10), name='Ones')\n",
        "print(s5)"
      ],
      "execution_count": 0,
      "outputs": []
    },
    {
      "cell_type": "code",
      "metadata": {
        "id": "6Ryvh_lVxbTg",
        "colab_type": "code",
        "colab": {}
      },
      "source": [
        "s1"
      ],
      "execution_count": 0,
      "outputs": []
    },
    {
      "cell_type": "code",
      "metadata": {
        "id": "deMS0tZIxbTh",
        "colab_type": "code",
        "colab": {}
      },
      "source": [
        "# Many ways to \"slice\" Pandas series (series have zero-based index by default):\n",
        "print(s1)\n",
        "s1[3]  # returns 4th element"
      ],
      "execution_count": 0,
      "outputs": []
    },
    {
      "cell_type": "code",
      "metadata": {
        "id": "XQLkEe6MxbTj",
        "colab_type": "code",
        "colab": {}
      },
      "source": [
        "s1[:2] # First 2 elements\n"
      ],
      "execution_count": 0,
      "outputs": []
    },
    {
      "cell_type": "code",
      "metadata": {
        "id": "PfQjT5-DxbTk",
        "colab_type": "code",
        "colab": {}
      },
      "source": [
        "print( s1[ [2,1,0]])  # Elements out of order"
      ],
      "execution_count": 0,
      "outputs": []
    },
    {
      "cell_type": "code",
      "metadata": {
        "id": "eEbdNUvQxbTm",
        "colab_type": "code",
        "colab": {}
      },
      "source": [
        "#Slicing series using index label (access series like a dictionary)\n",
        "\n",
        "s4['pi']"
      ],
      "execution_count": 0,
      "outputs": []
    },
    {
      "cell_type": "code",
      "metadata": {
        "id": "bE11oq7mxbTn",
        "colab_type": "code",
        "colab": {}
      },
      "source": [
        "dir(s4)"
      ],
      "execution_count": 0,
      "outputs": []
    },
    {
      "cell_type": "code",
      "metadata": {
        "id": "yTPfJbQ7xbTp",
        "colab_type": "code",
        "colab": {}
      },
      "source": [
        "# Series can be used as ndarray:\n",
        "print(\"Median:\" , s4.median())"
      ],
      "execution_count": 0,
      "outputs": []
    },
    {
      "cell_type": "code",
      "metadata": {
        "id": "w-2CH4GKxbTq",
        "colab_type": "code",
        "colab": {}
      },
      "source": [
        "s1[s1 > 0]"
      ],
      "execution_count": 0,
      "outputs": []
    },
    {
      "cell_type": "code",
      "metadata": {
        "id": "-OnD2ojUxbTs",
        "colab_type": "code",
        "colab": {}
      },
      "source": [
        "# numpy functions can be used on series as usual:\n",
        "s4[s4 > s4.median()]"
      ],
      "execution_count": 0,
      "outputs": []
    },
    {
      "cell_type": "code",
      "metadata": {
        "id": "ZTvSVvTdxbTt",
        "colab_type": "code",
        "colab": {}
      },
      "source": [
        "# vector operations:\n",
        "np.exp(s1)"
      ],
      "execution_count": 0,
      "outputs": []
    },
    {
      "cell_type": "code",
      "metadata": {
        "id": "0-KgurRCxbTv",
        "colab_type": "code",
        "colab": {}
      },
      "source": [
        "# Unlike ndarray Series automatically allign the data based on label:\n",
        "s5 = pd.Series (range(6))\n",
        "print(s5)\n",
        "s5[1:] + s5[:-1]"
      ],
      "execution_count": 0,
      "outputs": []
    },
    {
      "cell_type": "markdown",
      "metadata": {
        "id": "9mHjmPkbxbTy",
        "colab_type": "text"
      },
      "source": [
        "#### Popular Attributes and Methods:\n",
        "\n",
        "|  Attribute/Method | Description |\n",
        "|-----|-----|\n",
        "| dtype | data type of values in series |\n",
        "| empty | True if series is empty |\n",
        "| size | number of elements |\n",
        "| values | Returns values as ndarray |\n",
        "| head() | First n elements |\n",
        "| tail() | Last n elements |"
      ]
    },
    {
      "cell_type": "markdown",
      "metadata": {
        "id": "Uf2tLltgxbTy",
        "colab_type": "text"
      },
      "source": [
        "*Complete exercise 1 in In Class Assignment notebook*"
      ]
    },
    {
      "cell_type": "markdown",
      "metadata": {
        "id": "QP5pZ2oOxbT3",
        "colab_type": "text"
      },
      "source": [
        "### Pandas DataFrame"
      ]
    },
    {
      "cell_type": "markdown",
      "metadata": {
        "id": "RIW7JUp3xbT3",
        "colab_type": "text"
      },
      "source": [
        "Pandas *DataFrame* is two-dimensional, size-mutable, heterogeneous tabular data structure with labeled rows and columns ( axes ). Can be thought of a dictionary-like container to store python Series objects."
      ]
    },
    {
      "cell_type": "code",
      "metadata": {
        "id": "DaUDliSBxbT4",
        "colab_type": "code",
        "colab": {}
      },
      "source": [
        "d =  pd.DataFrame({ 'Name': pd.Series(['Alice','Bob','Chris']), \n",
        "                  'Age': pd.Series([ 21,25,23]) } )\n",
        "print(d)"
      ],
      "execution_count": 0,
      "outputs": []
    },
    {
      "cell_type": "code",
      "metadata": {
        "id": "B_rPqPA-xbT5",
        "colab_type": "code",
        "colab": {}
      },
      "source": [
        "#Add a new column:\n",
        "d['height'] = pd.Series([5.2,6.0,5.6])\n",
        "d"
      ],
      "execution_count": 0,
      "outputs": []
    },
    {
      "cell_type": "code",
      "metadata": {
        "id": "5LAkQo-bxbT6",
        "colab_type": "code",
        "colab": {}
      },
      "source": [
        "#Read csv file\n",
        "df = pd.read_csv(\"Salaries.csv\")"
      ],
      "execution_count": 0,
      "outputs": []
    },
    {
      "cell_type": "code",
      "metadata": {
        "id": "-8KRNitxxbT7",
        "colab_type": "code",
        "colab": {}
      },
      "source": [
        "#Display a few first records\n",
        "df.head(5)"
      ],
      "execution_count": 0,
      "outputs": []
    },
    {
      "cell_type": "markdown",
      "metadata": {
        "id": "8YJd09TdxbT8",
        "colab_type": "text"
      },
      "source": [
        "---\n",
        "*Exercise* "
      ]
    },
    {
      "cell_type": "markdown",
      "metadata": {
        "colab_type": "text",
        "id": "wNAPIyrP2pXs"
      },
      "source": [
        "*Complete exercise 2 in In Class Assignment notebook*"
      ]
    },
    {
      "cell_type": "markdown",
      "metadata": {
        "id": "byiG1WEUxbUC",
        "colab_type": "text"
      },
      "source": [
        "---"
      ]
    },
    {
      "cell_type": "code",
      "metadata": {
        "id": "-LiD3UuMxbUC",
        "colab_type": "code",
        "colab": {}
      },
      "source": [
        "#Identify the type of df object\n",
        "type(df)"
      ],
      "execution_count": 0,
      "outputs": []
    },
    {
      "cell_type": "code",
      "metadata": {
        "id": "JxCJdvoPxbUD",
        "colab_type": "code",
        "colab": {}
      },
      "source": [
        "#Check the type of a column \"salary\"\n",
        "df['salary'].dtype"
      ],
      "execution_count": 0,
      "outputs": []
    },
    {
      "cell_type": "code",
      "metadata": {
        "id": "JFINPJZ2xbUF",
        "colab_type": "code",
        "colab": {}
      },
      "source": [
        "#List the types of all columns\n",
        "df.dtypes"
      ],
      "execution_count": 0,
      "outputs": []
    },
    {
      "cell_type": "code",
      "metadata": {
        "id": "pZ2HIouFxbUG",
        "colab_type": "code",
        "colab": {}
      },
      "source": [
        "#List the column names\n",
        "df.columns"
      ],
      "execution_count": 0,
      "outputs": []
    },
    {
      "cell_type": "code",
      "metadata": {
        "id": "Nsu0_4GuxbUI",
        "colab_type": "code",
        "colab": {}
      },
      "source": [
        "#List the row labels and the column names\n",
        "df.axes"
      ],
      "execution_count": 0,
      "outputs": []
    },
    {
      "cell_type": "code",
      "metadata": {
        "id": "pddF2LTOxbUK",
        "colab_type": "code",
        "colab": {}
      },
      "source": [
        "#Number of dimensions\n",
        "df.ndim"
      ],
      "execution_count": 0,
      "outputs": []
    },
    {
      "cell_type": "code",
      "metadata": {
        "id": "QSA3StjcxbUL",
        "colab_type": "code",
        "colab": {}
      },
      "source": [
        "#Total number of elements in the Data Frame\n",
        "df.size"
      ],
      "execution_count": 0,
      "outputs": []
    },
    {
      "cell_type": "code",
      "metadata": {
        "id": "l1Dtab4WxbUM",
        "colab_type": "code",
        "colab": {}
      },
      "source": [
        "#Number of rows and columns\n",
        "df.shape"
      ],
      "execution_count": 0,
      "outputs": []
    },
    {
      "cell_type": "code",
      "metadata": {
        "id": "BWllCs6gxbUN",
        "colab_type": "code",
        "colab": {}
      },
      "source": [
        "#Output basic statistics for the numeric columns\n",
        "df.describe()"
      ],
      "execution_count": 0,
      "outputs": []
    },
    {
      "cell_type": "code",
      "metadata": {
        "id": "aT-Or2YsxbUO",
        "colab_type": "code",
        "colab": {}
      },
      "source": [
        "#Calculate mean for all numeric columns\n",
        "df.mean()"
      ],
      "execution_count": 0,
      "outputs": []
    },
    {
      "cell_type": "markdown",
      "metadata": {
        "colab_type": "text",
        "id": "mkVZst743VF5"
      },
      "source": [
        "---\n",
        "*Complete exercise 3 in In Class Assignment notebook*"
      ]
    },
    {
      "cell_type": "markdown",
      "metadata": {
        "collapsed": true,
        "id": "F6uBLUzaxbUU",
        "colab_type": "text"
      },
      "source": [
        "---\n",
        "### Data slicing and grouping"
      ]
    },
    {
      "cell_type": "code",
      "metadata": {
        "id": "VkawmCYCxbUV",
        "colab_type": "code",
        "colab": {}
      },
      "source": [
        "#Extract a column by name (method 1)\n",
        "df['sex'].head()"
      ],
      "execution_count": 0,
      "outputs": []
    },
    {
      "cell_type": "markdown",
      "metadata": {
        "id": "quN6y-XrxbUb",
        "colab_type": "text"
      },
      "source": [
        "---"
      ]
    },
    {
      "cell_type": "code",
      "metadata": {
        "id": "Nb1wpJCpxbUb",
        "colab_type": "code",
        "colab": {}
      },
      "source": [
        "#Group data using rank\n",
        "df_rank = df.groupby('rank')"
      ],
      "execution_count": 0,
      "outputs": []
    },
    {
      "cell_type": "code",
      "metadata": {
        "id": "fjdAdOdpxbUd",
        "colab_type": "code",
        "colab": {}
      },
      "source": [
        "#Calculate mean of all numeric columns for the grouped object\n",
        "df_rank.mean()"
      ],
      "execution_count": 0,
      "outputs": []
    },
    {
      "cell_type": "code",
      "metadata": {
        "id": "yUvHa0SSxbUe",
        "colab_type": "code",
        "colab": {}
      },
      "source": [
        "df.groupby('sex').mean()"
      ],
      "execution_count": 0,
      "outputs": []
    },
    {
      "cell_type": "code",
      "metadata": {
        "id": "VePOKY5xxbUf",
        "colab_type": "code",
        "colab": {}
      },
      "source": [
        "#Calculate the mean salary for men and women. The following produce Pandas Series (single brackets around salary)\n",
        "df.groupby('sex')['salary'].mean()"
      ],
      "execution_count": 0,
      "outputs": []
    },
    {
      "cell_type": "code",
      "metadata": {
        "id": "i-Hzf0S1xbUg",
        "colab_type": "code",
        "colab": {}
      },
      "source": [
        "# If we use double brackets Pandas will produce a DataFrame\n",
        "df.groupby('sex')[['salary']].mean()"
      ],
      "execution_count": 0,
      "outputs": []
    },
    {
      "cell_type": "code",
      "metadata": {
        "id": "H047WAX0xbUh",
        "colab_type": "code",
        "colab": {}
      },
      "source": [
        "# Group using 2 variables - sex and rank:\n",
        "df.groupby(['rank','sex'], sort=True)[['salary']].mean()"
      ],
      "execution_count": 0,
      "outputs": []
    },
    {
      "cell_type": "markdown",
      "metadata": {
        "id": "BZQ4r5WBxbUX",
        "colab_type": "text"
      },
      "source": [
        "---\n",
        "*Complete exercise 4 in In Class Assignment notebook*\n"
      ]
    },
    {
      "cell_type": "markdown",
      "metadata": {
        "id": "Lq-Gpd0QxbUj",
        "colab_type": "text"
      },
      "source": [
        "---\n",
        "### Filtering"
      ]
    },
    {
      "cell_type": "code",
      "metadata": {
        "id": "02Q7btHpxbUk",
        "colab_type": "code",
        "colab": {}
      },
      "source": [
        "#Select observation with the value in the salary column > 120K\n",
        "df_sub = df[ df['salary'] > 120000]\n",
        "df_sub.head()"
      ],
      "execution_count": 0,
      "outputs": []
    },
    {
      "cell_type": "code",
      "metadata": {
        "id": "9ZHqHY9XxbUl",
        "colab_type": "code",
        "colab": {}
      },
      "source": [
        "df_sub.axes"
      ],
      "execution_count": 0,
      "outputs": []
    },
    {
      "cell_type": "code",
      "metadata": {
        "id": "uWRS8oVCxbUn",
        "colab_type": "code",
        "colab": {}
      },
      "source": [
        "#Select data for female professors\n",
        "df_w = df[ df['sex'] == 'Female']\n",
        "df_w.head()"
      ],
      "execution_count": 0,
      "outputs": []
    },
    {
      "cell_type": "code",
      "metadata": {
        "id": "xInas0iTxbUo",
        "colab_type": "code",
        "colab": {}
      },
      "source": [
        "# Using filtering, find the mean value of the salary for the discipline A\n",
        "df[ df['discipline'] =='A'].mean().round(2)\n"
      ],
      "execution_count": 0,
      "outputs": []
    },
    {
      "cell_type": "markdown",
      "metadata": {
        "id": "UqQSmmqqxbUr",
        "colab_type": "text"
      },
      "source": [
        "---\n",
        "### More on slicing the dataset"
      ]
    },
    {
      "cell_type": "code",
      "metadata": {
        "scrolled": true,
        "id": "TYUq_cTMxbUr",
        "colab_type": "code",
        "colab": {}
      },
      "source": [
        "#Select column salary\n",
        "df1 = df['salary']"
      ],
      "execution_count": 0,
      "outputs": []
    },
    {
      "cell_type": "code",
      "metadata": {
        "id": "3U8RI0zLxbUs",
        "colab_type": "code",
        "colab": {}
      },
      "source": [
        "#Check data type of the result\n",
        "type(df1)"
      ],
      "execution_count": 0,
      "outputs": []
    },
    {
      "cell_type": "code",
      "metadata": {
        "id": "hd8CgWgJxbUt",
        "colab_type": "code",
        "colab": {}
      },
      "source": [
        "#Look at the first few elements of the output\n",
        "df1.head()"
      ],
      "execution_count": 0,
      "outputs": []
    },
    {
      "cell_type": "code",
      "metadata": {
        "id": "JSd906d3xbUu",
        "colab_type": "code",
        "colab": {}
      },
      "source": [
        "#Select column salary and make the output to be a data frame\n",
        "df2 = df[['salary']]"
      ],
      "execution_count": 0,
      "outputs": []
    },
    {
      "cell_type": "code",
      "metadata": {
        "id": "qaKPHJMRxbUx",
        "colab_type": "code",
        "colab": {}
      },
      "source": [
        "#Check the type\n",
        "type(df2)"
      ],
      "execution_count": 0,
      "outputs": []
    },
    {
      "cell_type": "code",
      "metadata": {
        "id": "TA4YFhT8xbUy",
        "colab_type": "code",
        "colab": {}
      },
      "source": [
        "#Select a subset of rows (based on their position):\n",
        "# Note 1: The location of the first row is 0\n",
        "# Note 2: The last value in the range is not included\n",
        "df[0:10]"
      ],
      "execution_count": 0,
      "outputs": []
    },
    {
      "cell_type": "code",
      "metadata": {
        "id": "I3cM4swMxbUz",
        "colab_type": "code",
        "colab": {}
      },
      "source": [
        "#If we want to select both rows and columns we can use method .loc\n",
        "df.loc[10:20,['rank', 'sex','salary']]"
      ],
      "execution_count": 0,
      "outputs": []
    },
    {
      "cell_type": "code",
      "metadata": {
        "id": "Samrv1LTxbU0",
        "colab_type": "code",
        "colab": {}
      },
      "source": [
        "df_sub.head(15)"
      ],
      "execution_count": 0,
      "outputs": []
    },
    {
      "cell_type": "code",
      "metadata": {
        "id": "jM6xreFGxbU2",
        "colab_type": "code",
        "colab": {}
      },
      "source": [
        "#Let's see what we get for our df_sub data frame\n",
        "# Method .loc subset the data frame based on the labels:\n",
        "df_sub.loc[10:20,['rank','sex','salary']]"
      ],
      "execution_count": 0,
      "outputs": []
    },
    {
      "cell_type": "code",
      "metadata": {
        "id": "iPhppsILxbU3",
        "colab_type": "code",
        "colab": {}
      },
      "source": [
        "#  Unlike method .loc, method iloc selects rows (and columns) by poistion:\n",
        "df_sub.iloc[10:20, [0,3,4,5]]"
      ],
      "execution_count": 0,
      "outputs": []
    },
    {
      "cell_type": "markdown",
      "metadata": {
        "id": "z1AGFusCxbU4",
        "colab_type": "text"
      },
      "source": [
        "### Sorting the Data"
      ]
    },
    {
      "cell_type": "code",
      "metadata": {
        "id": "fOM_HUyCxbU4",
        "colab_type": "code",
        "colab": {}
      },
      "source": [
        "#Sort the data frame by yrs.service and create a new data frame\n",
        "df_sorted = df.sort_values(by = 'service')\n",
        "df_sorted.head()"
      ],
      "execution_count": 0,
      "outputs": []
    },
    {
      "cell_type": "code",
      "metadata": {
        "id": "1vfWZq5XxbU6",
        "colab_type": "code",
        "colab": {}
      },
      "source": [
        "#Sort the data frame by yrs.service and overwrite the original dataset\n",
        "df.sort_values(by = 'service', ascending = False, inplace = True)\n",
        "df.head()"
      ],
      "execution_count": 0,
      "outputs": []
    },
    {
      "cell_type": "code",
      "metadata": {
        "id": "UyLxsZl5xbU7",
        "colab_type": "code",
        "colab": {}
      },
      "source": [
        "# Restore the original order (by sorting using index)\n",
        "df.sort_index(axis=0, ascending = True, inplace = True)\n",
        "df.head()"
      ],
      "execution_count": 0,
      "outputs": []
    },
    {
      "cell_type": "code",
      "metadata": {
        "id": "8onUWtVzxbU9",
        "colab_type": "code",
        "colab": {}
      },
      "source": [
        "#Sort the data frame using 2 or more columns:\n",
        "df_sorted = df.sort_values(by = ['service', 'salary'], ascending = [True,False])\n",
        "df_sorted.head(10)"
      ],
      "execution_count": 0,
      "outputs": []
    },
    {
      "cell_type": "markdown",
      "metadata": {
        "id": "vi-q3W6LxbU_",
        "colab_type": "text"
      },
      "source": [
        "### Missing Values - using the flights dataset"
      ]
    },
    {
      "cell_type": "code",
      "metadata": {
        "id": "PUiYI4j1xbU_",
        "colab_type": "code",
        "colab": {}
      },
      "source": [
        "# Read a dataset with missing values\n",
        "flights = pd.read_csv(\"flights.csv\")\n",
        "flights.head()"
      ],
      "execution_count": 0,
      "outputs": []
    },
    {
      "cell_type": "code",
      "metadata": {
        "scrolled": true,
        "id": "Zb5MbRY7xbVA",
        "colab_type": "code",
        "colab": {}
      },
      "source": [
        "# Select the rows that have at least one missing value\n",
        "flights[flights.isnull().any(axis=1)].head()"
      ],
      "execution_count": 0,
      "outputs": []
    },
    {
      "cell_type": "code",
      "metadata": {
        "id": "W8zo4V00xbVC",
        "colab_type": "code",
        "colab": {}
      },
      "source": [
        "# Filter all the rows where arr_delay value is not missing:\n",
        "flights1 = flights[ flights['arr_delay'].notnull( )]\n",
        "flights1.head()"
      ],
      "execution_count": 0,
      "outputs": []
    },
    {
      "cell_type": "code",
      "metadata": {
        "id": "ORfn7sixxbVD",
        "colab_type": "code",
        "colab": {}
      },
      "source": [
        "# Remove all the observations with missing values\n",
        "flights2 = flights.dropna()"
      ],
      "execution_count": 0,
      "outputs": []
    },
    {
      "cell_type": "code",
      "metadata": {
        "id": "uhfSQMewxbVD",
        "colab_type": "code",
        "colab": {}
      },
      "source": [
        "# Fill missing values with zeros\n",
        "nomiss =flights['dep_delay'].fillna(0)\n",
        "nomiss.isnull().any()"
      ],
      "execution_count": 0,
      "outputs": []
    },
    {
      "cell_type": "markdown",
      "metadata": {
        "id": "idnpyvCsxbUo",
        "colab_type": "text"
      },
      "source": [
        "---\n",
        "*Complete exercise 5 in In Class Assignment notebook*\n"
      ]
    },
    {
      "cell_type": "markdown",
      "metadata": {
        "id": "YVjIJM-qxbVF",
        "colab_type": "text"
      },
      "source": [
        "---\n",
        "### Common Aggregation Functions:\n",
        "\n",
        "|Function|Description\n",
        "|-------|--------\n",
        "|min   | minimum\n",
        "|max   | maximum\n",
        "|count   | number of non-null observations\n",
        "|sum   | sum of values\n",
        "|mean  | arithmetic mean of values\n",
        "|median | median\n",
        "|mad | mean absolute deviation\n",
        "|mode | mode\n",
        "|prod   | product of values\n",
        "|std  | standard deviation\n",
        "|var | unbiased variance\n",
        "\n"
      ]
    },
    {
      "cell_type": "code",
      "metadata": {
        "id": "WhYnp2oaxbVF",
        "colab_type": "code",
        "colab": {}
      },
      "source": [
        "# Find the number of non-missing values in each column\n",
        "flights.describe()"
      ],
      "execution_count": 0,
      "outputs": []
    },
    {
      "cell_type": "code",
      "metadata": {
        "id": "z0AjhNxExbVH",
        "colab_type": "code",
        "colab": {}
      },
      "source": [
        "# Find mean value for all the columns in the dataset\n",
        "flights.min()"
      ],
      "execution_count": 0,
      "outputs": []
    },
    {
      "cell_type": "code",
      "metadata": {
        "id": "jN9VwaJpxbVH",
        "colab_type": "code",
        "colab": {}
      },
      "source": [
        "# Let's compute summary statistic per a group':\n",
        "flights.groupby('carrier')['dep_delay'].mean()"
      ],
      "execution_count": 0,
      "outputs": []
    },
    {
      "cell_type": "code",
      "metadata": {
        "id": "xy-MiDLxxbVJ",
        "colab_type": "code",
        "colab": {}
      },
      "source": [
        "# We can use agg() methods for aggregation:\n",
        "flights[['dep_delay','arr_delay']].agg(['min','mean','max'])"
      ],
      "execution_count": 0,
      "outputs": []
    },
    {
      "cell_type": "code",
      "metadata": {
        "id": "c1lNlJTYxbVK",
        "colab_type": "code",
        "colab": {}
      },
      "source": [
        "# An example of computing different statistics for different columns\n",
        "flights.agg({'dep_delay':['min','mean',max], 'carrier':['nunique']})"
      ],
      "execution_count": 0,
      "outputs": []
    },
    {
      "cell_type": "markdown",
      "metadata": {
        "id": "-nHp3dihxbVQ",
        "colab_type": "text"
      },
      "source": [
        "### Basic descriptive statistics"
      ]
    },
    {
      "cell_type": "markdown",
      "metadata": {
        "id": "BjTm0zbvxbVQ",
        "colab_type": "text"
      },
      "source": [
        "|Function|Description\n",
        "|-------|--------\n",
        "|min   | minimum\n",
        "|max   | maximum\n",
        "|mean  | arithmetic mean of values\n",
        "|median | median\n",
        "|mad | mean absolute deviation\n",
        "|mode | mode\n",
        "|std  | standard deviation\n",
        "|var | unbiased variance\n",
        "|sem | standard error of the mean\n",
        "|skew| sample skewness\n",
        "|kurt|kurtosis\n",
        "|quantile| value at %\n"
      ]
    },
    {
      "cell_type": "code",
      "metadata": {
        "id": "9-E5k7UQxbVQ",
        "colab_type": "code",
        "colab": {}
      },
      "source": [
        "# Convinient describe() function computes a veriety of statistics\n",
        "flights.dep_delay.describe()"
      ],
      "execution_count": 0,
      "outputs": []
    },
    {
      "cell_type": "code",
      "metadata": {
        "id": "ETqWBoLHxbVS",
        "colab_type": "code",
        "colab": {}
      },
      "source": [
        "# find the index of the maximum or minimum value\n",
        "# if there are multiple values matching idxmin() and idxmax() will return the first match\n",
        "flights['dep_delay'].idxmin()  #minimum value"
      ],
      "execution_count": 0,
      "outputs": []
    },
    {
      "cell_type": "code",
      "metadata": {
        "id": "8i0RJfEsxbVT",
        "colab_type": "code",
        "colab": {}
      },
      "source": [
        "# Count the number of records for each different value in a vector\n",
        "flights['carrier'].value_counts()"
      ],
      "execution_count": 0,
      "outputs": []
    },
    {
      "cell_type": "markdown",
      "metadata": {
        "id": "0QN8G-Fq7EjN",
        "colab_type": "text"
      },
      "source": [
        "# Method chaining\n",
        "\n",
        "Method chaining with DataFrame is an act of chaining multiple methods that return a DataFrame and therefore are methods from DataFrame class. In the current version of Pandas, the reason to use method chaining is to not store intermediate variables and to avoid the following situation:"
      ]
    },
    {
      "cell_type": "code",
      "metadata": {
        "id": "3X6V92QQ7Ovi",
        "colab_type": "code",
        "colab": {}
      },
      "source": [
        "dfmc = pd.DataFrame({'a_column': [1, -999, -999],\n",
        "                    'powerless_column': [2, 3, 4],\n",
        "                    'int_column': [1, 1, -1]})\n",
        "dfmc['a_column'] = dfmc['a_column'].replace(-999, np.nan)\n",
        "dfmc['power_column'] = dfmc['powerless_column'] ** 2\n",
        "dfmc['real_column'] = dfmc['int_column'].astype(np.float64)\n",
        "dfmc = dfmc.apply(lambda _df: _df.replace(4, np.nan))\n",
        "dfmc = dfmc.dropna(how='all')"
      ],
      "execution_count": 0,
      "outputs": []
    },
    {
      "cell_type": "markdown",
      "metadata": {
        "id": "fF8tgH4-7b-u",
        "colab_type": "text"
      },
      "source": [
        "Using chaining:"
      ]
    },
    {
      "cell_type": "code",
      "metadata": {
        "id": "wJmUzMaj7d6Y",
        "colab_type": "code",
        "colab": {}
      },
      "source": [
        "df2 = (pd.DataFrame({'a_column': [1, -999, -999],\n",
        "                    'powerless_column': [2, 3, 4],\n",
        "                    'int_column': [1, 1, -1]})\n",
        "        .assign(a_column=lambda _df: _df['a_column'].replace(-999, np.nan),\n",
        "                power_column=lambda _df: _df['powerless_column'] ** 2,\n",
        "                real_column=lambda _df: _df['int_column'].astype(np.float64))\n",
        "        .apply(lambda _df: _df.replace(4, np.nan))\n",
        "        .dropna(how='all')\n",
        "      )"
      ],
      "execution_count": 0,
      "outputs": []
    },
    {
      "cell_type": "markdown",
      "metadata": {
        "id": "sx_I0EJ-7iXU",
        "colab_type": "text"
      },
      "source": [
        "**A lot nicer right?**\n",
        "\n",
        "![alt text](https://miro.medium.com/max/500/1*RKYXAT6UWwb4y0X2LBXPSA.jpeg)"
      ]
    },
    {
      "cell_type": "markdown",
      "metadata": {
        "id": "QRGHv4pIxbVk",
        "colab_type": "text"
      },
      "source": [
        "---\n",
        "## Basic statistical Analysis"
      ]
    },
    {
      "cell_type": "markdown",
      "metadata": {
        "id": "HIkBGDy9xbVk",
        "colab_type": "text"
      },
      "source": [
        "### Linear Regression"
      ]
    },
    {
      "cell_type": "code",
      "metadata": {
        "id": "h_GyKqS4xbVk",
        "colab_type": "code",
        "colab": {}
      },
      "source": [
        "# Import Statsmodel functions:\n",
        "import statsmodels.formula.api as smf"
      ],
      "execution_count": 0,
      "outputs": []
    },
    {
      "cell_type": "code",
      "metadata": {
        "id": "LRCJKisuxbVk",
        "colab_type": "code",
        "colab": {}
      },
      "source": [
        "# create a fitted model\n",
        "lm = smf.ols(formula='salary ~ service', data=df).fit()\n",
        "\n",
        "#print model summary\n",
        "print(lm.summary())"
      ],
      "execution_count": 0,
      "outputs": []
    },
    {
      "cell_type": "code",
      "metadata": {
        "id": "FMlKpcOUxbVl",
        "colab_type": "code",
        "colab": {}
      },
      "source": [
        "# print the coefficients\n",
        "lm.params"
      ],
      "execution_count": 0,
      "outputs": []
    },
    {
      "cell_type": "code",
      "metadata": {
        "id": "pi9CFy_xxbVl",
        "colab_type": "code",
        "colab": {}
      },
      "source": [
        "#using scikit-learn:\n",
        "from sklearn import linear_model\n",
        "est = linear_model.LinearRegression(fit_intercept = True)   # create estimator object\n",
        "est.fit(df[['service']], df[['salary']])\n",
        "\n",
        "#print result\n",
        "print(\"Coef:\", est.coef_, \"\\nIntercept:\", est.intercept_)\n"
      ],
      "execution_count": 0,
      "outputs": []
    },
    {
      "cell_type": "markdown",
      "metadata": {
        "id": "qKLFsZZ3xbVo",
        "colab_type": "text"
      },
      "source": [
        "---\n",
        "Example 2 "
      ]
    },
    {
      "cell_type": "code",
      "metadata": {
        "id": "tVXCE3YXxbVo",
        "colab_type": "code",
        "colab": {}
      },
      "source": [
        "# Build a linear model for arr_delay ~ dep_delay\n",
        "\n",
        "\n",
        "#print model summary\n"
      ],
      "execution_count": 0,
      "outputs": []
    },
    {
      "cell_type": "markdown",
      "metadata": {
        "collapsed": true,
        "id": "eTfg09c4xbVp",
        "colab_type": "text"
      },
      "source": [
        "---\n",
        "### Student T-test\n",
        "\n",
        "The t test tells you how significant the differences between groups are; In other words it lets you know if those differences (measured in means/averages) could have happened by chance."
      ]
    },
    {
      "cell_type": "code",
      "metadata": {
        "id": "UOrIjFSLxbVp",
        "colab_type": "code",
        "outputId": "c50a063b-0940-41e4-a561-84675ad81640",
        "colab": {
          "base_uri": "https://localhost:8080/",
          "height": 34
        }
      },
      "source": [
        "# Using scipy package:\n",
        "from scipy import stats\n",
        "df_w = df[ df['sex'] == 'Female']['salary']\n",
        "df_m = df[ df['sex'] == 'Male']['salary']\n",
        "stats.ttest_ind(df_w, df_m)   "
      ],
      "execution_count": 0,
      "outputs": [
        {
          "output_type": "execute_result",
          "data": {
            "text/plain": [
              "Ttest_indResult(statistic=-2.2486865976699053, pvalue=0.027429778657910103)"
            ]
          },
          "metadata": {
            "tags": []
          },
          "execution_count": 39
        }
      ]
    },
    {
      "cell_type": "markdown",
      "metadata": {
        "id": "59NaivmmJb62",
        "colab_type": "text"
      },
      "source": [
        "The t score is a ratio between the difference between two groups and the difference within the groups. The larger the t score, the more difference there is between groups. The smaller the t score, the more similarity there is between groups. A t score of 3 means that the groups are three times as different from each other as they are within each other. When you run a t test, the bigger the t-value, the more likely it is that the results are repeatable.\n",
        "\n",
        "A large t-score tells you that the groups are different.\n",
        "\n",
        "A small t-score tells you that the groups are similar.\n",
        "\n",
        "How big is “big enough”? Every t-value has a p-value to go with it. A p-value is the probability that the results from your sample data occurred by chance. P-values are from 0% to 100%. They are usually written as a decimal. For example, a p value of 5% is 0.05. Low p-values are good; They indicate your data did not occur by chance. For example, a p-value of .01 means there is only a 1% probability that the results from an experiment happened by chance. In most cases, a p-value of 0.05 (5%) is accepted to mean the data is valid."
      ]
    },
    {
      "cell_type": "markdown",
      "metadata": {
        "id": "bzerrbzeJj-A",
        "colab_type": "text"
      },
      "source": [
        "Sources:\n",
        "\n",
        "http://rcs.bu.edu/examples/python/data_analysis\n",
        "\n",
        "https://www.statisticshowto.datasciencecentral.com/probability-and-statistics/t-test/"
      ]
    }
  ]
}