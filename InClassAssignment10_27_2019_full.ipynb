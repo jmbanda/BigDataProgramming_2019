{
  "nbformat": 4,
  "nbformat_minor": 0,
  "metadata": {
    "colab": {
      "name": "InClassAssignment10-27-2019-full.ipynb",
      "provenance": [],
      "include_colab_link": true
    },
    "kernelspec": {
      "name": "python3",
      "display_name": "Python 3"
    }
  },
  "cells": [
    {
      "cell_type": "markdown",
      "metadata": {
        "id": "view-in-github",
        "colab_type": "text"
      },
      "source": [
        "<a href=\"https://colab.research.google.com/github/jmbanda/BigDataProgramming_2019/blob/master/InClassAssignment10_27_2019_full.ipynb\" target=\"_parent\"><img src=\"https://colab.research.google.com/assets/colab-badge.svg\" alt=\"Open In Colab\"/></a>"
      ]
    },
    {
      "cell_type": "markdown",
      "metadata": {
        "id": "yo711IvQMJJo",
        "colab_type": "text"
      },
      "source": [
        "#**Finding outliers in Data**"
      ]
    },
    {
      "cell_type": "code",
      "metadata": {
        "id": "jCfF3nlyMFTL",
        "colab_type": "code",
        "colab": {}
      },
      "source": [
        "#Import the libraries\n",
        "import numpy as np\n",
        "import pandas as pd\n",
        "from sklearn.datasets import load_boston"
      ],
      "execution_count": 0,
      "outputs": []
    },
    {
      "cell_type": "markdown",
      "metadata": {
        "id": "estfrZTkMV48",
        "colab_type": "text"
      },
      "source": [
        "**Exercise 1. Load data and show (and save) the feature names** Note: Remove .data contains the data and target contains the variable to predict/classify"
      ]
    },
    {
      "cell_type": "code",
      "metadata": {
        "id": "ZX9xABacMU5S",
        "colab_type": "code",
        "colab": {}
      },
      "source": [
        "#Load the data\n",
        "boston = load_boston()\n",
        "\n",
        "#Find features and target\n",
        "x = boston.data\n",
        "y = boston.target\n",
        "\n",
        "#Find the dic keys\n",
        "columns = boston.feature_names"
      ],
      "execution_count": 0,
      "outputs": []
    },
    {
      "cell_type": "markdown",
      "metadata": {
        "id": "yBrKYg1jMr-6",
        "colab_type": "text"
      },
      "source": [
        "**Exercise 2. Show the dataset desciption (DESCR)**"
      ]
    },
    {
      "cell_type": "code",
      "metadata": {
        "id": "eOzYHnWsMvzW",
        "colab_type": "code",
        "outputId": "025987b4-4155-4333-a5fe-8be3556829b9",
        "colab": {
          "base_uri": "https://localhost:8080/",
          "height": 904
        }
      },
      "source": [
        "#Description of dataset\n",
        "print(boston.DESCR)"
      ],
      "execution_count": 0,
      "outputs": [
        {
          "output_type": "stream",
          "text": [
            ".. _boston_dataset:\n",
            "\n",
            "Boston house prices dataset\n",
            "---------------------------\n",
            "\n",
            "**Data Set Characteristics:**  \n",
            "\n",
            "    :Number of Instances: 506 \n",
            "\n",
            "    :Number of Attributes: 13 numeric/categorical predictive. Median Value (attribute 14) is usually the target.\n",
            "\n",
            "    :Attribute Information (in order):\n",
            "        - CRIM     per capita crime rate by town\n",
            "        - ZN       proportion of residential land zoned for lots over 25,000 sq.ft.\n",
            "        - INDUS    proportion of non-retail business acres per town\n",
            "        - CHAS     Charles River dummy variable (= 1 if tract bounds river; 0 otherwise)\n",
            "        - NOX      nitric oxides concentration (parts per 10 million)\n",
            "        - RM       average number of rooms per dwelling\n",
            "        - AGE      proportion of owner-occupied units built prior to 1940\n",
            "        - DIS      weighted distances to five Boston employment centres\n",
            "        - RAD      index of accessibility to radial highways\n",
            "        - TAX      full-value property-tax rate per $10,000\n",
            "        - PTRATIO  pupil-teacher ratio by town\n",
            "        - B        1000(Bk - 0.63)^2 where Bk is the proportion of blacks by town\n",
            "        - LSTAT    % lower status of the population\n",
            "        - MEDV     Median value of owner-occupied homes in $1000's\n",
            "\n",
            "    :Missing Attribute Values: None\n",
            "\n",
            "    :Creator: Harrison, D. and Rubinfeld, D.L.\n",
            "\n",
            "This is a copy of UCI ML housing dataset.\n",
            "https://archive.ics.uci.edu/ml/machine-learning-databases/housing/\n",
            "\n",
            "\n",
            "This dataset was taken from the StatLib library which is maintained at Carnegie Mellon University.\n",
            "\n",
            "The Boston house-price data of Harrison, D. and Rubinfeld, D.L. 'Hedonic\n",
            "prices and the demand for clean air', J. Environ. Economics & Management,\n",
            "vol.5, 81-102, 1978.   Used in Belsley, Kuh & Welsch, 'Regression diagnostics\n",
            "...', Wiley, 1980.   N.B. Various transformations are used in the table on\n",
            "pages 244-261 of the latter.\n",
            "\n",
            "The Boston house-price data has been used in many machine learning papers that address regression\n",
            "problems.   \n",
            "     \n",
            ".. topic:: References\n",
            "\n",
            "   - Belsley, Kuh & Welsch, 'Regression diagnostics: Identifying Influential Data and Sources of Collinearity', Wiley, 1980. 244-261.\n",
            "   - Quinlan,R. (1993). Combining Instance-Based and Model-Based Learning. In Proceedings on the Tenth International Conference of Machine Learning, 236-243, University of Massachusetts, Amherst. Morgan Kaufmann.\n",
            "\n"
          ],
          "name": "stdout"
        }
      ]
    },
    {
      "cell_type": "markdown",
      "metadata": {
        "id": "IQ2meqZzM9KZ",
        "colab_type": "text"
      },
      "source": [
        "**Exercise 3. Create Dataframe with the Boston data and show the first 5 rows**"
      ]
    },
    {
      "cell_type": "code",
      "metadata": {
        "id": "Dtm_LPJiNDiA",
        "colab_type": "code",
        "outputId": "6d50b0dd-9354-4e18-f4fb-7841ee767f0f",
        "colab": {
          "base_uri": "https://localhost:8080/",
          "height": 204
        }
      },
      "source": [
        "#create the dataframe\n",
        "boston_df = pd.DataFrame(boston.data)\n",
        "#With the price\n",
        "bos = pd.DataFrame(boston.data)\n",
        "bos['PRICE'] = boston.target\n",
        "\n",
        "boston_df.columns = columns\n",
        "boston_df.head()\n",
        "\n"
      ],
      "execution_count": 0,
      "outputs": [
        {
          "output_type": "execute_result",
          "data": {
            "text/html": [
              "<div>\n",
              "<style scoped>\n",
              "    .dataframe tbody tr th:only-of-type {\n",
              "        vertical-align: middle;\n",
              "    }\n",
              "\n",
              "    .dataframe tbody tr th {\n",
              "        vertical-align: top;\n",
              "    }\n",
              "\n",
              "    .dataframe thead th {\n",
              "        text-align: right;\n",
              "    }\n",
              "</style>\n",
              "<table border=\"1\" class=\"dataframe\">\n",
              "  <thead>\n",
              "    <tr style=\"text-align: right;\">\n",
              "      <th></th>\n",
              "      <th>CRIM</th>\n",
              "      <th>ZN</th>\n",
              "      <th>INDUS</th>\n",
              "      <th>CHAS</th>\n",
              "      <th>NOX</th>\n",
              "      <th>RM</th>\n",
              "      <th>AGE</th>\n",
              "      <th>DIS</th>\n",
              "      <th>RAD</th>\n",
              "      <th>TAX</th>\n",
              "      <th>PTRATIO</th>\n",
              "      <th>B</th>\n",
              "      <th>LSTAT</th>\n",
              "    </tr>\n",
              "  </thead>\n",
              "  <tbody>\n",
              "    <tr>\n",
              "      <th>0</th>\n",
              "      <td>0.00632</td>\n",
              "      <td>18.0</td>\n",
              "      <td>2.31</td>\n",
              "      <td>0.0</td>\n",
              "      <td>0.538</td>\n",
              "      <td>6.575</td>\n",
              "      <td>65.2</td>\n",
              "      <td>4.0900</td>\n",
              "      <td>1.0</td>\n",
              "      <td>296.0</td>\n",
              "      <td>15.3</td>\n",
              "      <td>396.90</td>\n",
              "      <td>4.98</td>\n",
              "    </tr>\n",
              "    <tr>\n",
              "      <th>1</th>\n",
              "      <td>0.02731</td>\n",
              "      <td>0.0</td>\n",
              "      <td>7.07</td>\n",
              "      <td>0.0</td>\n",
              "      <td>0.469</td>\n",
              "      <td>6.421</td>\n",
              "      <td>78.9</td>\n",
              "      <td>4.9671</td>\n",
              "      <td>2.0</td>\n",
              "      <td>242.0</td>\n",
              "      <td>17.8</td>\n",
              "      <td>396.90</td>\n",
              "      <td>9.14</td>\n",
              "    </tr>\n",
              "    <tr>\n",
              "      <th>2</th>\n",
              "      <td>0.02729</td>\n",
              "      <td>0.0</td>\n",
              "      <td>7.07</td>\n",
              "      <td>0.0</td>\n",
              "      <td>0.469</td>\n",
              "      <td>7.185</td>\n",
              "      <td>61.1</td>\n",
              "      <td>4.9671</td>\n",
              "      <td>2.0</td>\n",
              "      <td>242.0</td>\n",
              "      <td>17.8</td>\n",
              "      <td>392.83</td>\n",
              "      <td>4.03</td>\n",
              "    </tr>\n",
              "    <tr>\n",
              "      <th>3</th>\n",
              "      <td>0.03237</td>\n",
              "      <td>0.0</td>\n",
              "      <td>2.18</td>\n",
              "      <td>0.0</td>\n",
              "      <td>0.458</td>\n",
              "      <td>6.998</td>\n",
              "      <td>45.8</td>\n",
              "      <td>6.0622</td>\n",
              "      <td>3.0</td>\n",
              "      <td>222.0</td>\n",
              "      <td>18.7</td>\n",
              "      <td>394.63</td>\n",
              "      <td>2.94</td>\n",
              "    </tr>\n",
              "    <tr>\n",
              "      <th>4</th>\n",
              "      <td>0.06905</td>\n",
              "      <td>0.0</td>\n",
              "      <td>2.18</td>\n",
              "      <td>0.0</td>\n",
              "      <td>0.458</td>\n",
              "      <td>7.147</td>\n",
              "      <td>54.2</td>\n",
              "      <td>6.0622</td>\n",
              "      <td>3.0</td>\n",
              "      <td>222.0</td>\n",
              "      <td>18.7</td>\n",
              "      <td>396.90</td>\n",
              "      <td>5.33</td>\n",
              "    </tr>\n",
              "  </tbody>\n",
              "</table>\n",
              "</div>"
            ],
            "text/plain": [
              "      CRIM    ZN  INDUS  CHAS    NOX  ...  RAD    TAX  PTRATIO       B  LSTAT\n",
              "0  0.00632  18.0   2.31   0.0  0.538  ...  1.0  296.0     15.3  396.90   4.98\n",
              "1  0.02731   0.0   7.07   0.0  0.469  ...  2.0  242.0     17.8  396.90   9.14\n",
              "2  0.02729   0.0   7.07   0.0  0.469  ...  2.0  242.0     17.8  392.83   4.03\n",
              "3  0.03237   0.0   2.18   0.0  0.458  ...  3.0  222.0     18.7  394.63   2.94\n",
              "4  0.06905   0.0   2.18   0.0  0.458  ...  3.0  222.0     18.7  396.90   5.33\n",
              "\n",
              "[5 rows x 13 columns]"
            ]
          },
          "metadata": {
            "tags": []
          },
          "execution_count": 4
        }
      ]
    },
    {
      "cell_type": "markdown",
      "metadata": {
        "id": "K6FWHqF4NnUP",
        "colab_type": "text"
      },
      "source": [
        "## Discover outliers with visualization tools"
      ]
    },
    {
      "cell_type": "markdown",
      "metadata": {
        "id": "MBBe2qgDN4tJ",
        "colab_type": "text"
      },
      "source": [
        "**Exercise 4. Plot each feature using a boxplot (you will have a total of 13 plots)**"
      ]
    },
    {
      "cell_type": "code",
      "metadata": {
        "id": "LXbZhUcKN7dZ",
        "colab_type": "code",
        "outputId": "bdb31a99-88a1-41fb-be81-070080c2c6be",
        "colab": {
          "base_uri": "https://localhost:8080/",
          "height": 296
        }
      },
      "source": [
        "import matplotlib.pyplot as plt\n",
        "import seaborn as sns\n",
        "\n",
        "sns.boxplot(x=boston_df['CRIM'])"
      ],
      "execution_count": 0,
      "outputs": [
        {
          "output_type": "execute_result",
          "data": {
            "text/plain": [
              "<matplotlib.axes._subplots.AxesSubplot at 0x7f2032c0ec88>"
            ]
          },
          "metadata": {
            "tags": []
          },
          "execution_count": 5
        },
        {
          "output_type": "display_data",
          "data": {
            "image/png": "[encoded data removed]",
            "text/plain": [
              "<Figure size 432x288 with 1 Axes>"
            ]
          },
          "metadata": {
            "tags": []
          }
        }
      ]
    },
    {
      "cell_type": "code",
      "metadata": {
        "id": "vzNPSuTnPFFd",
        "colab_type": "code",
        "outputId": "5db10b8b-d704-4206-c4ff-c7199580ec0e",
        "colab": {
          "base_uri": "https://localhost:8080/",
          "height": 296
        }
      },
      "source": [
        "sns.boxplot(x=boston_df['ZN'])"
      ],
      "execution_count": 0,
      "outputs": [
        {
          "output_type": "execute_result",
          "data": {
            "text/plain": [
              "<matplotlib.axes._subplots.AxesSubplot at 0x7f2031fe8978>"
            ]
          },
          "metadata": {
            "tags": []
          },
          "execution_count": 6
        },
        {
          "output_type": "display_data",
          "data": {
            "image/png": "[encoded data removed]",
            "text/plain": [
              "<Figure size 432x288 with 1 Axes>"
            ]
          },
          "metadata": {
            "tags": []
          }
        }
      ]
    },
    {
      "cell_type": "code",
      "metadata": {
        "id": "x0lIaK8RPKbr",
        "colab_type": "code",
        "outputId": "d80f7548-1534-4d89-be62-7a521a57b866",
        "colab": {
          "base_uri": "https://localhost:8080/",
          "height": 296
        }
      },
      "source": [
        "sns.boxplot(x=boston_df['INDUS'])"
      ],
      "execution_count": 0,
      "outputs": [
        {
          "output_type": "execute_result",
          "data": {
            "text/plain": [
              "<matplotlib.axes._subplots.AxesSubplot at 0x7f2031fd7a90>"
            ]
          },
          "metadata": {
            "tags": []
          },
          "execution_count": 7
        },
        {
          "output_type": "display_data",
          "data": {
            "image/png": "[encoded data removed]",
            "text/plain": [
              "<Figure size 432x288 with 1 Axes>"
            ]
          },
          "metadata": {
            "tags": []
          }
        }
      ]
    },
    {
      "cell_type": "code",
      "metadata": {
        "id": "zgCkF_HBPa-V",
        "colab_type": "code",
        "outputId": "57df1155-1da7-4226-81be-0a3a2676cf9f",
        "colab": {
          "base_uri": "https://localhost:8080/",
          "height": 296
        }
      },
      "source": [
        "sns.boxplot(x=boston_df['CHAS'])"
      ],
      "execution_count": 0,
      "outputs": [
        {
          "output_type": "execute_result",
          "data": {
            "text/plain": [
              "<matplotlib.axes._subplots.AxesSubplot at 0x7f2031f4d940>"
            ]
          },
          "metadata": {
            "tags": []
          },
          "execution_count": 8
        },
        {
          "output_type": "display_data",
          "data": {
            "image/png": "[encoded data removed]",
            "text/plain": [
              "<Figure size 432x288 with 1 Axes>"
            ]
          },
          "metadata": {
            "tags": []
          }
        }
      ]
    },
    {
      "cell_type": "code",
      "metadata": {
        "id": "uOuYYS9-PeHL",
        "colab_type": "code",
        "outputId": "628b438c-dab9-4d5d-fb2f-4f71a067c8a0",
        "colab": {
          "base_uri": "https://localhost:8080/",
          "height": 296
        }
      },
      "source": [
        "sns.boxplot(x=boston_df['NOX'])"
      ],
      "execution_count": 0,
      "outputs": [
        {
          "output_type": "execute_result",
          "data": {
            "text/plain": [
              "<matplotlib.axes._subplots.AxesSubplot at 0x7f2031eb3978>"
            ]
          },
          "metadata": {
            "tags": []
          },
          "execution_count": 9
        },
        {
          "output_type": "display_data",
          "data": {
            "image/png": "[encoded data removed]",
            "text/plain": [
              "<Figure size 432x288 with 1 Axes>"
            ]
          },
          "metadata": {
            "tags": []
          }
        }
      ]
    },
    {
      "cell_type": "code",
      "metadata": {
        "id": "9-Ct0ys5PhDz",
        "colab_type": "code",
        "outputId": "c9fe1277-ba09-4a66-ff11-46f126ac52ed",
        "colab": {
          "base_uri": "https://localhost:8080/",
          "height": 296
        }
      },
      "source": [
        "sns.boxplot(x=boston_df['RM'])"
      ],
      "execution_count": 0,
      "outputs": [
        {
          "output_type": "execute_result",
          "data": {
            "text/plain": [
              "<matplotlib.axes._subplots.AxesSubplot at 0x7f2031e92898>"
            ]
          },
          "metadata": {
            "tags": []
          },
          "execution_count": 10
        },
        {
          "output_type": "display_data",
          "data": {
            "image/png": "[encoded data removed]",
            "text/plain": [
              "<Figure size 432x288 with 1 Axes>"
            ]
          },
          "metadata": {
            "tags": []
          }
        }
      ]
    },
    {
      "cell_type": "code",
      "metadata": {
        "id": "PbY-oI_PPi52",
        "colab_type": "code",
        "outputId": "45931fa6-cdbe-413c-88d0-5d70006ab706",
        "colab": {
          "base_uri": "https://localhost:8080/",
          "height": 296
        }
      },
      "source": [
        "sns.boxplot(x=boston_df['AGE'])"
      ],
      "execution_count": 0,
      "outputs": [
        {
          "output_type": "execute_result",
          "data": {
            "text/plain": [
              "<matplotlib.axes._subplots.AxesSubplot at 0x7f2031debac8>"
            ]
          },
          "metadata": {
            "tags": []
          },
          "execution_count": 11
        },
        {
          "output_type": "display_data",
          "data": {
            "image/png": "[encoded data removed]",
            "text/plain": [
              "<Figure size 432x288 with 1 Axes>"
            ]
          },
          "metadata": {
            "tags": []
          }
        }
      ]
    },
    {
      "cell_type": "code",
      "metadata": {
        "id": "RvLi58JBPk-T",
        "colab_type": "code",
        "outputId": "eae9644d-87c2-4e7f-9219-3f33b98a1081",
        "colab": {
          "base_uri": "https://localhost:8080/",
          "height": 296
        }
      },
      "source": [
        "sns.boxplot(x=boston_df['DIS'])"
      ],
      "execution_count": 0,
      "outputs": [
        {
          "output_type": "execute_result",
          "data": {
            "text/plain": [
              "<matplotlib.axes._subplots.AxesSubplot at 0x7f2031dc5198>"
            ]
          },
          "metadata": {
            "tags": []
          },
          "execution_count": 12
        },
        {
          "output_type": "display_data",
          "data": {
            "image/png": "[encoded data removed]",
            "text/plain": [
              "<Figure size 432x288 with 1 Axes>"
            ]
          },
          "metadata": {
            "tags": []
          }
        }
      ]
    },
    {
      "cell_type": "code",
      "metadata": {
        "id": "hRXlB0S1Pm_9",
        "colab_type": "code",
        "outputId": "f2f8a1b2-981b-4926-f82c-512b1349acd5",
        "colab": {
          "base_uri": "https://localhost:8080/",
          "height": 296
        }
      },
      "source": [
        "sns.boxplot(x=boston_df['RAD'])"
      ],
      "execution_count": 0,
      "outputs": [
        {
          "output_type": "execute_result",
          "data": {
            "text/plain": [
              "<matplotlib.axes._subplots.AxesSubplot at 0x7f2031d36d68>"
            ]
          },
          "metadata": {
            "tags": []
          },
          "execution_count": 13
        },
        {
          "output_type": "display_data",
          "data": {
            "image/png": "[encoded data removed]",
            "text/plain": [
              "<Figure size 432x288 with 1 Axes>"
            ]
          },
          "metadata": {
            "tags": []
          }
        }
      ]
    },
    {
      "cell_type": "code",
      "metadata": {
        "id": "EnMHfLbgPokM",
        "colab_type": "code",
        "outputId": "23e03131-30ff-44ab-f756-0e6fa2a1a422",
        "colab": {
          "base_uri": "https://localhost:8080/",
          "height": 296
        }
      },
      "source": [
        "sns.boxplot(x=boston_df['TAX'])"
      ],
      "execution_count": 0,
      "outputs": [
        {
          "output_type": "execute_result",
          "data": {
            "text/plain": [
              "<matplotlib.axes._subplots.AxesSubplot at 0x7f2031d14d30>"
            ]
          },
          "metadata": {
            "tags": []
          },
          "execution_count": 14
        },
        {
          "output_type": "display_data",
          "data": {
            "image/png": "[encoded data removed]",
            "text/plain": [
              "<Figure size 432x288 with 1 Axes>"
            ]
          },
          "metadata": {
            "tags": []
          }
        }
      ]
    },
    {
      "cell_type": "code",
      "metadata": {
        "id": "wZBl0PBUPqIY",
        "colab_type": "code",
        "outputId": "73bc7d88-6ddd-4c01-842a-d23260343e3b",
        "colab": {
          "base_uri": "https://localhost:8080/",
          "height": 296
        }
      },
      "source": [
        "sns.boxplot(x=boston_df['PTRATIO'])"
      ],
      "execution_count": 0,
      "outputs": [
        {
          "output_type": "execute_result",
          "data": {
            "text/plain": [
              "<matplotlib.axes._subplots.AxesSubplot at 0x7f2031d62ef0>"
            ]
          },
          "metadata": {
            "tags": []
          },
          "execution_count": 15
        },
        {
          "output_type": "display_data",
          "data": {
            "image/png": "[encoded data removed]",
            "text/plain": [
              "<Figure size 432x288 with 1 Axes>"
            ]
          },
          "metadata": {
            "tags": []
          }
        }
      ]
    },
    {
      "cell_type": "code",
      "metadata": {
        "id": "vyY_SJIbPr39",
        "colab_type": "code",
        "outputId": "78bc2068-124e-4ffa-b527-9ffd1f1f582e",
        "colab": {
          "base_uri": "https://localhost:8080/",
          "height": 296
        }
      },
      "source": [
        "sns.boxplot(x=boston_df['B'])"
      ],
      "execution_count": 0,
      "outputs": [
        {
          "output_type": "execute_result",
          "data": {
            "text/plain": [
              "<matplotlib.axes._subplots.AxesSubplot at 0x7f2031c581d0>"
            ]
          },
          "metadata": {
            "tags": []
          },
          "execution_count": 16
        },
        {
          "output_type": "display_data",
          "data": {
            "image/png": "[encoded data removed]",
            "text/plain": [
              "<Figure size 432x288 with 1 Axes>"
            ]
          },
          "metadata": {
            "tags": []
          }
        }
      ]
    },
    {
      "cell_type": "code",
      "metadata": {
        "id": "TlAtbPyjPtwd",
        "colab_type": "code",
        "outputId": "dbe1898e-cc5e-4416-c72e-1aeffcf8c759",
        "colab": {
          "base_uri": "https://localhost:8080/",
          "height": 296
        }
      },
      "source": [
        "sns.boxplot(x=boston_df['LSTAT'])"
      ],
      "execution_count": 0,
      "outputs": [
        {
          "output_type": "execute_result",
          "data": {
            "text/plain": [
              "<matplotlib.axes._subplots.AxesSubplot at 0x7f2031bc5c18>"
            ]
          },
          "metadata": {
            "tags": []
          },
          "execution_count": 17
        },
        {
          "output_type": "display_data",
          "data": {
            "image/png": "[encoded data removed]",
            "text/plain": [
              "<Figure size 432x288 with 1 Axes>"
            ]
          },
          "metadata": {
            "tags": []
          }
        }
      ]
    },
    {
      "cell_type": "markdown",
      "metadata": {
        "id": "wgJyPEWAPwZt",
        "colab_type": "text"
      },
      "source": [
        "Notice anything odd in these plots?? those points outside are outliers and they can cause weird behavior on your models. "
      ]
    },
    {
      "cell_type": "markdown",
      "metadata": {
        "id": "yH2DfAHbQOFf",
        "colab_type": "text"
      },
      "source": [
        "Here we analysed Uni-variate outlier i.e. we used each column only to check the outlier. But we can do multivariate outlier analysis too. \n",
        "\n",
        "Can we do the multivariate analysis with Box plot? Well it depends, if you have a categorical values then you can use that with any continuous variable and do multivariate outlier analysis. \n",
        "\n",
        "As we do not have categorical value in our Boston Housing dataset, we might need to forget about using box plot for multivariate outlier analysis."
      ]
    },
    {
      "cell_type": "markdown",
      "metadata": {
        "id": "PFmBk6a0Qcpe",
        "colab_type": "text"
      },
      "source": [
        "**Exercise 5. Use a scatter plot to analyize your data points (for features INDUS and TAX). By definition the scatter plot is the collection of points that shows values for two variables. We can try and draw scatter plot for two variables from our housing dataset.**"
      ]
    },
    {
      "cell_type": "code",
      "metadata": {
        "id": "YIJKJQcNQuON",
        "colab_type": "code",
        "outputId": "ae5c999e-b441-445d-ab4a-97dc505f0cda",
        "colab": {
          "base_uri": "https://localhost:8080/",
          "height": 497
        }
      },
      "source": [
        "fig, ax = plt.subplots(figsize=(16,8))\n",
        "ax.scatter(boston_df['INDUS'], boston_df['TAX'])\n",
        "ax.set_xlabel('Proportion of non-retail business acres per town')\n",
        "ax.set_ylabel('Full-value property-tax rate per $10,000')\n",
        "plt.show()"
      ],
      "execution_count": 0,
      "outputs": [
        {
          "output_type": "display_data",
          "data": {
            "image/png": "[encoded data removed]",
            "text/plain": [
              "<Figure size 1152x576 with 1 Axes>"
            ]
          },
          "metadata": {
            "tags": []
          }
        }
      ]
    },
    {
      "cell_type": "markdown",
      "metadata": {
        "id": "cj-ijcCVQ6yv",
        "colab_type": "text"
      },
      "source": [
        "**Exercise 6. Describe what you see on the previous plot. Can you see some outliers here too?**"
      ]
    },
    {
      "cell_type": "markdown",
      "metadata": {
        "id": "oa-opytpRR9T",
        "colab_type": "text"
      },
      "source": [
        "**Exercise 7. Use the Z-score to remove outliers.**\n",
        "\n",
        "The intuition behind Z-score is to describe any data point by finding their relationship with the Standard Deviation and Mean of the group of data points. Z-score is finding the distribution of data where mean is 0 and standard deviation is 1 i.e. normal distribution.\n",
        "\n",
        "You must be wondering that, how does this help in identifying the outliers? Well, while calculating the Z-score we re-scale and center the data and look for data points which are too far from zero. \n",
        "\n",
        "These data points which are way too far from zero will be treated as the outliers. In most of the cases a threshold of 3 or -3 is used i.e if the Z-score value is greater than or less than 3 or -3 respectively, that data point will be identified as outliers.\n",
        "\n",
        "Now use Z-score function defined in scipy library to detect the outliers."
      ]
    },
    {
      "cell_type": "code",
      "metadata": {
        "id": "MOFV7104RgX4",
        "colab_type": "code",
        "outputId": "b1146937-756d-4c20-df84-421a8b3e31d6",
        "colab": {
          "base_uri": "https://localhost:8080/",
          "height": 136
        }
      },
      "source": [
        "from scipy import stats\n",
        "import numpy as np\n",
        "z = np.abs(stats.zscore(boston_df))\n",
        "print(z)"
      ],
      "execution_count": 0,
      "outputs": [
        {
          "output_type": "stream",
          "text": [
            "[[0.41978194 0.28482986 1.2879095  ... 1.45900038 0.44105193 1.0755623 ]\n",
            " [0.41733926 0.48772236 0.59338101 ... 0.30309415 0.44105193 0.49243937]\n",
            " [0.41734159 0.48772236 0.59338101 ... 0.30309415 0.39642699 1.2087274 ]\n",
            " ...\n",
            " [0.41344658 0.48772236 0.11573841 ... 1.17646583 0.44105193 0.98304761]\n",
            " [0.40776407 0.48772236 0.11573841 ... 1.17646583 0.4032249  0.86530163]\n",
            " [0.41500016 0.48772236 0.11573841 ... 1.17646583 0.44105193 0.66905833]]\n"
          ],
          "name": "stdout"
        }
      ]
    },
    {
      "cell_type": "markdown",
      "metadata": {
        "id": "tAtuW9sSRpbN",
        "colab_type": "text"
      },
      "source": [
        "Looking the code and the output above, it is difficult to say which data point is an outlier. \n",
        "\n",
        "Define a threshold to identify an outlier:"
      ]
    },
    {
      "cell_type": "code",
      "metadata": {
        "id": "ZGGC60GBRsw-",
        "colab_type": "code",
        "outputId": "5d9522d7-60c4-4a2c-f033-e335598c07d7",
        "colab": {
          "base_uri": "https://localhost:8080/",
          "height": 238
        }
      },
      "source": [
        "threshold = 3\n",
        "print(np.where(z > threshold))"
      ],
      "execution_count": 0,
      "outputs": [
        {
          "output_type": "stream",
          "text": [
            "(array([ 55,  56,  57, 102, 141, 142, 152, 154, 155, 160, 162, 163, 199,\n",
            "       200, 201, 202, 203, 204, 208, 209, 210, 211, 212, 216, 218, 219,\n",
            "       220, 221, 222, 225, 234, 236, 256, 257, 262, 269, 273, 274, 276,\n",
            "       277, 282, 283, 283, 284, 347, 351, 352, 353, 353, 354, 355, 356,\n",
            "       357, 358, 363, 364, 364, 365, 367, 369, 370, 372, 373, 374, 374,\n",
            "       380, 398, 404, 405, 406, 410, 410, 411, 412, 412, 414, 414, 415,\n",
            "       416, 418, 418, 419, 423, 424, 425, 426, 427, 427, 429, 431, 436,\n",
            "       437, 438, 445, 450, 454, 455, 456, 457, 466]), array([ 1,  1,  1, 11, 12,  3,  3,  3,  3,  3,  3,  3,  1,  1,  1,  1,  1,\n",
            "        1,  3,  3,  3,  3,  3,  3,  3,  3,  3,  3,  3,  5,  3,  3,  1,  5,\n",
            "        5,  3,  3,  3,  3,  3,  3,  1,  3,  1,  1,  7,  7,  1,  7,  7,  7,\n",
            "        3,  3,  3,  3,  3,  5,  5,  5,  3,  3,  3, 12,  5, 12,  0,  0,  0,\n",
            "        0,  5,  0, 11, 11, 11, 12,  0, 12, 11, 11,  0, 11, 11, 11, 11, 11,\n",
            "       11,  0, 11, 11, 11, 11, 11, 11, 11, 11, 11, 11, 11, 11, 11]))\n"
          ],
          "name": "stdout"
        }
      ]
    },
    {
      "cell_type": "markdown",
      "metadata": {
        "id": "UvUu1HZWR7ct",
        "colab_type": "text"
      },
      "source": [
        "Don’t be confused by the results. The first array contains the list of row numbers and second array respective column numbers, which mean z[55][1] have a Z-score higher than 3.\n",
        "\n",
        "Lastly, write code to show the z-score of 55,1 to show that this is true. "
      ]
    },
    {
      "cell_type": "code",
      "metadata": {
        "id": "d07n4y8ySLo1",
        "colab_type": "code",
        "outputId": "0abe72da-9740-4374-afa3-ecd61a4a8609",
        "colab": {
          "base_uri": "https://localhost:8080/",
          "height": 34
        }
      },
      "source": [
        "print(z[55][1])"
      ],
      "execution_count": 0,
      "outputs": [
        {
          "output_type": "stream",
          "text": [
            "3.375038763517309\n"
          ],
          "name": "stdout"
        }
      ]
    },
    {
      "cell_type": "markdown",
      "metadata": {
        "id": "UX1Om384Sswy",
        "colab_type": "text"
      },
      "source": [
        "## Working with Outliers: Correcting, Removing\n",
        "\n",
        "During data analysis when you detect the outlier one of most difficult decision could be how one should deal with the outlier. Should they remove them or correct them? \n",
        "\n",
        "**Exercise 8. Write code to remove all rows where we have an outlier with a z-score of more than 3.**"
      ]
    },
    {
      "cell_type": "code",
      "metadata": {
        "id": "AH8Vv2_xTNZ5",
        "colab_type": "code",
        "colab": {}
      },
      "source": [
        "boston_df_o = boston_df[(z < threshold).all(axis=1)]\n",
        "bos_removed= bos[(z < threshold).all(axis=1)]  #let's remove them from the "
      ],
      "execution_count": 0,
      "outputs": []
    },
    {
      "cell_type": "markdown",
      "metadata": {
        "id": "2PhsejRmT_og",
        "colab_type": "text"
      },
      "source": [
        "Show the shape of your old and new dataframe, how many rows did we ended up dropping?"
      ]
    },
    {
      "cell_type": "code",
      "metadata": {
        "id": "o3ZA8GxoUGTh",
        "colab_type": "code",
        "outputId": "bd4e1ebc-9f34-49a3-f1bb-27e494f4360e",
        "colab": {
          "base_uri": "https://localhost:8080/",
          "height": 34
        }
      },
      "source": [
        "boston_df.shape"
      ],
      "execution_count": 0,
      "outputs": [
        {
          "output_type": "execute_result",
          "data": {
            "text/plain": [
              "(506, 13)"
            ]
          },
          "metadata": {
            "tags": []
          },
          "execution_count": 23
        }
      ]
    },
    {
      "cell_type": "code",
      "metadata": {
        "id": "yTSv-a3UUKxH",
        "colab_type": "code",
        "outputId": "12cd3cf5-25fb-44ed-9c2a-3b1164592604",
        "colab": {
          "base_uri": "https://localhost:8080/",
          "height": 34
        }
      },
      "source": [
        "boston_df_o.shape"
      ],
      "execution_count": 0,
      "outputs": [
        {
          "output_type": "execute_result",
          "data": {
            "text/plain": [
              "(415, 13)"
            ]
          },
          "metadata": {
            "tags": []
          },
          "execution_count": 24
        }
      ]
    },
    {
      "cell_type": "markdown",
      "metadata": {
        "id": "mK7VR1TjU66x",
        "colab_type": "text"
      },
      "source": [
        "**Exercise 9. Setting a common random seed (0) and 50 estimators, build the following models:**\n",
        "\n",
        "Note: If you havent, remove the PRICE feature as this is our target (PRICE - Median value of owner-occupied homes in $1000's)\n",
        "\n",
        "**1) Build and train a Linear Regression and RandomForestRegressor model (using 80% training, 20% testing data) on the original Boston data (no outliers removed)**\n",
        "\n",
        "**2) Build and train a Linear Regression and RandomForestRegressor model (using 80% training, 20% testing data) on the Boston data with outliers removed.**\n",
        "\n",
        "**3) Build and train a Linear Regression and RandomForestRegressor model using a *pipeline* with a Normalizer** on the original Boston data\n",
        "\n",
        "**4) Build and train a Linear Regression and RandomForestRegressor model using a *pipeline* with a Normalizer** on the Boston data with outliers removed.\n",
        "\n",
        "Evaluate each one with the following metrics: Mean Absolute Error, Mean Squared Error and Root Mean Squared Error AND model score.\n",
        "\n",
        "**Create a table that shows all metrics for all models at the end.**"
      ]
    },
    {
      "cell_type": "code",
      "metadata": {
        "id": "01xOCgWAaZ6W",
        "colab_type": "code",
        "outputId": "56eb9008-71bc-4441-df5b-c1d37d5aaed9",
        "colab": {
          "base_uri": "https://localhost:8080/",
          "height": 373
        }
      },
      "source": [
        "#1a) Linear Regression Model on original Data\n",
        "\n",
        "eX = bos.drop('PRICE', axis = 1)\n",
        "eY = bos['PRICE']\n",
        "\n",
        "from sklearn.model_selection import train_test_split\n",
        "eX_train, eX_test, ey_train, ey_test = train_test_split(eX, eY, test_size = 0.20, random_state = 0)\n",
        "\n",
        "from sklearn.linear_model import LinearRegression\n",
        "\n",
        "lm = LinearRegression()\n",
        "lm.fit(eX_train, ey_train)\n",
        "\n",
        "ey_pred = lm.predict(eX_test)\n",
        "\n",
        "plt.scatter(ey_test, ey_pred)\n",
        "plt.xlabel(\"Prices: $Y_i$\")\n",
        "plt.ylabel(\"Predicted prices: $\\hat{Y}_i$\")\n",
        "plt.title(\"Prices vs Predicted prices: $Y_i$ vs $\\hat{Y}_i$\")\n",
        "\n",
        "from sklearn import metrics\n",
        "print('Mean Absolute Error:', metrics.mean_absolute_error(ey_test, ey_pred))  \n",
        "print('Mean Squared Error:', metrics.mean_squared_error(ey_test, ey_pred))  \n",
        "print('Root Mean Squared Error:', np.sqrt(metrics.mean_squared_error(ey_test, ey_pred)))\n",
        "print('Model Score:', lm.score(eX_test, ey_test))\n",
        "\n",
        "results_1a= {'Experiment': 'LR_original_data_1a', 'MAE': metrics.mean_absolute_error(ey_test, ey_pred), 'MSE':metrics.mean_squared_error(ey_test, ey_pred)  , 'RMSE':np.sqrt(metrics.mean_squared_error(ey_test, ey_pred)), 'MS':lm.score(eX_test, ey_test)}"
      ],
      "execution_count": 0,
      "outputs": [
        {
          "output_type": "stream",
          "text": [
            "Mean Absolute Error: 3.8429092204444997\n",
            "Mean Squared Error: 33.44897999767638\n",
            "Root Mean Squared Error: 5.783509315085122\n",
            "Model Score: 0.5892223849182526\n"
          ],
          "name": "stdout"
        },
        {
          "output_type": "display_data",
          "data": {
            "image/png": "[encoded data removed]",
            "text/plain": [
              "<Figure size 432x288 with 1 Axes>"
            ]
          },
          "metadata": {
            "tags": []
          }
        }
      ]
    },
    {
      "cell_type": "code",
      "metadata": {
        "id": "id26jdYLYweK",
        "colab_type": "code",
        "outputId": "0468cf76-6a09-4143-a026-79871a868bfa",
        "colab": {
          "base_uri": "https://localhost:8080/",
          "height": 373
        }
      },
      "source": [
        "#1b) RandomForestRegressor on Original Data Model\n",
        "\n",
        "#Splitting the dataset into the Training set and Test set\n",
        "from sklearn.model_selection import train_test_split\n",
        "X_train, X_test, y_train, y_test = train_test_split(x, y, test_size = 0.20, random_state = 0)\n",
        "\n",
        "#Fitting Random Forest Regression to the Training set\n",
        "from sklearn.ensemble import RandomForestRegressor\n",
        "regressor = RandomForestRegressor(n_estimators = 50, random_state = 0)\n",
        "\n",
        "regressor.fit(X_train, y_train)\n",
        "\n",
        "#Predicting the Test set results\n",
        "y_pred = regressor.predict(X_test)\n",
        "\n",
        "plt.scatter(y_test, y_pred)\n",
        "plt.xlabel(\"Prices: $Y_i$\")\n",
        "plt.ylabel(\"Predicted prices: $\\hat{Y}_i$\")\n",
        "plt.title(\"Prices vs Predicted prices: $Y_i$ vs $\\hat{Y}_i$\")\n",
        "\n",
        "from sklearn import metrics\n",
        "print('Mean Absolute Error:', metrics.mean_absolute_error(y_test, y_pred))  \n",
        "print('Mean Squared Error:', metrics.mean_squared_error(y_test, y_pred))  \n",
        "print('Root Mean Squared Error:', np.sqrt(metrics.mean_squared_error(y_test, y_pred)))\n",
        "print('Model Score:', regressor.score(X_test, y_test))\n",
        "\n",
        "results_1b= {'Experiment': 'RFR_original_data_1b', 'MAE': metrics.mean_absolute_error(y_test, y_pred), 'MSE':metrics.mean_squared_error(y_test, y_pred)  , 'RMSE':np.sqrt(metrics.mean_squared_error(y_test, y_pred)), 'MS':regressor.score(X_test, y_test)}\n"
      ],
      "execution_count": 0,
      "outputs": [
        {
          "output_type": "stream",
          "text": [
            "Mean Absolute Error: 2.658725490196079\n",
            "Mean Squared Error: 18.40358349019608\n",
            "Root Mean Squared Error: 4.289939800299776\n",
            "Model Score: 0.7739907125542924\n"
          ],
          "name": "stdout"
        },
        {
          "output_type": "display_data",
          "data": {
            "image/png": "[encoded data removed]",
            "text/plain": [
              "<Figure size 432x288 with 1 Axes>"
            ]
          },
          "metadata": {
            "tags": []
          }
        }
      ]
    },
    {
      "cell_type": "code",
      "metadata": {
        "id": "jju7s2fksaW6",
        "colab_type": "code",
        "outputId": "e1d6b85a-5324-453b-e126-2564eeb1a893",
        "colab": {
          "base_uri": "https://localhost:8080/",
          "height": 373
        }
      },
      "source": [
        "#2a) Linear Regression Model on data without outliers data\n",
        "\n",
        "eX = bos_removed.drop('PRICE', axis = 1)\n",
        "eY = bos_removed['PRICE']\n",
        "\n",
        "eX_train, eX_test, ey_train, ey_test = train_test_split(eX, eY, test_size = 0.20, random_state = 0)\n",
        "\n",
        "from sklearn.linear_model import LinearRegression\n",
        "\n",
        "lm_o = LinearRegression()\n",
        "lm_o.fit(eX_train, ey_train)\n",
        "\n",
        "ey_pred = lm_o.predict(eX_test)\n",
        "\n",
        "plt.scatter(ey_test, ey_pred)\n",
        "plt.xlabel(\"Prices: $Y_i$\")\n",
        "plt.ylabel(\"Predicted prices: $\\hat{Y}_i$\")\n",
        "plt.title(\"Prices vs Predicted prices: $Y_i$ vs $\\hat{Y}_i$\")\n",
        "\n",
        "from sklearn import metrics\n",
        "print('Mean Absolute Error:', metrics.mean_absolute_error(ey_test, ey_pred))  \n",
        "print('Mean Squared Error:', metrics.mean_squared_error(ey_test, ey_pred))  \n",
        "print('Root Mean Squared Error:', np.sqrt(metrics.mean_squared_error(ey_test, ey_pred)))\n",
        "print('Model Score:', lm.score(eX_test, ey_test))\n",
        "\n",
        "results_2a= {'Experiment': 'LR_no_outlier_2a', 'MAE': metrics.mean_absolute_error(ey_test, ey_pred), 'MSE':metrics.mean_squared_error(ey_test, ey_pred)  , 'RMSE':np.sqrt(metrics.mean_squared_error(ey_test, ey_pred)), 'MS':lm.score(eX_test, ey_test)}"
      ],
      "execution_count": 0,
      "outputs": [
        {
          "output_type": "stream",
          "text": [
            "Mean Absolute Error: 2.4742124736939535\n",
            "Mean Squared Error: 10.698651498862995\n",
            "Root Mean Squared Error: 3.2708793158511664\n",
            "Model Score: 0.755219925936524\n"
          ],
          "name": "stdout"
        },
        {
          "output_type": "display_data",
          "data": {
            "image/png": "[encoded data removed]",
            "text/plain": [
              "<Figure size 432x288 with 1 Axes>"
            ]
          },
          "metadata": {
            "tags": []
          }
        }
      ]
    },
    {
      "cell_type": "code",
      "metadata": {
        "id": "HXWdlM9-tWwA",
        "colab_type": "code",
        "outputId": "c2cc9630-b8e5-495a-ccff-259cca46ffbb",
        "colab": {
          "base_uri": "https://localhost:8080/",
          "height": 373
        }
      },
      "source": [
        "#2b) RandomForestRegressor on outlier removed data\n",
        "\n",
        "#Splitting the dataset into the Training set and Test set\n",
        "from sklearn.model_selection import train_test_split\n",
        "\n",
        "eX = bos_removed.drop('PRICE', axis = 1)\n",
        "eY = bos_removed['PRICE']\n",
        "\n",
        "X_train, X_test, y_train, y_test = train_test_split(eX, eY, test_size = 0.20, random_state = 0)\n",
        "\n",
        "#Fitting Random Forest Regression to the Training set\n",
        "from sklearn.ensemble import RandomForestRegressor\n",
        "regressor_o = RandomForestRegressor(n_estimators = 50, random_state = 0)\n",
        "\n",
        "regressor_o.fit(X_train, y_train)\n",
        "\n",
        "#Predicting the Test set results\n",
        "y_pred = regressor_o.predict(X_test)\n",
        "\n",
        "plt.scatter(y_test, y_pred)\n",
        "plt.xlabel(\"Prices: $Y_i$\")\n",
        "plt.ylabel(\"Predicted prices: $\\hat{Y}_i$\")\n",
        "plt.title(\"Prices vs Predicted prices: $Y_i$ vs $\\hat{Y}_i$\")\n",
        "\n",
        "from sklearn import metrics\n",
        "print('Mean Absolute Error:', metrics.mean_absolute_error(y_test, y_pred))  \n",
        "print('Mean Squared Error:', metrics.mean_squared_error(y_test, y_pred))  \n",
        "print('Root Mean Squared Error:', np.sqrt(metrics.mean_squared_error(y_test, y_pred)))\n",
        "print('Model Score:', regressor.score(X_test, y_test))\n",
        "\n",
        "results_2b= {'Experiment': 'RFR_no_outlier_2b', 'MAE': metrics.mean_absolute_error(y_test, y_pred), 'MSE':metrics.mean_squared_error(y_test, y_pred)  , 'RMSE':np.sqrt(metrics.mean_squared_error(y_test, y_pred)), 'MS':regressor.score(eX_test, ey_test)}\n"
      ],
      "execution_count": 0,
      "outputs": [
        {
          "output_type": "stream",
          "text": [
            "Mean Absolute Error: 2.1493493975903615\n",
            "Mean Squared Error: 9.673485301204822\n",
            "Root Mean Squared Error: 3.1102227092613193\n",
            "Model Score: 0.8928929412075667\n"
          ],
          "name": "stdout"
        },
        {
          "output_type": "display_data",
          "data": {
            "image/png": "[encoded data removed]",
            "text/plain": [
              "<Figure size 432x288 with 1 Axes>"
            ]
          },
          "metadata": {
            "tags": []
          }
        }
      ]
    },
    {
      "cell_type": "code",
      "metadata": {
        "id": "XqRQPcvMyz22",
        "colab_type": "code",
        "outputId": "5cee65ff-95ec-4a84-e004-ee54c1dc3254",
        "colab": {
          "base_uri": "https://localhost:8080/",
          "height": 373
        }
      },
      "source": [
        "#3a Pipeline with Linear Regression and original data\n",
        "from sklearn.pipeline import Pipeline\n",
        "from sklearn.preprocessing import Normalizer\n",
        "\n",
        "eX = bos.drop('PRICE', axis = 1)\n",
        "eY = bos['PRICE']\n",
        "\n",
        "eX_train, eX_test, ey_train, ey_test = train_test_split(eX, eY, test_size = 0.20, random_state = 0)\n",
        "\n",
        "from sklearn.linear_model import LinearRegression\n",
        "\n",
        "pipeline = Pipeline([\n",
        "    ('scaler',Normalizer()),\n",
        "    ('clf', LinearRegression())\n",
        "])\n",
        "\n",
        "\n",
        "pipeline.fit(eX_train,ey_train)\n",
        "\n",
        "ey_pred = pipeline.predict(eX_test)\n",
        "\n",
        "plt.scatter(ey_test, ey_pred)\n",
        "plt.xlabel(\"Prices: $Y_i$\")\n",
        "plt.ylabel(\"Predicted prices: $\\hat{Y}_i$\")\n",
        "plt.title(\"Prices vs Predicted prices: $Y_i$ vs $\\hat{Y}_i$\")\n",
        "\n",
        "from sklearn import metrics\n",
        "print('Mean Absolute Error:', metrics.mean_absolute_error(ey_test, ey_pred))  \n",
        "print('Mean Squared Error:', metrics.mean_squared_error(ey_test, ey_pred))  \n",
        "print('Root Mean Squared Error:', np.sqrt(metrics.mean_squared_error(ey_test, ey_pred)))\n",
        "print('Model Score:', pipeline.score(eX_test, ey_test))\n",
        "\n",
        "\n",
        "results_3a= {'Experiment': 'LR_pipeline_original_data_3a', 'MAE': metrics.mean_absolute_error(ey_test, ey_pred), 'MSE':metrics.mean_squared_error(ey_test, ey_pred)  , 'RMSE':np.sqrt(metrics.mean_squared_error(ey_test, ey_pred)), 'MS':pipeline.score(eX_test, ey_test)}\n"
      ],
      "execution_count": 0,
      "outputs": [
        {
          "output_type": "stream",
          "text": [
            "Mean Absolute Error: 3.644441758635482\n",
            "Mean Squared Error: 34.36235895501711\n",
            "Root Mean Squared Error: 5.861941568713997\n",
            "Model Score: 0.5780054321206384\n"
          ],
          "name": "stdout"
        },
        {
          "output_type": "display_data",
          "data": {
            "image/png": "[encoded data removed]",
            "text/plain": [
              "<Figure size 432x288 with 1 Axes>"
            ]
          },
          "metadata": {
            "tags": []
          }
        }
      ]
    },
    {
      "cell_type": "code",
      "metadata": {
        "id": "FM7jJKc_1vn0",
        "colab_type": "code",
        "outputId": "f6fd1a23-c1ae-4ee0-9994-59f53b0e8352",
        "colab": {
          "base_uri": "https://localhost:8080/",
          "height": 373
        }
      },
      "source": [
        "#3b Pipeline with Random ForestRegressor and original data\n",
        "from sklearn.pipeline import Pipeline\n",
        "from sklearn.preprocessing import Normalizer\n",
        "\n",
        "eX = bos.drop('PRICE', axis = 1)\n",
        "eY = bos['PRICE']\n",
        "\n",
        "eX_train, eX_test, ey_train, ey_test = train_test_split(eX, eY, test_size = 0.20, random_state = 0)\n",
        "\n",
        "#Fitting Random Forest Regression to the Training set\n",
        "from sklearn.ensemble import RandomForestRegressor\n",
        "\n",
        "pipeline = Pipeline([\n",
        "    ('scaler',Normalizer()),\n",
        "    ('rfr', RandomForestRegressor(n_estimators = 50, random_state = 0))\n",
        "])\n",
        "\n",
        "\n",
        "pipeline.fit(eX_train,ey_train)\n",
        "\n",
        "ey_pred = pipeline.predict(eX_test)\n",
        "\n",
        "plt.scatter(ey_test, ey_pred)\n",
        "plt.xlabel(\"Prices: $Y_i$\")\n",
        "plt.ylabel(\"Predicted prices: $\\hat{Y}_i$\")\n",
        "plt.title(\"Prices vs Predicted prices: $Y_i$ vs $\\hat{Y}_i$\")\n",
        "\n",
        "from sklearn import metrics\n",
        "print('Mean Absolute Error:', metrics.mean_absolute_error(ey_test, ey_pred))  \n",
        "print('Mean Squared Error:', metrics.mean_squared_error(ey_test, ey_pred))  \n",
        "print('Root Mean Squared Error:', np.sqrt(metrics.mean_squared_error(ey_test, ey_pred)))\n",
        "print('Model Score:', pipeline.score(eX_test, ey_test))\n",
        "\n",
        "results_3b= {'Experiment': 'RFR_pipeline_original_data_3b', 'MAE': metrics.mean_absolute_error(ey_test, ey_pred), 'MSE':metrics.mean_squared_error(ey_test, ey_pred)  , 'RMSE':np.sqrt(metrics.mean_squared_error(ey_test, ey_pred)), 'MS':pipeline.score(eX_test, ey_test)}"
      ],
      "execution_count": 0,
      "outputs": [
        {
          "output_type": "stream",
          "text": [
            "Mean Absolute Error: 2.9865882352941195\n",
            "Mean Squared Error: 24.729676156862748\n",
            "Root Mean Squared Error: 4.972894142937566\n",
            "Model Score: 0.6963017289565867\n"
          ],
          "name": "stdout"
        },
        {
          "output_type": "display_data",
          "data": {
            "image/png": "[encoded data removed]",
            "text/plain": [
              "<Figure size 432x288 with 1 Axes>"
            ]
          },
          "metadata": {
            "tags": []
          }
        }
      ]
    },
    {
      "cell_type": "code",
      "metadata": {
        "id": "1mfNfEYA1Nw0",
        "colab_type": "code",
        "outputId": "f44d87e3-a81d-45b9-e6b6-e12073d454b6",
        "colab": {
          "base_uri": "https://localhost:8080/",
          "height": 373
        }
      },
      "source": [
        "#4a Pipeline with Linear Regression and original data\n",
        "from sklearn.pipeline import Pipeline\n",
        "from sklearn.preprocessing import Normalizer\n",
        "\n",
        "eX = bos_removed.drop('PRICE', axis = 1)\n",
        "eY = bos_removed['PRICE']\n",
        "\n",
        "eX_train, eX_test, ey_train, ey_test = train_test_split(eX, eY, test_size = 0.20, random_state = 0)\n",
        "\n",
        "from sklearn.linear_model import LinearRegression\n",
        "\n",
        "pipeline = Pipeline([\n",
        "    ('scaler',Normalizer()),\n",
        "    ('clf', LinearRegression())\n",
        "])\n",
        "\n",
        "\n",
        "pipeline.fit(eX_train,ey_train)\n",
        "\n",
        "ey_pred = pipeline.predict(eX_test)\n",
        "\n",
        "plt.scatter(ey_test, ey_pred)\n",
        "plt.xlabel(\"Prices: $Y_i$\")\n",
        "plt.ylabel(\"Predicted prices: $\\hat{Y}_i$\")\n",
        "plt.title(\"Prices vs Predicted prices: $Y_i$ vs $\\hat{Y}_i$\")\n",
        "\n",
        "from sklearn import metrics\n",
        "print('Mean Absolute Error:', metrics.mean_absolute_error(ey_test, ey_pred))  \n",
        "print('Mean Squared Error:', metrics.mean_squared_error(ey_test, ey_pred))  \n",
        "print('Root Mean Squared Error:', np.sqrt(metrics.mean_squared_error(ey_test, ey_pred)))\n",
        "print('Model Score:', pipeline.score(eX_test, ey_test))\n",
        "\n",
        "results_4a= {'Experiment': 'LR_pipeline_outlier_removed_4a', 'MAE': metrics.mean_absolute_error(ey_test, ey_pred), 'MSE':metrics.mean_squared_error(ey_test, ey_pred)  , 'RMSE':np.sqrt(metrics.mean_squared_error(ey_test, ey_pred)), 'MS':pipeline.score(eX_test, ey_test)}"
      ],
      "execution_count": 0,
      "outputs": [
        {
          "output_type": "stream",
          "text": [
            "Mean Absolute Error: 2.3914952044842033\n",
            "Mean Squared Error: 9.74146524283454\n",
            "Root Mean Squared Error: 3.121132045081486\n",
            "Model Score: 0.7956445574711908\n"
          ],
          "name": "stdout"
        },
        {
          "output_type": "display_data",
          "data": {
            "image/png": "[encoded data removed]",
            "text/plain": [
              "<Figure size 432x288 with 1 Axes>"
            ]
          },
          "metadata": {
            "tags": []
          }
        }
      ]
    },
    {
      "cell_type": "code",
      "metadata": {
        "id": "IkCLY1ve2Gl9",
        "colab_type": "code",
        "outputId": "4095b443-e459-413f-a856-a8bdbdb71bb3",
        "colab": {
          "base_uri": "https://localhost:8080/",
          "height": 373
        }
      },
      "source": [
        "#4b Pipeline with Random ForestRegressor and original data\n",
        "from sklearn.pipeline import Pipeline\n",
        "from sklearn.preprocessing import Normalizer\n",
        "\n",
        "eX = bos_removed.drop('PRICE', axis = 1)\n",
        "eY = bos_removed['PRICE']\n",
        "\n",
        "eX_train, eX_test, ey_train, ey_test = train_test_split(eX, eY, test_size = 0.20, random_state = 0)\n",
        "\n",
        "#Fitting Random Forest Regression to the Training set\n",
        "from sklearn.ensemble import RandomForestRegressor\n",
        "\n",
        "pipeline = Pipeline([\n",
        "    ('scaler',Normalizer()),\n",
        "    ('rfr', RandomForestRegressor(n_estimators = 50, random_state = 0))\n",
        "])\n",
        "\n",
        "\n",
        "pipeline.fit(eX_train,ey_train)\n",
        "\n",
        "ey_pred = pipeline.predict(eX_test)\n",
        "\n",
        "plt.scatter(ey_test, ey_pred)\n",
        "plt.xlabel(\"Prices: $Y_i$\")\n",
        "plt.ylabel(\"Predicted prices: $\\hat{Y}_i$\")\n",
        "plt.title(\"Prices vs Predicted prices: $Y_i$ vs $\\hat{Y}_i$\")\n",
        "\n",
        "from sklearn import metrics\n",
        "print('Mean Absolute Error:', metrics.mean_absolute_error(ey_test, ey_pred))  \n",
        "print('Mean Squared Error:', metrics.mean_squared_error(ey_test, ey_pred))  \n",
        "print('Root Mean Squared Error:', np.sqrt(metrics.mean_squared_error(ey_test, ey_pred)))\n",
        "print('Model Score:', pipeline.score(eX_test, ey_test))\n",
        "\n",
        "results_4b= {'Experiment': 'RFR_pipeline_outlier_removed_data_4b', 'MAE': metrics.mean_absolute_error(ey_test, ey_pred), 'MSE':metrics.mean_squared_error(ey_test, ey_pred)  , 'RMSE':np.sqrt(metrics.mean_squared_error(ey_test, ey_pred)), 'MS':pipeline.score(eX_test, ey_test)}"
      ],
      "execution_count": 0,
      "outputs": [
        {
          "output_type": "stream",
          "text": [
            "Mean Absolute Error: 2.6792530120481928\n",
            "Mean Squared Error: 14.306002650602407\n",
            "Root Mean Squared Error: 3.782327676260005\n",
            "Model Score: 0.6998901674845479\n"
          ],
          "name": "stdout"
        },
        {
          "output_type": "display_data",
          "data": {
            "image/png": "[encoded data removed]",
            "text/plain": [
              "<Figure size 432x288 with 1 Axes>"
            ]
          },
          "metadata": {
            "tags": []
          }
        }
      ]
    },
    {
      "cell_type": "code",
      "metadata": {
        "id": "i86nfLpYby1b",
        "colab_type": "code",
        "outputId": "3af8d067-1faf-4b46-eb70-f739ebd823cb",
        "colab": {
          "base_uri": "https://localhost:8080/",
          "height": 297
        }
      },
      "source": [
        "data = [results_1a,results_1b,results_2a,results_2b,results_3a,results_3b,results_4a,results_4b] \n",
        "Results_df = pd.DataFrame(data) \n",
        "Results_df"
      ],
      "execution_count": 0,
      "outputs": [
        {
          "output_type": "execute_result",
          "data": {
            "text/html": [
              "<div>\n",
              "<style scoped>\n",
              "    .dataframe tbody tr th:only-of-type {\n",
              "        vertical-align: middle;\n",
              "    }\n",
              "\n",
              "    .dataframe tbody tr th {\n",
              "        vertical-align: top;\n",
              "    }\n",
              "\n",
              "    .dataframe thead th {\n",
              "        text-align: right;\n",
              "    }\n",
              "</style>\n",
              "<table border=\"1\" class=\"dataframe\">\n",
              "  <thead>\n",
              "    <tr style=\"text-align: right;\">\n",
              "      <th></th>\n",
              "      <th>Experiment</th>\n",
              "      <th>MAE</th>\n",
              "      <th>MSE</th>\n",
              "      <th>RMSE</th>\n",
              "      <th>MS</th>\n",
              "    </tr>\n",
              "  </thead>\n",
              "  <tbody>\n",
              "    <tr>\n",
              "      <th>0</th>\n",
              "      <td>LR_original_data_1a</td>\n",
              "      <td>3.842909</td>\n",
              "      <td>33.448980</td>\n",
              "      <td>5.783509</td>\n",
              "      <td>0.589222</td>\n",
              "    </tr>\n",
              "    <tr>\n",
              "      <th>1</th>\n",
              "      <td>RFR_original_data_1b</td>\n",
              "      <td>2.658725</td>\n",
              "      <td>18.403583</td>\n",
              "      <td>4.289940</td>\n",
              "      <td>0.773991</td>\n",
              "    </tr>\n",
              "    <tr>\n",
              "      <th>2</th>\n",
              "      <td>LR_no_outlier_2a</td>\n",
              "      <td>2.474212</td>\n",
              "      <td>10.698651</td>\n",
              "      <td>3.270879</td>\n",
              "      <td>0.755220</td>\n",
              "    </tr>\n",
              "    <tr>\n",
              "      <th>3</th>\n",
              "      <td>RFR_no_outlier_2b</td>\n",
              "      <td>2.149349</td>\n",
              "      <td>9.673485</td>\n",
              "      <td>3.110223</td>\n",
              "      <td>0.892893</td>\n",
              "    </tr>\n",
              "    <tr>\n",
              "      <th>4</th>\n",
              "      <td>LR_pipeline_original_data_3a</td>\n",
              "      <td>3.644442</td>\n",
              "      <td>34.362359</td>\n",
              "      <td>5.861942</td>\n",
              "      <td>0.578005</td>\n",
              "    </tr>\n",
              "    <tr>\n",
              "      <th>5</th>\n",
              "      <td>RFR_pipeline_original_data_3b</td>\n",
              "      <td>2.986588</td>\n",
              "      <td>24.729676</td>\n",
              "      <td>4.972894</td>\n",
              "      <td>0.696302</td>\n",
              "    </tr>\n",
              "    <tr>\n",
              "      <th>6</th>\n",
              "      <td>LR_pipeline_outlier_removed_4a</td>\n",
              "      <td>2.391495</td>\n",
              "      <td>9.741465</td>\n",
              "      <td>3.121132</td>\n",
              "      <td>0.795645</td>\n",
              "    </tr>\n",
              "    <tr>\n",
              "      <th>7</th>\n",
              "      <td>RFR_pipeline_outlier_removed_data_4b</td>\n",
              "      <td>2.679253</td>\n",
              "      <td>14.306003</td>\n",
              "      <td>3.782328</td>\n",
              "      <td>0.699890</td>\n",
              "    </tr>\n",
              "  </tbody>\n",
              "</table>\n",
              "</div>"
            ],
            "text/plain": [
              "                             Experiment       MAE  ...      RMSE        MS\n",
              "0                   LR_original_data_1a  3.842909  ...  5.783509  0.589222\n",
              "1                  RFR_original_data_1b  2.658725  ...  4.289940  0.773991\n",
              "2                      LR_no_outlier_2a  2.474212  ...  3.270879  0.755220\n",
              "3                     RFR_no_outlier_2b  2.149349  ...  3.110223  0.892893\n",
              "4          LR_pipeline_original_data_3a  3.644442  ...  5.861942  0.578005\n",
              "5         RFR_pipeline_original_data_3b  2.986588  ...  4.972894  0.696302\n",
              "6        LR_pipeline_outlier_removed_4a  2.391495  ...  3.121132  0.795645\n",
              "7  RFR_pipeline_outlier_removed_data_4b  2.679253  ...  3.782328  0.699890\n",
              "\n",
              "[8 rows x 5 columns]"
            ]
          },
          "metadata": {
            "tags": []
          },
          "execution_count": 50
        }
      ]
    },
    {
      "cell_type": "code",
      "metadata": {
        "id": "8nkcfxZndsYg",
        "colab_type": "code",
        "outputId": "003fd0e2-9fab-4bda-abb3-6dd0da7d48d5",
        "colab": {
          "base_uri": "https://localhost:8080/",
          "height": 465
        }
      },
      "source": [
        "ax = plt.gca()\n",
        "\n",
        "Results_df.plot(kind='line',x='Experiment',y='MAE',ax=ax)\n",
        "Results_df.plot(kind='line',x='Experiment',y='MSE',ax=ax)\n",
        "Results_df.plot(kind='line',x='Experiment',y='RMSE',ax=ax)\n",
        "Results_df.plot(kind='line',x='Experiment',y='MS',ax=ax)\n",
        "plt.xticks(rotation=90)\n",
        "plt.show()"
      ],
      "execution_count": 0,
      "outputs": [
        {
          "output_type": "display_data",
          "data": {
            "image/png": "[encoded data removed]",
            "text/plain": [
              "<Figure size 432x288 with 1 Axes>"
            ]
          },
          "metadata": {
            "tags": []
          }
        }
      ]
    },
    {
      "cell_type": "markdown",
      "metadata": {
        "id": "baihAeM4N_HK",
        "colab_type": "text"
      },
      "source": [
        "**Extra Credit (20 points). Setting a common random seed (0) and 50 estimators, build the following models: Buil a pipeline for Polinomial linear regression (degree 2) on both the original and the outlier removed data. What do you observe when changing the degree to 3?**"
      ]
    },
    {
      "cell_type": "code",
      "metadata": {
        "id": "TgjAqL8LDEkY",
        "colab_type": "code",
        "outputId": "974827a9-6472-451b-862d-2cc107935260",
        "colab": {
          "base_uri": "https://localhost:8080/",
          "height": 373
        }
      },
      "source": [
        "# Extra Credit - Excercise 10\n",
        "\n",
        "#4b Pipeline with Polynomial Regression and outlier removed data\n",
        "from sklearn.pipeline import Pipeline\n",
        "from sklearn.model_selection import train_test_split\n",
        "\n",
        "eX = bos_removed.drop('PRICE', axis = 1)\n",
        "eY = bos_removed['PRICE']\n",
        "\n",
        "\n",
        "from sklearn.linear_model import LinearRegression\n",
        "from sklearn.preprocessing import PolynomialFeatures\n",
        "\n",
        "eX_train, eX_test, ey_train, ey_test = train_test_split(eX, eY, test_size = 0.20, random_state = 0)\n",
        "\n",
        "pipeline = Pipeline([\n",
        "    ('polynomial',PolynomialFeatures(degree=2)),\n",
        "    ('LR', LinearRegression())\n",
        "])\n",
        "\n",
        "pipeline.fit(eX_train, ey_train)\n",
        "\n",
        "ey_pred = pipeline.predict(eX_test)\n",
        "\n",
        "plt.scatter(ey_test, ey_pred)\n",
        "plt.xlabel(\"Prices: $Y_i$\")\n",
        "plt.ylabel(\"Predicted prices: $\\hat{Y}_i$\")\n",
        "plt.title(\"Prices vs Predicted prices: $Y_i$ vs $\\hat{Y}_i$\")\n",
        "\n",
        "from sklearn import metrics\n",
        "print('Mean Absolute Error:', metrics.mean_absolute_error(ey_test, ey_pred))  \n",
        "print('Mean Squared Error:', metrics.mean_squared_error(ey_test, ey_pred))  \n",
        "print('Root Mean Squared Error:', np.sqrt(metrics.mean_squared_error(ey_test, ey_pred)))\n",
        "print('Model Score:', pipeline.score(eX_test, ey_test))\n"
      ],
      "execution_count": 0,
      "outputs": [
        {
          "output_type": "stream",
          "text": [
            "Mean Absolute Error: 2.672789524836712\n",
            "Mean Squared Error: 13.028599586989868\n",
            "Root Mean Squared Error: 3.609515145693375\n",
            "Model Score: 0.7266873958115916\n"
          ],
          "name": "stdout"
        },
        {
          "output_type": "display_data",
          "data": {
            "image/png": "[encoded data removed]",
            "text/plain": [
              "<Figure size 432x288 with 1 Axes>"
            ]
          },
          "metadata": {
            "tags": []
          }
        }
      ]
    },
    {
      "cell_type": "code",
      "metadata": {
        "id": "vetx8OW_OWvy",
        "colab_type": "code",
        "outputId": "86100144-5b5b-403f-f608-2f0ee45ba7e1",
        "colab": {
          "base_uri": "https://localhost:8080/",
          "height": 373
        }
      },
      "source": [
        "# Extra Credit - Excercise 10\n",
        "\n",
        "#4b Pipeline with Polynomial Regression and original data\n",
        "from sklearn.pipeline import Pipeline\n",
        "from sklearn.model_selection import train_test_split\n",
        "\n",
        "eX = bos.drop('PRICE', axis = 1)\n",
        "eY = bos['PRICE']\n",
        "\n",
        "\n",
        "from sklearn.linear_model import LinearRegression\n",
        "from sklearn.preprocessing import PolynomialFeatures\n",
        "\n",
        "eX_train, eX_test, ey_train, ey_test = train_test_split(eX, eY, test_size = 0.20, random_state = 0)\n",
        "\n",
        "pipeline = Pipeline([\n",
        "    ('polynomial',PolynomialFeatures(degree=2)),\n",
        "    ('LR', LinearRegression())\n",
        "])\n",
        "\n",
        "pipeline.fit(eX_train, ey_train)\n",
        "\n",
        "ey_pred = pipeline.predict(eX_test)\n",
        "\n",
        "plt.scatter(ey_test, ey_pred)\n",
        "plt.xlabel(\"Prices: $Y_i$\")\n",
        "plt.ylabel(\"Predicted prices: $\\hat{Y}_i$\")\n",
        "plt.title(\"Prices vs Predicted prices: $Y_i$ vs $\\hat{Y}_i$\")\n",
        "\n",
        "from sklearn import metrics\n",
        "print('Mean Absolute Error:', metrics.mean_absolute_error(ey_test, ey_pred))  \n",
        "print('Mean Squared Error:', metrics.mean_squared_error(ey_test, ey_pred))  \n",
        "print('Root Mean Squared Error:', np.sqrt(metrics.mean_squared_error(ey_test, ey_pred)))\n",
        "print('Model Score:', pipeline.score(eX_test, ey_test))"
      ],
      "execution_count": 0,
      "outputs": [
        {
          "output_type": "stream",
          "text": [
            "Mean Absolute Error: 3.342738643814536\n",
            "Mean Squared Error: 25.215797416856976\n",
            "Root Mean Squared Error: 5.0215333730701195\n",
            "Model Score: 0.6903318090416943\n"
          ],
          "name": "stdout"
        },
        {
          "output_type": "display_data",
          "data": {
            "image/png": "[encoded data removed]",
            "text/plain": [
              "<Figure size 432x288 with 1 Axes>"
            ]
          },
          "metadata": {
            "tags": []
          }
        }
      ]
    },
    {
      "cell_type": "markdown",
      "metadata": {
        "id": "px_uHRZhefIA",
        "colab_type": "text"
      },
      "source": [
        "Sources:"
      ]
    },
    {
      "cell_type": "markdown",
      "metadata": {
        "id": "pkYCPQ-Ycc_I",
        "colab_type": "text"
      },
      "source": [
        "https://towardsdatascience.com/ways-to-detect-and-remove-the-outliers-404d16608dba\n",
        "\n",
        "https://scikit-learn.org/stable/modules/generated/sklearn.datasets.load_boston.html"
      ]
    }
  ]
}